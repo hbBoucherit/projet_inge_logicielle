{
 "cells": [
  {
   "cell_type": "markdown",
   "metadata": {},
   "source": [
    "## Exercice 1"
   ]
  },
  {
   "cell_type": "code",
   "execution_count": 1,
   "metadata": {
    "tags": []
   },
   "outputs": [
    {
     "output_type": "stream",
     "name": "stdout",
     "text": "Requirement already satisfied: urllib3 in /home/thinkdeep/.local/lib/python3.8/site-packages (1.25.9)\nRequirement already satisfied: pandas in /home/thinkdeep/.local/lib/python3.8/site-packages (1.0.3)\nRequirement already satisfied: python-dateutil&gt;=2.6.1 in /home/thinkdeep/.local/lib/python3.8/site-packages (from pandas) (2.8.1)\nRequirement already satisfied: pytz&gt;=2017.2 in /home/thinkdeep/.local/lib/python3.8/site-packages (from pandas) (2020.1)\nRequirement already satisfied: numpy&gt;=1.13.3 in /home/thinkdeep/.local/lib/python3.8/site-packages (from pandas) (1.18.2)\nRequirement already satisfied: six&gt;=1.5 in /home/thinkdeep/.local/lib/python3.8/site-packages (from python-dateutil&gt;=2.6.1-&gt;pandas) (1.15.0)\nRequirement already satisfied: numpy in /home/thinkdeep/.local/lib/python3.8/site-packages (1.18.2)\n"
    }
   ],
   "source": [
    "!pip3 install urllib3\n",
    "!pip3 install pandas\n",
    "!pip3 install numpy"
   ]
  },
  {
   "cell_type": "code",
   "execution_count": 2,
   "metadata": {},
   "outputs": [],
   "source": [
    "# Retrieve prediction from the wiidii model hosted on docker webservice \n",
    "import urllib.request\n",
    "# Structure of persistant data\n",
    "import json \n",
    "\n",
    "# Manipulation of tabular data\n",
    "import pandas as pd\n",
    "# Calculations with numericals\n",
    "import numpy as np"
   ]
  },
  {
   "cell_type": "code",
   "execution_count": 3,
   "metadata": {},
   "outputs": [],
   "source": [
    "#Reading training_set file \n",
    "with open('training_set.json', encoding=\"utf8\") as json_file:\n",
    "    training_data = json.load(json_file)\n",
    "    \n",
    "#Reading testing_set file \n",
    "with open('testing_set.json', encoding=\"utf8\") as json_file:\n",
    "    testing_data = json.load(json_file)"
   ]
  },
  {
   "cell_type": "code",
   "execution_count": 4,
   "metadata": {},
   "outputs": [],
   "source": [
    "# Parsing data from json structure to pandas Dataframe structure\n",
    "dataset_train = np.array([sample[\"sentence\"] for sample in training_data])\n",
    "target_train  = np.array([sample[\"intent\"] for sample in training_data])\n",
    "\n",
    "dataset_test = np.array([sample[\"sentence\"] for sample in testing_data])\n",
    "target_test  = np.array([sample[\"intent\"] for sample in testing_data])"
   ]
  },
  {
   "cell_type": "code",
   "execution_count": 5,
   "metadata": {
    "tags": []
   },
   "outputs": [
    {
     "output_type": "stream",
     "name": "stdout",
     "text": "Dataset shape : (6035,)\nTarget  shape : (6035,)\n\nDataset shape : (1065,)\nTarget  shape : (1065,)\n"
    }
   ],
   "source": [
    "# Checking shapes\n",
    "print(f\"Dataset shape : {dataset_train.shape}\");\n",
    "print(f\"Target  shape : {target_train.shape}\\n\");\n",
    "\n",
    "print(f\"Dataset shape : {dataset_test.shape}\");\n",
    "print(f\"Target  shape : {target_test.shape}\");"
   ]
  },
  {
   "cell_type": "code",
   "execution_count": 10,
   "metadata": {},
   "outputs": [],
   "source": [
    "# Changing types for better visualisation & computations\n",
    "x_train = pd.DataFrame(dataset_train,columns=[\"Sentence\"])\n",
    "y_train = pd.DataFrame(target_train, columns=[\"Intent\"])\n",
    "\n",
    "x_test = pd.DataFrame(dataset_test,columns=[\"Sentence\"])\n",
    "y_test = pd.DataFrame(target_test, columns=[\"Intent\"])"
   ]
  },
  {
   "cell_type": "code",
   "execution_count": 12,
   "metadata": {
    "tags": []
   },
   "outputs": [
    {
     "output_type": "stream",
     "name": "stdout",
     "text": "                                            Sentence\n0            Tu sais où je peux acheter un bazooka ?\n1                 déco de maison style maison ferret\n2                      j&#39;ai envie qu&#39;on se rencontre\n3             J’ai besoin de fleurs pr ma grand mère\n4  trouve à champigny-sur-marne où manger de la c...\n\n\n&lt;class &#39;pandas.core.frame.DataFrame&#39;&gt;\nRangeIndex: 1065 entries, 0 to 1064\nData columns (total 1 columns):\n #   Column    Non-Null Count  Dtype \n---  ------    --------------  ----- \n 0   Sentence  1065 non-null   object\ndtypes: object(1)\nmemory usage: 8.4+ KB\nNone\n\n\n"
    }
   ],
   "source": [
    "def study_data(x):\n",
    "    # Studying input data\n",
    "    print(x.head())\n",
    "    print(\"\\n\")\n",
    "    # Missing value\n",
    "    print(x.info())\n",
    "    print(\"\\n\")\n",
    "    # x.describe() no need for descriptive stats because categorical object\n",
    "\n",
    "study_data(x_test)"
   ]
  },
  {
   "cell_type": "code",
   "execution_count": 13,
   "metadata": {
    "tags": []
   },
   "outputs": [],
   "source": [
    "import urllib.parse\n",
    "# Getting prediction with 1065 test data\n",
    "def get_prediction_from_docker(sentence):\n",
    "    url = \"http://127.0.0.1:80/api/intent?sentence=\"+\"<\"+urllib.parse.quote(sentence)+\">\"\n",
    "    with urllib.request.urlopen(url) as response :\n",
    "        return json.load(response)"
   ]
  },
  {
   "cell_type": "code",
   "execution_count": 15,
   "metadata": {
    "tags": []
   },
   "outputs": [],
   "source": [
    "json_results = [get_prediction_from_docker(sentence) for sentence in x_test['Sentence']]"
   ]
  },
  {
   "cell_type": "code",
   "execution_count": 21,
   "metadata": {},
   "outputs": [
    {
     "output_type": "execute_result",
     "data": {
      "text/plain": "{&#39;find-train&#39;: 0.020727816969156265,\n &#39;irrelevant&#39;: 0.3929397463798523,\n &#39;find-flight&#39;: 0.03598225861787796,\n &#39;find-restaurant&#39;: 0.07283203303813934,\n &#39;purchase&#39;: 0.37030187249183655,\n &#39;find-around-me&#39;: 0.06633546948432922,\n &#39;provide-showtimes&#39;: 0.009604641236364841,\n &#39;find-hotel&#39;: 0.03127620369195938}"
     },
     "metadata": {},
     "execution_count": 21
    }
   ],
   "source": [
    "json_results[0]"
   ]
  },
  {
   "cell_type": "code",
   "execution_count": 57,
   "metadata": {
    "tags": []
   },
   "outputs": [
    {
     "output_type": "stream",
     "name": "stdout",
     "text": "[&#39;irrelevant&#39;, &#39;irrelevant&#39;, &#39;irrelevant&#39;, &#39;irrelevant&#39;, &#39;find-restaurant&#39;]\n"
    }
   ],
   "source": [
    "# Prepare to add the prediction feature in our final dataframe\n",
    "prediction_columns = ['find-train', 'irrelevant', 'find-flight', 'find-restaurant',\n",
    "           'purchase', 'find-around-me', 'provide-showtimes', 'find-hotel']\n",
    "predictions = [prediction_columns[np.argmax([json_results[i][value] for value in json_results[i]])] for i in range(len(json_results))]\n",
    "print(predictions[:5])"
   ]
  },
  {
   "cell_type": "code",
   "execution_count": 58,
   "metadata": {
    "tags": []
   },
   "outputs": [],
   "source": [
    "\n",
    "df_results = pd.DataFrame(json_results, columns=prediction_columns)\n",
    "df_prediction = pd.DataFrame(predictions, columns=[\"Predicted\"])"
   ]
  },
  {
   "cell_type": "code",
   "execution_count": 59,
   "metadata": {
    "tags": []
   },
   "outputs": [
    {
     "output_type": "stream",
     "name": "stdout",
     "text": "Nb de resultats : 1065\n"
    },
    {
     "output_type": "execute_result",
     "data": {
      "text/plain": "   find-train  irrelevant  find-flight  find-restaurant  purchase  \\\n0    0.020728    0.392940     0.035982         0.072832  0.370302   \n1    0.034970    0.531172     0.035429         0.038700  0.080105   \n2    0.017667    0.681269     0.025598         0.134089  0.050936   \n3    0.021682    0.429878     0.031576         0.038159  0.267280   \n4    0.027025    0.154664     0.010786         0.657717  0.098362   \n\n   find-around-me  provide-showtimes  find-hotel  \n0        0.066335           0.009605    0.031276  \n1        0.054041           0.029561    0.196022  \n2        0.029113           0.021443    0.039883  \n3        0.117537           0.014895    0.078994  \n4        0.023528           0.015831    0.012087  ",
      "text/html": "<div>\n<style scoped>\n    .dataframe tbody tr th:only-of-type {\n        vertical-align: middle;\n    }\n\n    .dataframe tbody tr th {\n        vertical-align: top;\n    }\n\n    .dataframe thead th {\n        text-align: right;\n    }\n</style>\n<table border=\"1\" class=\"dataframe\">\n  <thead>\n    <tr style=\"text-align: right;\">\n      <th></th>\n      <th>find-train</th>\n      <th>irrelevant</th>\n      <th>find-flight</th>\n      <th>find-restaurant</th>\n      <th>purchase</th>\n      <th>find-around-me</th>\n      <th>provide-showtimes</th>\n      <th>find-hotel</th>\n    </tr>\n  </thead>\n  <tbody>\n    <tr>\n      <th>0</th>\n      <td>0.020728</td>\n      <td>0.392940</td>\n      <td>0.035982</td>\n      <td>0.072832</td>\n      <td>0.370302</td>\n      <td>0.066335</td>\n      <td>0.009605</td>\n      <td>0.031276</td>\n    </tr>\n    <tr>\n      <th>1</th>\n      <td>0.034970</td>\n      <td>0.531172</td>\n      <td>0.035429</td>\n      <td>0.038700</td>\n      <td>0.080105</td>\n      <td>0.054041</td>\n      <td>0.029561</td>\n      <td>0.196022</td>\n    </tr>\n    <tr>\n      <th>2</th>\n      <td>0.017667</td>\n      <td>0.681269</td>\n      <td>0.025598</td>\n      <td>0.134089</td>\n      <td>0.050936</td>\n      <td>0.029113</td>\n      <td>0.021443</td>\n      <td>0.039883</td>\n    </tr>\n    <tr>\n      <th>3</th>\n      <td>0.021682</td>\n      <td>0.429878</td>\n      <td>0.031576</td>\n      <td>0.038159</td>\n      <td>0.267280</td>\n      <td>0.117537</td>\n      <td>0.014895</td>\n      <td>0.078994</td>\n    </tr>\n    <tr>\n      <th>4</th>\n      <td>0.027025</td>\n      <td>0.154664</td>\n      <td>0.010786</td>\n      <td>0.657717</td>\n      <td>0.098362</td>\n      <td>0.023528</td>\n      <td>0.015831</td>\n      <td>0.012087</td>\n    </tr>\n  </tbody>\n</table>\n</div>"
     },
     "metadata": {},
     "execution_count": 59
    }
   ],
   "source": [
    "print(f\"Nb de resultats : {len(df_results)}\")\n",
    "df_results.head()"
   ]
  },
  {
   "cell_type": "code",
   "execution_count": 60,
   "metadata": {
    "tags": []
   },
   "outputs": [
    {
     "output_type": "stream",
     "name": "stdout",
     "text": "Nb de resultats : 1065\n"
    },
    {
     "output_type": "execute_result",
     "data": {
      "text/plain": "         Predicted\n0       irrelevant\n1       irrelevant\n2       irrelevant\n3       irrelevant\n4  find-restaurant",
      "text/html": "<div>\n<style scoped>\n    .dataframe tbody tr th:only-of-type {\n        vertical-align: middle;\n    }\n\n    .dataframe tbody tr th {\n        vertical-align: top;\n    }\n\n    .dataframe thead th {\n        text-align: right;\n    }\n</style>\n<table border=\"1\" class=\"dataframe\">\n  <thead>\n    <tr style=\"text-align: right;\">\n      <th></th>\n      <th>Predicted</th>\n    </tr>\n  </thead>\n  <tbody>\n    <tr>\n      <th>0</th>\n      <td>irrelevant</td>\n    </tr>\n    <tr>\n      <th>1</th>\n      <td>irrelevant</td>\n    </tr>\n    <tr>\n      <th>2</th>\n      <td>irrelevant</td>\n    </tr>\n    <tr>\n      <th>3</th>\n      <td>irrelevant</td>\n    </tr>\n    <tr>\n      <th>4</th>\n      <td>find-restaurant</td>\n    </tr>\n  </tbody>\n</table>\n</div>"
     },
     "metadata": {},
     "execution_count": 60
    }
   ],
   "source": [
    "print(f\"Nb de resultats : {len(df_prediction)}\")\n",
    "df_prediction.head()"
   ]
  },
  {
   "cell_type": "code",
   "execution_count": 61,
   "metadata": {
    "tags": []
   },
   "outputs": [
    {
     "output_type": "stream",
     "name": "stdout",
     "text": "Nb d&#39;input : 1065\n"
    },
    {
     "output_type": "execute_result",
     "data": {
      "text/plain": "                                            Sentence\n0            Tu sais où je peux acheter un bazooka ?\n1                 déco de maison style maison ferret\n2                      j&#39;ai envie qu&#39;on se rencontre\n3             J’ai besoin de fleurs pr ma grand mère\n4  trouve à champigny-sur-marne où manger de la c...",
      "text/html": "<div>\n<style scoped>\n    .dataframe tbody tr th:only-of-type {\n        vertical-align: middle;\n    }\n\n    .dataframe tbody tr th {\n        vertical-align: top;\n    }\n\n    .dataframe thead th {\n        text-align: right;\n    }\n</style>\n<table border=\"1\" class=\"dataframe\">\n  <thead>\n    <tr style=\"text-align: right;\">\n      <th></th>\n      <th>Sentence</th>\n    </tr>\n  </thead>\n  <tbody>\n    <tr>\n      <th>0</th>\n      <td>Tu sais où je peux acheter un bazooka ?</td>\n    </tr>\n    <tr>\n      <th>1</th>\n      <td>déco de maison style maison ferret</td>\n    </tr>\n    <tr>\n      <th>2</th>\n      <td>j'ai envie qu'on se rencontre</td>\n    </tr>\n    <tr>\n      <th>3</th>\n      <td>J’ai besoin de fleurs pr ma grand mère</td>\n    </tr>\n    <tr>\n      <th>4</th>\n      <td>trouve à champigny-sur-marne où manger de la c...</td>\n    </tr>\n  </tbody>\n</table>\n</div>"
     },
     "metadata": {},
     "execution_count": 61
    }
   ],
   "source": [
    "print(f\"Nb d'input : {len(x_test)}\")\n",
    "x_test.head()"
   ]
  },
  {
   "cell_type": "code",
   "execution_count": 63,
   "metadata": {},
   "outputs": [
    {
     "output_type": "execute_result",
     "data": {
      "text/plain": "   find-train  irrelevant  find-flight  find-restaurant  purchase  \\\n0    0.020728    0.392940     0.035982         0.072832  0.370302   \n1    0.034970    0.531172     0.035429         0.038700  0.080105   \n2    0.017667    0.681269     0.025598         0.134089  0.050936   \n3    0.021682    0.429878     0.031576         0.038159  0.267280   \n4    0.027025    0.154664     0.010786         0.657717  0.098362   \n\n   find-around-me  provide-showtimes  find-hotel  \\\n0        0.066335           0.009605    0.031276   \n1        0.054041           0.029561    0.196022   \n2        0.029113           0.021443    0.039883   \n3        0.117537           0.014895    0.078994   \n4        0.023528           0.015831    0.012087   \n\n                                            Sentence        Predicted  \\\n0            Tu sais où je peux acheter un bazooka ?       irrelevant   \n1                 déco de maison style maison ferret       irrelevant   \n2                      j&#39;ai envie qu&#39;on se rencontre       irrelevant   \n3             J’ai besoin de fleurs pr ma grand mère       irrelevant   \n4  trouve à champigny-sur-marne où manger de la c...  find-restaurant   \n\n            Intent  \n0       irrelevant  \n1       irrelevant  \n2       irrelevant  \n3         purchase  \n4  find-restaurant  ",
      "text/html": "<div>\n<style scoped>\n    .dataframe tbody tr th:only-of-type {\n        vertical-align: middle;\n    }\n\n    .dataframe tbody tr th {\n        vertical-align: top;\n    }\n\n    .dataframe thead th {\n        text-align: right;\n    }\n</style>\n<table border=\"1\" class=\"dataframe\">\n  <thead>\n    <tr style=\"text-align: right;\">\n      <th></th>\n      <th>find-train</th>\n      <th>irrelevant</th>\n      <th>find-flight</th>\n      <th>find-restaurant</th>\n      <th>purchase</th>\n      <th>find-around-me</th>\n      <th>provide-showtimes</th>\n      <th>find-hotel</th>\n      <th>Sentence</th>\n      <th>Predicted</th>\n      <th>Intent</th>\n    </tr>\n  </thead>\n  <tbody>\n    <tr>\n      <th>0</th>\n      <td>0.020728</td>\n      <td>0.392940</td>\n      <td>0.035982</td>\n      <td>0.072832</td>\n      <td>0.370302</td>\n      <td>0.066335</td>\n      <td>0.009605</td>\n      <td>0.031276</td>\n      <td>Tu sais où je peux acheter un bazooka ?</td>\n      <td>irrelevant</td>\n      <td>irrelevant</td>\n    </tr>\n    <tr>\n      <th>1</th>\n      <td>0.034970</td>\n      <td>0.531172</td>\n      <td>0.035429</td>\n      <td>0.038700</td>\n      <td>0.080105</td>\n      <td>0.054041</td>\n      <td>0.029561</td>\n      <td>0.196022</td>\n      <td>déco de maison style maison ferret</td>\n      <td>irrelevant</td>\n      <td>irrelevant</td>\n    </tr>\n    <tr>\n      <th>2</th>\n      <td>0.017667</td>\n      <td>0.681269</td>\n      <td>0.025598</td>\n      <td>0.134089</td>\n      <td>0.050936</td>\n      <td>0.029113</td>\n      <td>0.021443</td>\n      <td>0.039883</td>\n      <td>j'ai envie qu'on se rencontre</td>\n      <td>irrelevant</td>\n      <td>irrelevant</td>\n    </tr>\n    <tr>\n      <th>3</th>\n      <td>0.021682</td>\n      <td>0.429878</td>\n      <td>0.031576</td>\n      <td>0.038159</td>\n      <td>0.267280</td>\n      <td>0.117537</td>\n      <td>0.014895</td>\n      <td>0.078994</td>\n      <td>J’ai besoin de fleurs pr ma grand mère</td>\n      <td>irrelevant</td>\n      <td>purchase</td>\n    </tr>\n    <tr>\n      <th>4</th>\n      <td>0.027025</td>\n      <td>0.154664</td>\n      <td>0.010786</td>\n      <td>0.657717</td>\n      <td>0.098362</td>\n      <td>0.023528</td>\n      <td>0.015831</td>\n      <td>0.012087</td>\n      <td>trouve à champigny-sur-marne où manger de la c...</td>\n      <td>find-restaurant</td>\n      <td>find-restaurant</td>\n    </tr>\n  </tbody>\n</table>\n</div>"
     },
     "metadata": {},
     "execution_count": 63
    }
   ],
   "source": [
    "# Merge input and prediction for further visualisation\n",
    "df_final = df_results.copy()\n",
    "df_final[\"Sentence\"]  = x_test[\"Sentence\"]\n",
    "df_final[\"Predicted\"] = df_prediction[\"Predicted\"]\n",
    "df_final[\"Intent\"]    = y_test[\"Intent\"]\n",
    "df_final.head()"
   ]
  },
  {
   "cell_type": "code",
   "execution_count": 98,
   "metadata": {},
   "outputs": [
    {
     "output_type": "execute_result",
     "data": {
      "text/plain": "irrelevant           677\npurchase             114\nfind-restaurant       93\nfind-around-me        67\nfind-hotel            55\nfind-flight           24\nfind-train            21\nprovide-showtimes     14\nName: Intent, dtype: int64"
     },
     "metadata": {},
     "execution_count": 98
    }
   ],
   "source": [
    "df_final[\"Intent\"].value_counts()"
   ]
  },
  {
   "cell_type": "code",
   "execution_count": 64,
   "metadata": {},
   "outputs": [],
   "source": [
    "df_final.to_csv(\"data_to_analyse_v0.csv\")"
   ]
  },
  {
   "cell_type": "code",
   "execution_count": 85,
   "metadata": {},
   "outputs": [],
   "source": [
    "from sklearn.metrics import confusion_matrix\n",
    "from sklearn.utils import check_matplotlib_support\n",
    "\n",
    "class ConfusionMatrixDisplay:\n",
    "    \"\"\"Confusion Matrix visualization.\n",
    "    It is recommend to use :func:`~sklearn.metrics.plot_confusion_matrix` to\n",
    "    create a :class:`ConfusionMatrixDisplay`. All parameters are stored as\n",
    "    attributes.\n",
    "    Read more in the :ref:`User Guide <visualizations>`.\n",
    "    Parameters\n",
    "    ----------\n",
    "    confusion_matrix : ndarray of shape (n_classes, n_classes)\n",
    "        Confusion matrix.\n",
    "    display_labels : ndarray of shape (n_classes,)\n",
    "        Display labels for plot.\n",
    "    Attributes\n",
    "    ----------\n",
    "    im_ : matplotlib AxesImage\n",
    "        Image representing the confusion matrix.\n",
    "    text_ : ndarray of shape (n_classes, n_classes), dtype=matplotlib Text, \\\n",
    "            or None\n",
    "        Array of matplotlib axes. `None` if `include_values` is false.\n",
    "    ax_ : matplotlib Axes\n",
    "        Axes with confusion matrix.\n",
    "    figure_ : matplotlib Figure\n",
    "        Figure containing the confusion matrix.\n",
    "    \"\"\"\n",
    "    def __init__(self, confusion_matrix, display_labels):\n",
    "        self.confusion_matrix = confusion_matrix\n",
    "        self.display_labels = display_labels\n",
    "\n",
    "    def plot(self, include_values=True, cmap='viridis',\n",
    "             xticks_rotation='horizontal', values_format=None, ax=None):\n",
    "        \"\"\"Plot visualization.\n",
    "        Parameters\n",
    "        ----------\n",
    "        include_values : bool, default=True\n",
    "            Includes values in confusion matrix.\n",
    "        cmap : str or matplotlib Colormap, default='viridis'\n",
    "            Colormap recognized by matplotlib.\n",
    "        xticks_rotation : {'vertical', 'horizontal'} or float, \\\n",
    "                         default='vertical'\n",
    "            Rotation of xtick labels.\n",
    "        values_format : str, default=None\n",
    "            Format specification for values in confusion matrix. If `None`,\n",
    "            the format specification is '.2f' for a normalized matrix, and\n",
    "            'd' for a unnormalized matrix.\n",
    "        ax : matplotlib axes, default=None\n",
    "            Axes object to plot on. If `None`, a new figure and axes is\n",
    "            created.\n",
    "        Returns\n",
    "        -------\n",
    "        display : :class:`~sklearn.metrics.ConfusionMatrixDisplay`\n",
    "        \"\"\"\n",
    "        check_matplotlib_support(\"ConfusionMatrixDisplay.plot\")\n",
    "        import matplotlib.pyplot as plt\n",
    "\n",
    "        if ax is None:\n",
    "            fig, ax = plt.subplots()\n",
    "        else:\n",
    "            fig = ax.figure\n",
    "\n",
    "        cm = self.confusion_matrix\n",
    "        n_classes = cm.shape[0]\n",
    "        self.im_ = ax.imshow(cm, interpolation='nearest', cmap=cmap)\n",
    "        self.text_ = None\n",
    "\n",
    "        cmap_min, cmap_max = self.im_.cmap(0), self.im_.cmap(256)\n",
    "\n",
    "        if include_values:\n",
    "            self.text_ = np.empty_like(cm, dtype=object)\n",
    "            if values_format is None:\n",
    "                values_format = '.2f'\n",
    "\n",
    "            # print text with appropriate color depending on background\n",
    "            thresh = (cm.max() - cm.min()) / 2.\n",
    "            for i, j in product(range(n_classes), range(n_classes)):\n",
    "                color = cmap_max if cm[i, j] < thresh else cmap_min\n",
    "                self.text_[i, j] = ax.text(j, i,\n",
    "                                           format(cm[i, j], values_format),\n",
    "                                           ha=\"center\", va=\"center\",\n",
    "                                           color=color)\n",
    "\n",
    "        fig.colorbar(self.im_, ax=ax)\n",
    "        ax.set(xticks=np.arange(n_classes),\n",
    "               yticks=np.arange(n_classes),\n",
    "               xticklabels=self.display_labels,\n",
    "               yticklabels=self.display_labels,\n",
    "               ylabel=\"True label\",\n",
    "               xlabel=\"Predicted label\")\n",
    "\n",
    "        ax.set_ylim((n_classes - 0.5, -0.5))\n",
    "        plt.setp(ax.get_xticklabels(), rotation=xticks_rotation)\n",
    "\n",
    "        self.figure_ = fig\n",
    "        self.ax_ = ax\n",
    "        return self\n",
    "\n",
    "\n",
    "def plot_confusion_matrix(y_pred, y_true, labels=None,\n",
    "                          sample_weight=None, normalize=None,\n",
    "                          display_labels=None, include_values=True,\n",
    "                          xticks_rotation='vertical',\n",
    "                          values_format=None,\n",
    "                          cmap='viridis', ax=None):\n",
    "    \"\"\"Plot Confusion Matrix.\n",
    "    Read more in the :ref:`User Guide <confusion_matrix>`.\n",
    "    Parameters\n",
    "    ----------\n",
    "    estimator : estimator instance\n",
    "        Trained classifier.\n",
    "    X : {array-like, sparse matrix} of shape (n_samples, n_features)\n",
    "        Input values.\n",
    "    y : array-like of shape (n_samples,)\n",
    "        Target values.\n",
    "    labels : array-like of shape (n_classes,), default=None\n",
    "        List of labels to index the matrix. This may be used to reorder or\n",
    "        select a subset of labels. If `None` is given, those that appear at\n",
    "        least once in `y_true` or `y_pred` are used in sorted order.\n",
    "    sample_weight : array-like of shape (n_samples,), default=None\n",
    "        Sample weights.\n",
    "    normalize : {'true', 'pred', 'all'}, default=None\n",
    "        Normalizes confusion matrix over the true (rows), predicted (columns)\n",
    "        conditions or all the population. If None, confusion matrix will not be\n",
    "        normalized.\n",
    "    display_labels : array-like of shape (n_classes,), default=None\n",
    "        Target names used for plotting. By default, `labels` will be used if\n",
    "        it is defined, otherwise the unique labels of `y_true` and `y_pred`\n",
    "        will be used.\n",
    "    include_values : bool, default=True\n",
    "        Includes values in confusion matrix.\n",
    "    xticks_rotation : {'vertical', 'horizontal'} or float, \\\n",
    "                        default='vertical'\n",
    "        Rotation of xtick labels.\n",
    "    values_format : str, default=None\n",
    "        Format specification for values in confusion matrix. If `None`,\n",
    "        the format specification is '.2f' for a normalized matrix, and\n",
    "        'd' for a unnormalized matrix.\n",
    "    cmap : str or matplotlib Colormap, default='viridis'\n",
    "        Colormap recognized by matplotlib.\n",
    "    ax : matplotlib Axes, default=None\n",
    "        Axes object to plot on. If `None`, a new figure and axes is\n",
    "        created.\n",
    "    Returns\n",
    "    -------\n",
    "    display : :class:`~sklearn.metrics.ConfusionMatrixDisplay`\n",
    "    \"\"\"\n",
    "    check_matplotlib_support(\"plot_confusion_matrix\")\n",
    "\n",
    "    if normalize not in {'true', 'pred', 'all', None}:\n",
    "        raise ValueError(\"normalize must be one of {'true', 'pred', \"\n",
    "                         \"'all', None}\")\n",
    "\n",
    "    cm = confusion_matrix(y_true, y_pred, sample_weight=sample_weight,\n",
    "                          labels=labels, normalize=normalize)\n",
    "\n",
    "    if display_labels is None:\n",
    "        display_labels = labels\n",
    "\n",
    "    disp = ConfusionMatrixDisplay(confusion_matrix=cm,\n",
    "                                  display_labels=display_labels)\n",
    "    return disp.plot(include_values=include_values,\n",
    "                     cmap=cmap, ax=ax, xticks_rotation=xticks_rotation)"
   ]
  },
  {
   "cell_type": "code",
   "execution_count": 86,
   "metadata": {},
   "outputs": [
    {
     "output_type": "execute_result",
     "data": {
      "text/plain": "&lt;__main__.ConfusionMatrixDisplay at 0x7f6b1986fbb0&gt;"
     },
     "metadata": {},
     "execution_count": 86
    },
    {
     "output_type": "display_data",
     "data": {
      "text/plain": "&lt;Figure size 720x288 with 0 Axes&gt;"
     },
     "metadata": {}
    },
    {
     "output_type": "display_data",
     "data": {
      "text/plain": "&lt;Figure size 432x288 with 2 Axes&gt;",
      "image/svg+xml": "<?xml version=\"1.0\" encoding=\"utf-8\" standalone=\"no\"?>\n<!DOCTYPE svg PUBLIC \"-//W3C//DTD SVG 1.1//EN\"\n  \"http://www.w3.org/Graphics/SVG/1.1/DTD/svg11.dtd\">\n<!-- Created with matplotlib (https://matplotlib.org/) -->\n<svg height=\"347.322812pt\" version=\"1.1\" viewBox=\"0 0 397.837937 347.322812\" width=\"397.837937pt\" xmlns=\"http://www.w3.org/2000/svg\" xmlns:xlink=\"http://www.w3.org/1999/xlink\">\n <defs>\n  <style type=\"text/css\">\n*{stroke-linecap:butt;stroke-linejoin:round;}\n  </style>\n </defs>\n <g id=\"figure_1\">\n  <g id=\"patch_1\">\n   <path d=\"M 0 347.322812 \nL 397.837937 347.322812 \nL 397.837937 0 \nL 0 0 \nz\n\" style=\"fill:none;\"/>\n  </g>\n  <g id=\"axes_1\">\n   <g id=\"patch_2\">\n    <path d=\"M 122.682813 224.64 \nL 340.122812 224.64 \nL 340.122812 7.2 \nL 122.682813 7.2 \nz\n\" style=\"fill:#ffffff;\"/>\n   </g>\n   <g clip-path=\"url(#p5191aacc1d)\">\n    <image height=\"218\" id=\"imagedc2e759f66\" transform=\"scale(1 -1)translate(0 -218)\" width=\"218\" x=\"122.682813\" xlink:href=\"data:image/png;base64,\niVBORw0KGgoAAAANSUhEUgAAANoAAADaCAYAAADAHVzbAAAABHNCSVQICAgIfAhkiAAAA6pJREFUeJzt3LFqHXQYh+Hv5ASaUmgTzWKJICWZujiJOtilIGToFOjq6urWK+gWvJrS3kCVguBuB6HFIdimSdAuPYmDt2Degn2eG/idczgv/+1b3F0cXEzk+eGX1dTs/vBztjUzs9z+ONs6PznLthYbV7Kt87Pue83MvHzwdba1li3BB0xoEBAaBIQGAaFBQGgQEBoEhAYBoUFAaBAQGgSEBgGhQUBoEBAaBIQGAaFBQGgQEBoEhAYBoUFAaBAQGgSEBgGhQUBoEFgvxzb3XpdzqdWfr973R7gUy+2Psq3je7ezrZmZnYdPsy0vGgSEBgGhQUBoEBAaBIQGAaFBQGgQEBoEhAYBoUFAaBAQGgSEBgGhQUBoEBAaBIQGAaFBQGgQEBoEhAYBoUFAaBAQGgSEBgGhQSC9vX/8+1a2tZ0t/Wu5eSPbWly7lm29uP9ZtvXJYXcLv+ZFg4DQICA0CAgNAkKDgNAgIDQICA0CQoOA0CAgNAgIDQJCg4DQICA0CAgNAkKDgNAgIDQICA0CQoOA0CAgNAgIDQJCg4DQIJCeBN84WnZja+HWzKzenGRbv/24m23tfff/PdNd/ke8aBAQGgSEBgGhQUBoEBAaBIQGAaFBQGgQEBoEhAYBoUFAaBAQGgSEBgGhQUBoEBAaBIQGAaFBQGgQEBoEhAYBoUFAaBAQGgTSk+BXjy66sfNVtzUzJ4/CM937v2Rb/De8aBAQGgSEBgGhQUBoEBAaBIQGAaFBQGgQEBoEhAYBoUFAaBAQGgSEBgGhQUBoEBAaBIQGAaFBQGgQEBoEhAYBoUFAaBAQGgTSk+And95mW+t/f5Vtzcxs7v+Uba1/upNtvXvxMttaXr+ebc3MrE5Psy0vGgSEBgGhQUBoEBAaBIQGAaFBQGgQEBoEhAYBoUFAaBAQGgSEBgGhQUBoEBAaBIQGAaFBQGgQEBoEhAYBoUFAaBAQGgSEBgGhQWBxd3FwUY09+ePXamq+vfl5tpVbLLqti+zv0Qt/Ry8aBIQGAaFBQGgQEBoEhAYBoUFAaBAQGgSEBgGhQUBoEBAaBIQGAaFBQGgQEBoEhAYBoUFAaBAQGgSEBgGhQUBoEBAaBIQGgfW/Ht/Kxr75/ots6+o8y7ZmZpZbW+leZXV8/L4/wuUJz5170SAgNAgIDQJCg4DQICA0CAgNAkKDgNAgIDQICA0CQoOA0CAgNAgIDQJCg4DQICA0CAgNAkKDgNAgIDQICA0CQoOA0CAgNAj8A11cQRJnedE4AAAAAElFTkSuQmCC\" y=\"-6.64\"/>\n   </g>\n   <g id=\"matplotlib.axis_1\">\n    <g id=\"xtick_1\">\n     <g id=\"line2d_1\">\n      <defs>\n       <path d=\"M 0 0 \nL 0 3.5 \n\" id=\"mc9ec57b22b\" style=\"stroke:#000000;stroke-width:0.8;\"/>\n      </defs>\n      <g>\n       <use style=\"stroke:#000000;stroke-width:0.8;\" x=\"136.272813\" xlink:href=\"#mc9ec57b22b\" y=\"224.64\"/>\n      </g>\n     </g>\n     <g id=\"text_1\">\n      <!-- find-train -->\n      <defs>\n       <path d=\"M 37.109375 75.984375 \nL 37.109375 68.5 \nL 28.515625 68.5 \nQ 23.6875 68.5 21.796875 66.546875 \nQ 19.921875 64.59375 19.921875 59.515625 \nL 19.921875 54.6875 \nL 34.71875 54.6875 \nL 34.71875 47.703125 \nL 19.921875 47.703125 \nL 19.921875 0 \nL 10.890625 0 \nL 10.890625 47.703125 \nL 2.296875 47.703125 \nL 2.296875 54.6875 \nL 10.890625 54.6875 \nL 10.890625 58.5 \nQ 10.890625 67.625 15.140625 71.796875 \nQ 19.390625 75.984375 28.609375 75.984375 \nz\n\" id=\"DejaVuSans-102\"/>\n       <path d=\"M 9.421875 54.6875 \nL 18.40625 54.6875 \nL 18.40625 0 \nL 9.421875 0 \nz\nM 9.421875 75.984375 \nL 18.40625 75.984375 \nL 18.40625 64.59375 \nL 9.421875 64.59375 \nz\n\" id=\"DejaVuSans-105\"/>\n       <path d=\"M 54.890625 33.015625 \nL 54.890625 0 \nL 45.90625 0 \nL 45.90625 32.71875 \nQ 45.90625 40.484375 42.875 44.328125 \nQ 39.84375 48.1875 33.796875 48.1875 \nQ 26.515625 48.1875 22.3125 43.546875 \nQ 18.109375 38.921875 18.109375 30.90625 \nL 18.109375 0 \nL 9.078125 0 \nL 9.078125 54.6875 \nL 18.109375 54.6875 \nL 18.109375 46.1875 \nQ 21.34375 51.125 25.703125 53.5625 \nQ 30.078125 56 35.796875 56 \nQ 45.21875 56 50.046875 50.171875 \nQ 54.890625 44.34375 54.890625 33.015625 \nz\n\" id=\"DejaVuSans-110\"/>\n       <path d=\"M 45.40625 46.390625 \nL 45.40625 75.984375 \nL 54.390625 75.984375 \nL 54.390625 0 \nL 45.40625 0 \nL 45.40625 8.203125 \nQ 42.578125 3.328125 38.25 0.953125 \nQ 33.9375 -1.421875 27.875 -1.421875 \nQ 17.96875 -1.421875 11.734375 6.484375 \nQ 5.515625 14.40625 5.515625 27.296875 \nQ 5.515625 40.1875 11.734375 48.09375 \nQ 17.96875 56 27.875 56 \nQ 33.9375 56 38.25 53.625 \nQ 42.578125 51.265625 45.40625 46.390625 \nz\nM 14.796875 27.296875 \nQ 14.796875 17.390625 18.875 11.75 \nQ 22.953125 6.109375 30.078125 6.109375 \nQ 37.203125 6.109375 41.296875 11.75 \nQ 45.40625 17.390625 45.40625 27.296875 \nQ 45.40625 37.203125 41.296875 42.84375 \nQ 37.203125 48.484375 30.078125 48.484375 \nQ 22.953125 48.484375 18.875 42.84375 \nQ 14.796875 37.203125 14.796875 27.296875 \nz\n\" id=\"DejaVuSans-100\"/>\n       <path d=\"M 4.890625 31.390625 \nL 31.203125 31.390625 \nL 31.203125 23.390625 \nL 4.890625 23.390625 \nz\n\" id=\"DejaVuSans-45\"/>\n       <path d=\"M 18.3125 70.21875 \nL 18.3125 54.6875 \nL 36.8125 54.6875 \nL 36.8125 47.703125 \nL 18.3125 47.703125 \nL 18.3125 18.015625 \nQ 18.3125 11.328125 20.140625 9.421875 \nQ 21.96875 7.515625 27.59375 7.515625 \nL 36.8125 7.515625 \nL 36.8125 0 \nL 27.59375 0 \nQ 17.1875 0 13.234375 3.875 \nQ 9.28125 7.765625 9.28125 18.015625 \nL 9.28125 47.703125 \nL 2.6875 47.703125 \nL 2.6875 54.6875 \nL 9.28125 54.6875 \nL 9.28125 70.21875 \nz\n\" id=\"DejaVuSans-116\"/>\n       <path d=\"M 41.109375 46.296875 \nQ 39.59375 47.171875 37.8125 47.578125 \nQ 36.03125 48 33.890625 48 \nQ 26.265625 48 22.1875 43.046875 \nQ 18.109375 38.09375 18.109375 28.8125 \nL 18.109375 0 \nL 9.078125 0 \nL 9.078125 54.6875 \nL 18.109375 54.6875 \nL 18.109375 46.1875 \nQ 20.953125 51.171875 25.484375 53.578125 \nQ 30.03125 56 36.53125 56 \nQ 37.453125 56 38.578125 55.875 \nQ 39.703125 55.765625 41.0625 55.515625 \nz\n\" id=\"DejaVuSans-114\"/>\n       <path d=\"M 34.28125 27.484375 \nQ 23.390625 27.484375 19.1875 25 \nQ 14.984375 22.515625 14.984375 16.5 \nQ 14.984375 11.71875 18.140625 8.90625 \nQ 21.296875 6.109375 26.703125 6.109375 \nQ 34.1875 6.109375 38.703125 11.40625 \nQ 43.21875 16.703125 43.21875 25.484375 \nL 43.21875 27.484375 \nz\nM 52.203125 31.203125 \nL 52.203125 0 \nL 43.21875 0 \nL 43.21875 8.296875 \nQ 40.140625 3.328125 35.546875 0.953125 \nQ 30.953125 -1.421875 24.3125 -1.421875 \nQ 15.921875 -1.421875 10.953125 3.296875 \nQ 6 8.015625 6 15.921875 \nQ 6 25.140625 12.171875 29.828125 \nQ 18.359375 34.515625 30.609375 34.515625 \nL 43.21875 34.515625 \nL 43.21875 35.40625 \nQ 43.21875 41.609375 39.140625 45 \nQ 35.0625 48.390625 27.6875 48.390625 \nQ 23 48.390625 18.546875 47.265625 \nQ 14.109375 46.140625 10.015625 43.890625 \nL 10.015625 52.203125 \nQ 14.9375 54.109375 19.578125 55.046875 \nQ 24.21875 56 28.609375 56 \nQ 40.484375 56 46.34375 49.84375 \nQ 52.203125 43.703125 52.203125 31.203125 \nz\n\" id=\"DejaVuSans-97\"/>\n      </defs>\n      <g transform=\"translate(139.032188 277.507187)rotate(-90)scale(0.1 -0.1)\">\n       <use xlink:href=\"#DejaVuSans-102\"/>\n       <use x=\"35.205078\" xlink:href=\"#DejaVuSans-105\"/>\n       <use x=\"62.988281\" xlink:href=\"#DejaVuSans-110\"/>\n       <use x=\"126.367188\" xlink:href=\"#DejaVuSans-100\"/>\n       <use x=\"189.84375\" xlink:href=\"#DejaVuSans-45\"/>\n       <use x=\"225.927734\" xlink:href=\"#DejaVuSans-116\"/>\n       <use x=\"265.136719\" xlink:href=\"#DejaVuSans-114\"/>\n       <use x=\"306.25\" xlink:href=\"#DejaVuSans-97\"/>\n       <use x=\"367.529297\" xlink:href=\"#DejaVuSans-105\"/>\n       <use x=\"395.3125\" xlink:href=\"#DejaVuSans-110\"/>\n      </g>\n     </g>\n    </g>\n    <g id=\"xtick_2\">\n     <g id=\"line2d_2\">\n      <g>\n       <use style=\"stroke:#000000;stroke-width:0.8;\" x=\"163.452812\" xlink:href=\"#mc9ec57b22b\" y=\"224.64\"/>\n      </g>\n     </g>\n     <g id=\"text_2\">\n      <!-- irrelevant -->\n      <defs>\n       <path d=\"M 56.203125 29.59375 \nL 56.203125 25.203125 \nL 14.890625 25.203125 \nQ 15.484375 15.921875 20.484375 11.0625 \nQ 25.484375 6.203125 34.421875 6.203125 \nQ 39.59375 6.203125 44.453125 7.46875 \nQ 49.3125 8.734375 54.109375 11.28125 \nL 54.109375 2.78125 \nQ 49.265625 0.734375 44.1875 -0.34375 \nQ 39.109375 -1.421875 33.890625 -1.421875 \nQ 20.796875 -1.421875 13.15625 6.1875 \nQ 5.515625 13.8125 5.515625 26.8125 \nQ 5.515625 40.234375 12.765625 48.109375 \nQ 20.015625 56 32.328125 56 \nQ 43.359375 56 49.78125 48.890625 \nQ 56.203125 41.796875 56.203125 29.59375 \nz\nM 47.21875 32.234375 \nQ 47.125 39.59375 43.09375 43.984375 \nQ 39.0625 48.390625 32.421875 48.390625 \nQ 24.90625 48.390625 20.390625 44.140625 \nQ 15.875 39.890625 15.1875 32.171875 \nz\n\" id=\"DejaVuSans-101\"/>\n       <path d=\"M 9.421875 75.984375 \nL 18.40625 75.984375 \nL 18.40625 0 \nL 9.421875 0 \nz\n\" id=\"DejaVuSans-108\"/>\n       <path d=\"M 2.984375 54.6875 \nL 12.5 54.6875 \nL 29.59375 8.796875 \nL 46.6875 54.6875 \nL 56.203125 54.6875 \nL 35.6875 0 \nL 23.484375 0 \nz\n\" id=\"DejaVuSans-118\"/>\n      </defs>\n      <g transform=\"translate(166.212187 279.629063)rotate(-90)scale(0.1 -0.1)\">\n       <use xlink:href=\"#DejaVuSans-105\"/>\n       <use x=\"27.783203\" xlink:href=\"#DejaVuSans-114\"/>\n       <use x=\"67.146484\" xlink:href=\"#DejaVuSans-114\"/>\n       <use x=\"106.009766\" xlink:href=\"#DejaVuSans-101\"/>\n       <use x=\"167.533203\" xlink:href=\"#DejaVuSans-108\"/>\n       <use x=\"195.316406\" xlink:href=\"#DejaVuSans-101\"/>\n       <use x=\"256.839844\" xlink:href=\"#DejaVuSans-118\"/>\n       <use x=\"316.019531\" xlink:href=\"#DejaVuSans-97\"/>\n       <use x=\"377.298828\" xlink:href=\"#DejaVuSans-110\"/>\n       <use x=\"440.677734\" xlink:href=\"#DejaVuSans-116\"/>\n      </g>\n     </g>\n    </g>\n    <g id=\"xtick_3\">\n     <g id=\"line2d_3\">\n      <g>\n       <use style=\"stroke:#000000;stroke-width:0.8;\" x=\"190.632812\" xlink:href=\"#mc9ec57b22b\" y=\"224.64\"/>\n      </g>\n     </g>\n     <g id=\"text_3\">\n      <!-- find-flight -->\n      <defs>\n       <path d=\"M 45.40625 27.984375 \nQ 45.40625 37.75 41.375 43.109375 \nQ 37.359375 48.484375 30.078125 48.484375 \nQ 22.859375 48.484375 18.828125 43.109375 \nQ 14.796875 37.75 14.796875 27.984375 \nQ 14.796875 18.265625 18.828125 12.890625 \nQ 22.859375 7.515625 30.078125 7.515625 \nQ 37.359375 7.515625 41.375 12.890625 \nQ 45.40625 18.265625 45.40625 27.984375 \nz\nM 54.390625 6.78125 \nQ 54.390625 -7.171875 48.1875 -13.984375 \nQ 42 -20.796875 29.203125 -20.796875 \nQ 24.46875 -20.796875 20.265625 -20.09375 \nQ 16.0625 -19.390625 12.109375 -17.921875 \nL 12.109375 -9.1875 \nQ 16.0625 -11.328125 19.921875 -12.34375 \nQ 23.78125 -13.375 27.78125 -13.375 \nQ 36.625 -13.375 41.015625 -8.765625 \nQ 45.40625 -4.15625 45.40625 5.171875 \nL 45.40625 9.625 \nQ 42.625 4.78125 38.28125 2.390625 \nQ 33.9375 0 27.875 0 \nQ 17.828125 0 11.671875 7.65625 \nQ 5.515625 15.328125 5.515625 27.984375 \nQ 5.515625 40.671875 11.671875 48.328125 \nQ 17.828125 56 27.875 56 \nQ 33.9375 56 38.28125 53.609375 \nQ 42.625 51.21875 45.40625 46.390625 \nL 45.40625 54.6875 \nL 54.390625 54.6875 \nz\n\" id=\"DejaVuSans-103\"/>\n       <path d=\"M 54.890625 33.015625 \nL 54.890625 0 \nL 45.90625 0 \nL 45.90625 32.71875 \nQ 45.90625 40.484375 42.875 44.328125 \nQ 39.84375 48.1875 33.796875 48.1875 \nQ 26.515625 48.1875 22.3125 43.546875 \nQ 18.109375 38.921875 18.109375 30.90625 \nL 18.109375 0 \nL 9.078125 0 \nL 9.078125 75.984375 \nL 18.109375 75.984375 \nL 18.109375 46.1875 \nQ 21.34375 51.125 25.703125 53.5625 \nQ 30.078125 56 35.796875 56 \nQ 45.21875 56 50.046875 50.171875 \nQ 54.890625 44.34375 54.890625 33.015625 \nz\n\" id=\"DejaVuSans-104\"/>\n      </defs>\n      <g transform=\"translate(193.392188 279.915)rotate(-90)scale(0.1 -0.1)\">\n       <use xlink:href=\"#DejaVuSans-102\"/>\n       <use x=\"35.205078\" xlink:href=\"#DejaVuSans-105\"/>\n       <use x=\"62.988281\" xlink:href=\"#DejaVuSans-110\"/>\n       <use x=\"126.367188\" xlink:href=\"#DejaVuSans-100\"/>\n       <use x=\"189.84375\" xlink:href=\"#DejaVuSans-45\"/>\n       <use x=\"225.927734\" xlink:href=\"#DejaVuSans-102\"/>\n       <use x=\"261.132812\" xlink:href=\"#DejaVuSans-108\"/>\n       <use x=\"288.916016\" xlink:href=\"#DejaVuSans-105\"/>\n       <use x=\"316.699219\" xlink:href=\"#DejaVuSans-103\"/>\n       <use x=\"380.175781\" xlink:href=\"#DejaVuSans-104\"/>\n       <use x=\"443.554688\" xlink:href=\"#DejaVuSans-116\"/>\n      </g>\n     </g>\n    </g>\n    <g id=\"xtick_4\">\n     <g id=\"line2d_4\">\n      <g>\n       <use style=\"stroke:#000000;stroke-width:0.8;\" x=\"217.812813\" xlink:href=\"#mc9ec57b22b\" y=\"224.64\"/>\n      </g>\n     </g>\n     <g id=\"text_4\">\n      <!-- find-restaurant -->\n      <defs>\n       <path d=\"M 44.28125 53.078125 \nL 44.28125 44.578125 \nQ 40.484375 46.53125 36.375 47.5 \nQ 32.28125 48.484375 27.875 48.484375 \nQ 21.1875 48.484375 17.84375 46.4375 \nQ 14.5 44.390625 14.5 40.28125 \nQ 14.5 37.15625 16.890625 35.375 \nQ 19.28125 33.59375 26.515625 31.984375 \nL 29.59375 31.296875 \nQ 39.15625 29.25 43.1875 25.515625 \nQ 47.21875 21.78125 47.21875 15.09375 \nQ 47.21875 7.46875 41.1875 3.015625 \nQ 35.15625 -1.421875 24.609375 -1.421875 \nQ 20.21875 -1.421875 15.453125 -0.5625 \nQ 10.6875 0.296875 5.421875 2 \nL 5.421875 11.28125 \nQ 10.40625 8.6875 15.234375 7.390625 \nQ 20.0625 6.109375 24.8125 6.109375 \nQ 31.15625 6.109375 34.5625 8.28125 \nQ 37.984375 10.453125 37.984375 14.40625 \nQ 37.984375 18.0625 35.515625 20.015625 \nQ 33.0625 21.96875 24.703125 23.78125 \nL 21.578125 24.515625 \nQ 13.234375 26.265625 9.515625 29.90625 \nQ 5.8125 33.546875 5.8125 39.890625 \nQ 5.8125 47.609375 11.28125 51.796875 \nQ 16.75 56 26.8125 56 \nQ 31.78125 56 36.171875 55.265625 \nQ 40.578125 54.546875 44.28125 53.078125 \nz\n\" id=\"DejaVuSans-115\"/>\n       <path d=\"M 8.5 21.578125 \nL 8.5 54.6875 \nL 17.484375 54.6875 \nL 17.484375 21.921875 \nQ 17.484375 14.15625 20.5 10.265625 \nQ 23.53125 6.390625 29.59375 6.390625 \nQ 36.859375 6.390625 41.078125 11.03125 \nQ 45.3125 15.671875 45.3125 23.6875 \nL 45.3125 54.6875 \nL 54.296875 54.6875 \nL 54.296875 0 \nL 45.3125 0 \nL 45.3125 8.40625 \nQ 42.046875 3.421875 37.71875 1 \nQ 33.40625 -1.421875 27.6875 -1.421875 \nQ 18.265625 -1.421875 13.375 4.4375 \nQ 8.5 10.296875 8.5 21.578125 \nz\nM 31.109375 56 \nz\n\" id=\"DejaVuSans-117\"/>\n      </defs>\n      <g transform=\"translate(220.572188 306.363438)rotate(-90)scale(0.1 -0.1)\">\n       <use xlink:href=\"#DejaVuSans-102\"/>\n       <use x=\"35.205078\" xlink:href=\"#DejaVuSans-105\"/>\n       <use x=\"62.988281\" xlink:href=\"#DejaVuSans-110\"/>\n       <use x=\"126.367188\" xlink:href=\"#DejaVuSans-100\"/>\n       <use x=\"189.84375\" xlink:href=\"#DejaVuSans-45\"/>\n       <use x=\"225.927734\" xlink:href=\"#DejaVuSans-114\"/>\n       <use x=\"264.791016\" xlink:href=\"#DejaVuSans-101\"/>\n       <use x=\"326.314453\" xlink:href=\"#DejaVuSans-115\"/>\n       <use x=\"378.414062\" xlink:href=\"#DejaVuSans-116\"/>\n       <use x=\"417.623047\" xlink:href=\"#DejaVuSans-97\"/>\n       <use x=\"478.902344\" xlink:href=\"#DejaVuSans-117\"/>\n       <use x=\"542.28125\" xlink:href=\"#DejaVuSans-114\"/>\n       <use x=\"583.394531\" xlink:href=\"#DejaVuSans-97\"/>\n       <use x=\"644.673828\" xlink:href=\"#DejaVuSans-110\"/>\n       <use x=\"708.052734\" xlink:href=\"#DejaVuSans-116\"/>\n      </g>\n     </g>\n    </g>\n    <g id=\"xtick_5\">\n     <g id=\"line2d_5\">\n      <g>\n       <use style=\"stroke:#000000;stroke-width:0.8;\" x=\"244.992812\" xlink:href=\"#mc9ec57b22b\" y=\"224.64\"/>\n      </g>\n     </g>\n     <g id=\"text_5\">\n      <!-- purchase -->\n      <defs>\n       <path d=\"M 18.109375 8.203125 \nL 18.109375 -20.796875 \nL 9.078125 -20.796875 \nL 9.078125 54.6875 \nL 18.109375 54.6875 \nL 18.109375 46.390625 \nQ 20.953125 51.265625 25.265625 53.625 \nQ 29.59375 56 35.59375 56 \nQ 45.5625 56 51.78125 48.09375 \nQ 58.015625 40.1875 58.015625 27.296875 \nQ 58.015625 14.40625 51.78125 6.484375 \nQ 45.5625 -1.421875 35.59375 -1.421875 \nQ 29.59375 -1.421875 25.265625 0.953125 \nQ 20.953125 3.328125 18.109375 8.203125 \nz\nM 48.6875 27.296875 \nQ 48.6875 37.203125 44.609375 42.84375 \nQ 40.53125 48.484375 33.40625 48.484375 \nQ 26.265625 48.484375 22.1875 42.84375 \nQ 18.109375 37.203125 18.109375 27.296875 \nQ 18.109375 17.390625 22.1875 11.75 \nQ 26.265625 6.109375 33.40625 6.109375 \nQ 40.53125 6.109375 44.609375 11.75 \nQ 48.6875 17.390625 48.6875 27.296875 \nz\n\" id=\"DejaVuSans-112\"/>\n       <path d=\"M 48.78125 52.59375 \nL 48.78125 44.1875 \nQ 44.96875 46.296875 41.140625 47.34375 \nQ 37.3125 48.390625 33.40625 48.390625 \nQ 24.65625 48.390625 19.8125 42.84375 \nQ 14.984375 37.3125 14.984375 27.296875 \nQ 14.984375 17.28125 19.8125 11.734375 \nQ 24.65625 6.203125 33.40625 6.203125 \nQ 37.3125 6.203125 41.140625 7.25 \nQ 44.96875 8.296875 48.78125 10.40625 \nL 48.78125 2.09375 \nQ 45.015625 0.34375 40.984375 -0.53125 \nQ 36.96875 -1.421875 32.421875 -1.421875 \nQ 20.0625 -1.421875 12.78125 6.34375 \nQ 5.515625 14.109375 5.515625 27.296875 \nQ 5.515625 40.671875 12.859375 48.328125 \nQ 20.21875 56 33.015625 56 \nQ 37.15625 56 41.109375 55.140625 \nQ 45.0625 54.296875 48.78125 52.59375 \nz\n\" id=\"DejaVuSans-99\"/>\n      </defs>\n      <g transform=\"translate(247.752187 277.538437)rotate(-90)scale(0.1 -0.1)\">\n       <use xlink:href=\"#DejaVuSans-112\"/>\n       <use x=\"63.476562\" xlink:href=\"#DejaVuSans-117\"/>\n       <use x=\"126.855469\" xlink:href=\"#DejaVuSans-114\"/>\n       <use x=\"165.71875\" xlink:href=\"#DejaVuSans-99\"/>\n       <use x=\"220.699219\" xlink:href=\"#DejaVuSans-104\"/>\n       <use x=\"284.078125\" xlink:href=\"#DejaVuSans-97\"/>\n       <use x=\"345.357422\" xlink:href=\"#DejaVuSans-115\"/>\n       <use x=\"397.457031\" xlink:href=\"#DejaVuSans-101\"/>\n      </g>\n     </g>\n    </g>\n    <g id=\"xtick_6\">\n     <g id=\"line2d_6\">\n      <g>\n       <use style=\"stroke:#000000;stroke-width:0.8;\" x=\"272.172812\" xlink:href=\"#mc9ec57b22b\" y=\"224.64\"/>\n      </g>\n     </g>\n     <g id=\"text_6\">\n      <!-- find-around-me -->\n      <defs>\n       <path d=\"M 30.609375 48.390625 \nQ 23.390625 48.390625 19.1875 42.75 \nQ 14.984375 37.109375 14.984375 27.296875 \nQ 14.984375 17.484375 19.15625 11.84375 \nQ 23.34375 6.203125 30.609375 6.203125 \nQ 37.796875 6.203125 41.984375 11.859375 \nQ 46.1875 17.53125 46.1875 27.296875 \nQ 46.1875 37.015625 41.984375 42.703125 \nQ 37.796875 48.390625 30.609375 48.390625 \nz\nM 30.609375 56 \nQ 42.328125 56 49.015625 48.375 \nQ 55.71875 40.765625 55.71875 27.296875 \nQ 55.71875 13.875 49.015625 6.21875 \nQ 42.328125 -1.421875 30.609375 -1.421875 \nQ 18.84375 -1.421875 12.171875 6.21875 \nQ 5.515625 13.875 5.515625 27.296875 \nQ 5.515625 40.765625 12.171875 48.375 \nQ 18.84375 56 30.609375 56 \nz\n\" id=\"DejaVuSans-111\"/>\n       <path d=\"M 52 44.1875 \nQ 55.375 50.25 60.0625 53.125 \nQ 64.75 56 71.09375 56 \nQ 79.640625 56 84.28125 50.015625 \nQ 88.921875 44.046875 88.921875 33.015625 \nL 88.921875 0 \nL 79.890625 0 \nL 79.890625 32.71875 \nQ 79.890625 40.578125 77.09375 44.375 \nQ 74.3125 48.1875 68.609375 48.1875 \nQ 61.625 48.1875 57.5625 43.546875 \nQ 53.515625 38.921875 53.515625 30.90625 \nL 53.515625 0 \nL 44.484375 0 \nL 44.484375 32.71875 \nQ 44.484375 40.625 41.703125 44.40625 \nQ 38.921875 48.1875 33.109375 48.1875 \nQ 26.21875 48.1875 22.15625 43.53125 \nQ 18.109375 38.875 18.109375 30.90625 \nL 18.109375 0 \nL 9.078125 0 \nL 9.078125 54.6875 \nL 18.109375 54.6875 \nL 18.109375 46.1875 \nQ 21.1875 51.21875 25.484375 53.609375 \nQ 29.78125 56 35.6875 56 \nQ 41.65625 56 45.828125 52.96875 \nQ 50 49.953125 52 44.1875 \nz\n\" id=\"DejaVuSans-109\"/>\n      </defs>\n      <g transform=\"translate(274.932187 308.89)rotate(-90)scale(0.1 -0.1)\">\n       <use xlink:href=\"#DejaVuSans-102\"/>\n       <use x=\"35.205078\" xlink:href=\"#DejaVuSans-105\"/>\n       <use x=\"62.988281\" xlink:href=\"#DejaVuSans-110\"/>\n       <use x=\"126.367188\" xlink:href=\"#DejaVuSans-100\"/>\n       <use x=\"189.84375\" xlink:href=\"#DejaVuSans-45\"/>\n       <use x=\"225.927734\" xlink:href=\"#DejaVuSans-97\"/>\n       <use x=\"287.207031\" xlink:href=\"#DejaVuSans-114\"/>\n       <use x=\"326.070312\" xlink:href=\"#DejaVuSans-111\"/>\n       <use x=\"387.251953\" xlink:href=\"#DejaVuSans-117\"/>\n       <use x=\"450.630859\" xlink:href=\"#DejaVuSans-110\"/>\n       <use x=\"514.009766\" xlink:href=\"#DejaVuSans-100\"/>\n       <use x=\"577.486328\" xlink:href=\"#DejaVuSans-45\"/>\n       <use x=\"613.570312\" xlink:href=\"#DejaVuSans-109\"/>\n       <use x=\"710.982422\" xlink:href=\"#DejaVuSans-101\"/>\n      </g>\n     </g>\n    </g>\n    <g id=\"xtick_7\">\n     <g id=\"line2d_7\">\n      <g>\n       <use style=\"stroke:#000000;stroke-width:0.8;\" x=\"299.352812\" xlink:href=\"#mc9ec57b22b\" y=\"224.64\"/>\n      </g>\n     </g>\n     <g id=\"text_7\">\n      <!-- provide-showtimes -->\n      <defs>\n       <path d=\"M 4.203125 54.6875 \nL 13.1875 54.6875 \nL 24.421875 12.015625 \nL 35.59375 54.6875 \nL 46.1875 54.6875 \nL 57.421875 12.015625 \nL 68.609375 54.6875 \nL 77.59375 54.6875 \nL 63.28125 0 \nL 52.6875 0 \nL 40.921875 44.828125 \nL 29.109375 0 \nL 18.5 0 \nz\n\" id=\"DejaVuSans-119\"/>\n      </defs>\n      <g transform=\"translate(302.112187 326.444687)rotate(-90)scale(0.1 -0.1)\">\n       <use xlink:href=\"#DejaVuSans-112\"/>\n       <use x=\"63.476562\" xlink:href=\"#DejaVuSans-114\"/>\n       <use x=\"102.339844\" xlink:href=\"#DejaVuSans-111\"/>\n       <use x=\"163.521484\" xlink:href=\"#DejaVuSans-118\"/>\n       <use x=\"222.701172\" xlink:href=\"#DejaVuSans-105\"/>\n       <use x=\"250.484375\" xlink:href=\"#DejaVuSans-100\"/>\n       <use x=\"313.960938\" xlink:href=\"#DejaVuSans-101\"/>\n       <use x=\"375.484375\" xlink:href=\"#DejaVuSans-45\"/>\n       <use x=\"411.568359\" xlink:href=\"#DejaVuSans-115\"/>\n       <use x=\"463.667969\" xlink:href=\"#DejaVuSans-104\"/>\n       <use x=\"527.046875\" xlink:href=\"#DejaVuSans-111\"/>\n       <use x=\"588.228516\" xlink:href=\"#DejaVuSans-119\"/>\n       <use x=\"670.015625\" xlink:href=\"#DejaVuSans-116\"/>\n       <use x=\"709.224609\" xlink:href=\"#DejaVuSans-105\"/>\n       <use x=\"737.007812\" xlink:href=\"#DejaVuSans-109\"/>\n       <use x=\"834.419922\" xlink:href=\"#DejaVuSans-101\"/>\n       <use x=\"895.943359\" xlink:href=\"#DejaVuSans-115\"/>\n      </g>\n     </g>\n    </g>\n    <g id=\"xtick_8\">\n     <g id=\"line2d_8\">\n      <g>\n       <use style=\"stroke:#000000;stroke-width:0.8;\" x=\"326.532812\" xlink:href=\"#mc9ec57b22b\" y=\"224.64\"/>\n      </g>\n     </g>\n     <g id=\"text_8\">\n      <!-- find-hotel -->\n      <g transform=\"translate(329.292187 279.54)rotate(-90)scale(0.1 -0.1)\">\n       <use xlink:href=\"#DejaVuSans-102\"/>\n       <use x=\"35.205078\" xlink:href=\"#DejaVuSans-105\"/>\n       <use x=\"62.988281\" xlink:href=\"#DejaVuSans-110\"/>\n       <use x=\"126.367188\" xlink:href=\"#DejaVuSans-100\"/>\n       <use x=\"189.84375\" xlink:href=\"#DejaVuSans-45\"/>\n       <use x=\"225.927734\" xlink:href=\"#DejaVuSans-104\"/>\n       <use x=\"289.306641\" xlink:href=\"#DejaVuSans-111\"/>\n       <use x=\"350.488281\" xlink:href=\"#DejaVuSans-116\"/>\n       <use x=\"389.697266\" xlink:href=\"#DejaVuSans-101\"/>\n       <use x=\"451.220703\" xlink:href=\"#DejaVuSans-108\"/>\n      </g>\n     </g>\n    </g>\n    <g id=\"text_9\">\n     <!-- Predicted label -->\n     <defs>\n      <path d=\"M 19.671875 64.796875 \nL 19.671875 37.40625 \nL 32.078125 37.40625 \nQ 38.96875 37.40625 42.71875 40.96875 \nQ 46.484375 44.53125 46.484375 51.125 \nQ 46.484375 57.671875 42.71875 61.234375 \nQ 38.96875 64.796875 32.078125 64.796875 \nz\nM 9.8125 72.90625 \nL 32.078125 72.90625 \nQ 44.34375 72.90625 50.609375 67.359375 \nQ 56.890625 61.8125 56.890625 51.125 \nQ 56.890625 40.328125 50.609375 34.8125 \nQ 44.34375 29.296875 32.078125 29.296875 \nL 19.671875 29.296875 \nL 19.671875 0 \nL 9.8125 0 \nz\n\" id=\"DejaVuSans-80\"/>\n      <path id=\"DejaVuSans-32\"/>\n      <path d=\"M 48.6875 27.296875 \nQ 48.6875 37.203125 44.609375 42.84375 \nQ 40.53125 48.484375 33.40625 48.484375 \nQ 26.265625 48.484375 22.1875 42.84375 \nQ 18.109375 37.203125 18.109375 27.296875 \nQ 18.109375 17.390625 22.1875 11.75 \nQ 26.265625 6.109375 33.40625 6.109375 \nQ 40.53125 6.109375 44.609375 11.75 \nQ 48.6875 17.390625 48.6875 27.296875 \nz\nM 18.109375 46.390625 \nQ 20.953125 51.265625 25.265625 53.625 \nQ 29.59375 56 35.59375 56 \nQ 45.5625 56 51.78125 48.09375 \nQ 58.015625 40.1875 58.015625 27.296875 \nQ 58.015625 14.40625 51.78125 6.484375 \nQ 45.5625 -1.421875 35.59375 -1.421875 \nQ 29.59375 -1.421875 25.265625 0.953125 \nQ 20.953125 3.328125 18.109375 8.203125 \nL 18.109375 0 \nL 9.078125 0 \nL 9.078125 75.984375 \nL 18.109375 75.984375 \nz\n\" id=\"DejaVuSans-98\"/>\n     </defs>\n     <g transform=\"translate(194.250469 338.043125)scale(0.1 -0.1)\">\n      <use xlink:href=\"#DejaVuSans-80\"/>\n      <use x=\"58.552734\" xlink:href=\"#DejaVuSans-114\"/>\n      <use x=\"97.416016\" xlink:href=\"#DejaVuSans-101\"/>\n      <use x=\"158.939453\" xlink:href=\"#DejaVuSans-100\"/>\n      <use x=\"222.416016\" xlink:href=\"#DejaVuSans-105\"/>\n      <use x=\"250.199219\" xlink:href=\"#DejaVuSans-99\"/>\n      <use x=\"305.179688\" xlink:href=\"#DejaVuSans-116\"/>\n      <use x=\"344.388672\" xlink:href=\"#DejaVuSans-101\"/>\n      <use x=\"405.912109\" xlink:href=\"#DejaVuSans-100\"/>\n      <use x=\"469.388672\" xlink:href=\"#DejaVuSans-32\"/>\n      <use x=\"501.175781\" xlink:href=\"#DejaVuSans-108\"/>\n      <use x=\"528.958984\" xlink:href=\"#DejaVuSans-97\"/>\n      <use x=\"590.238281\" xlink:href=\"#DejaVuSans-98\"/>\n      <use x=\"653.714844\" xlink:href=\"#DejaVuSans-101\"/>\n      <use x=\"715.238281\" xlink:href=\"#DejaVuSans-108\"/>\n     </g>\n    </g>\n   </g>\n   <g id=\"matplotlib.axis_2\">\n    <g id=\"ytick_1\">\n     <g id=\"line2d_9\">\n      <defs>\n       <path d=\"M 0 0 \nL -3.5 0 \n\" id=\"me5aef72bdb\" style=\"stroke:#000000;stroke-width:0.8;\"/>\n      </defs>\n      <g>\n       <use style=\"stroke:#000000;stroke-width:0.8;\" x=\"122.682813\" xlink:href=\"#me5aef72bdb\" y=\"20.79\"/>\n      </g>\n     </g>\n     <g id=\"text_10\">\n      <!-- find-train -->\n      <g transform=\"translate(69.815625 24.589219)scale(0.1 -0.1)\">\n       <use xlink:href=\"#DejaVuSans-102\"/>\n       <use x=\"35.205078\" xlink:href=\"#DejaVuSans-105\"/>\n       <use x=\"62.988281\" xlink:href=\"#DejaVuSans-110\"/>\n       <use x=\"126.367188\" xlink:href=\"#DejaVuSans-100\"/>\n       <use x=\"189.84375\" xlink:href=\"#DejaVuSans-45\"/>\n       <use x=\"225.927734\" xlink:href=\"#DejaVuSans-116\"/>\n       <use x=\"265.136719\" xlink:href=\"#DejaVuSans-114\"/>\n       <use x=\"306.25\" xlink:href=\"#DejaVuSans-97\"/>\n       <use x=\"367.529297\" xlink:href=\"#DejaVuSans-105\"/>\n       <use x=\"395.3125\" xlink:href=\"#DejaVuSans-110\"/>\n      </g>\n     </g>\n    </g>\n    <g id=\"ytick_2\">\n     <g id=\"line2d_10\">\n      <g>\n       <use style=\"stroke:#000000;stroke-width:0.8;\" x=\"122.682813\" xlink:href=\"#me5aef72bdb\" y=\"47.97\"/>\n      </g>\n     </g>\n     <g id=\"text_11\">\n      <!-- irrelevant -->\n      <g transform=\"translate(67.69375 51.769219)scale(0.1 -0.1)\">\n       <use xlink:href=\"#DejaVuSans-105\"/>\n       <use x=\"27.783203\" xlink:href=\"#DejaVuSans-114\"/>\n       <use x=\"67.146484\" xlink:href=\"#DejaVuSans-114\"/>\n       <use x=\"106.009766\" xlink:href=\"#DejaVuSans-101\"/>\n       <use x=\"167.533203\" xlink:href=\"#DejaVuSans-108\"/>\n       <use x=\"195.316406\" xlink:href=\"#DejaVuSans-101\"/>\n       <use x=\"256.839844\" xlink:href=\"#DejaVuSans-118\"/>\n       <use x=\"316.019531\" xlink:href=\"#DejaVuSans-97\"/>\n       <use x=\"377.298828\" xlink:href=\"#DejaVuSans-110\"/>\n       <use x=\"440.677734\" xlink:href=\"#DejaVuSans-116\"/>\n      </g>\n     </g>\n    </g>\n    <g id=\"ytick_3\">\n     <g id=\"line2d_11\">\n      <g>\n       <use style=\"stroke:#000000;stroke-width:0.8;\" x=\"122.682813\" xlink:href=\"#me5aef72bdb\" y=\"75.15\"/>\n      </g>\n     </g>\n     <g id=\"text_12\">\n      <!-- find-flight -->\n      <g transform=\"translate(67.407813 78.949219)scale(0.1 -0.1)\">\n       <use xlink:href=\"#DejaVuSans-102\"/>\n       <use x=\"35.205078\" xlink:href=\"#DejaVuSans-105\"/>\n       <use x=\"62.988281\" xlink:href=\"#DejaVuSans-110\"/>\n       <use x=\"126.367188\" xlink:href=\"#DejaVuSans-100\"/>\n       <use x=\"189.84375\" xlink:href=\"#DejaVuSans-45\"/>\n       <use x=\"225.927734\" xlink:href=\"#DejaVuSans-102\"/>\n       <use x=\"261.132812\" xlink:href=\"#DejaVuSans-108\"/>\n       <use x=\"288.916016\" xlink:href=\"#DejaVuSans-105\"/>\n       <use x=\"316.699219\" xlink:href=\"#DejaVuSans-103\"/>\n       <use x=\"380.175781\" xlink:href=\"#DejaVuSans-104\"/>\n       <use x=\"443.554688\" xlink:href=\"#DejaVuSans-116\"/>\n      </g>\n     </g>\n    </g>\n    <g id=\"ytick_4\">\n     <g id=\"line2d_12\">\n      <g>\n       <use style=\"stroke:#000000;stroke-width:0.8;\" x=\"122.682813\" xlink:href=\"#me5aef72bdb\" y=\"102.33\"/>\n      </g>\n     </g>\n     <g id=\"text_13\">\n      <!-- find-restaurant -->\n      <g transform=\"translate(40.959375 106.129219)scale(0.1 -0.1)\">\n       <use xlink:href=\"#DejaVuSans-102\"/>\n       <use x=\"35.205078\" xlink:href=\"#DejaVuSans-105\"/>\n       <use x=\"62.988281\" xlink:href=\"#DejaVuSans-110\"/>\n       <use x=\"126.367188\" xlink:href=\"#DejaVuSans-100\"/>\n       <use x=\"189.84375\" xlink:href=\"#DejaVuSans-45\"/>\n       <use x=\"225.927734\" xlink:href=\"#DejaVuSans-114\"/>\n       <use x=\"264.791016\" xlink:href=\"#DejaVuSans-101\"/>\n       <use x=\"326.314453\" xlink:href=\"#DejaVuSans-115\"/>\n       <use x=\"378.414062\" xlink:href=\"#DejaVuSans-116\"/>\n       <use x=\"417.623047\" xlink:href=\"#DejaVuSans-97\"/>\n       <use x=\"478.902344\" xlink:href=\"#DejaVuSans-117\"/>\n       <use x=\"542.28125\" xlink:href=\"#DejaVuSans-114\"/>\n       <use x=\"583.394531\" xlink:href=\"#DejaVuSans-97\"/>\n       <use x=\"644.673828\" xlink:href=\"#DejaVuSans-110\"/>\n       <use x=\"708.052734\" xlink:href=\"#DejaVuSans-116\"/>\n      </g>\n     </g>\n    </g>\n    <g id=\"ytick_5\">\n     <g id=\"line2d_13\">\n      <g>\n       <use style=\"stroke:#000000;stroke-width:0.8;\" x=\"122.682813\" xlink:href=\"#me5aef72bdb\" y=\"129.51\"/>\n      </g>\n     </g>\n     <g id=\"text_14\">\n      <!-- purchase -->\n      <g transform=\"translate(69.784375 133.309219)scale(0.1 -0.1)\">\n       <use xlink:href=\"#DejaVuSans-112\"/>\n       <use x=\"63.476562\" xlink:href=\"#DejaVuSans-117\"/>\n       <use x=\"126.855469\" xlink:href=\"#DejaVuSans-114\"/>\n       <use x=\"165.71875\" xlink:href=\"#DejaVuSans-99\"/>\n       <use x=\"220.699219\" xlink:href=\"#DejaVuSans-104\"/>\n       <use x=\"284.078125\" xlink:href=\"#DejaVuSans-97\"/>\n       <use x=\"345.357422\" xlink:href=\"#DejaVuSans-115\"/>\n       <use x=\"397.457031\" xlink:href=\"#DejaVuSans-101\"/>\n      </g>\n     </g>\n    </g>\n    <g id=\"ytick_6\">\n     <g id=\"line2d_14\">\n      <g>\n       <use style=\"stroke:#000000;stroke-width:0.8;\" x=\"122.682813\" xlink:href=\"#me5aef72bdb\" y=\"156.69\"/>\n      </g>\n     </g>\n     <g id=\"text_15\">\n      <!-- find-around-me -->\n      <g transform=\"translate(38.432813 160.489219)scale(0.1 -0.1)\">\n       <use xlink:href=\"#DejaVuSans-102\"/>\n       <use x=\"35.205078\" xlink:href=\"#DejaVuSans-105\"/>\n       <use x=\"62.988281\" xlink:href=\"#DejaVuSans-110\"/>\n       <use x=\"126.367188\" xlink:href=\"#DejaVuSans-100\"/>\n       <use x=\"189.84375\" xlink:href=\"#DejaVuSans-45\"/>\n       <use x=\"225.927734\" xlink:href=\"#DejaVuSans-97\"/>\n       <use x=\"287.207031\" xlink:href=\"#DejaVuSans-114\"/>\n       <use x=\"326.070312\" xlink:href=\"#DejaVuSans-111\"/>\n       <use x=\"387.251953\" xlink:href=\"#DejaVuSans-117\"/>\n       <use x=\"450.630859\" xlink:href=\"#DejaVuSans-110\"/>\n       <use x=\"514.009766\" xlink:href=\"#DejaVuSans-100\"/>\n       <use x=\"577.486328\" xlink:href=\"#DejaVuSans-45\"/>\n       <use x=\"613.570312\" xlink:href=\"#DejaVuSans-109\"/>\n       <use x=\"710.982422\" xlink:href=\"#DejaVuSans-101\"/>\n      </g>\n     </g>\n    </g>\n    <g id=\"ytick_7\">\n     <g id=\"line2d_15\">\n      <g>\n       <use style=\"stroke:#000000;stroke-width:0.8;\" x=\"122.682813\" xlink:href=\"#me5aef72bdb\" y=\"183.87\"/>\n      </g>\n     </g>\n     <g id=\"text_16\">\n      <!-- provide-showtimes -->\n      <g transform=\"translate(20.878125 187.669219)scale(0.1 -0.1)\">\n       <use xlink:href=\"#DejaVuSans-112\"/>\n       <use x=\"63.476562\" xlink:href=\"#DejaVuSans-114\"/>\n       <use x=\"102.339844\" xlink:href=\"#DejaVuSans-111\"/>\n       <use x=\"163.521484\" xlink:href=\"#DejaVuSans-118\"/>\n       <use x=\"222.701172\" xlink:href=\"#DejaVuSans-105\"/>\n       <use x=\"250.484375\" xlink:href=\"#DejaVuSans-100\"/>\n       <use x=\"313.960938\" xlink:href=\"#DejaVuSans-101\"/>\n       <use x=\"375.484375\" xlink:href=\"#DejaVuSans-45\"/>\n       <use x=\"411.568359\" xlink:href=\"#DejaVuSans-115\"/>\n       <use x=\"463.667969\" xlink:href=\"#DejaVuSans-104\"/>\n       <use x=\"527.046875\" xlink:href=\"#DejaVuSans-111\"/>\n       <use x=\"588.228516\" xlink:href=\"#DejaVuSans-119\"/>\n       <use x=\"670.015625\" xlink:href=\"#DejaVuSans-116\"/>\n       <use x=\"709.224609\" xlink:href=\"#DejaVuSans-105\"/>\n       <use x=\"737.007812\" xlink:href=\"#DejaVuSans-109\"/>\n       <use x=\"834.419922\" xlink:href=\"#DejaVuSans-101\"/>\n       <use x=\"895.943359\" xlink:href=\"#DejaVuSans-115\"/>\n      </g>\n     </g>\n    </g>\n    <g id=\"ytick_8\">\n     <g id=\"line2d_16\">\n      <g>\n       <use style=\"stroke:#000000;stroke-width:0.8;\" x=\"122.682813\" xlink:href=\"#me5aef72bdb\" y=\"211.05\"/>\n      </g>\n     </g>\n     <g id=\"text_17\">\n      <!-- find-hotel -->\n      <g transform=\"translate(67.782813 214.849219)scale(0.1 -0.1)\">\n       <use xlink:href=\"#DejaVuSans-102\"/>\n       <use x=\"35.205078\" xlink:href=\"#DejaVuSans-105\"/>\n       <use x=\"62.988281\" xlink:href=\"#DejaVuSans-110\"/>\n       <use x=\"126.367188\" xlink:href=\"#DejaVuSans-100\"/>\n       <use x=\"189.84375\" xlink:href=\"#DejaVuSans-45\"/>\n       <use x=\"225.927734\" xlink:href=\"#DejaVuSans-104\"/>\n       <use x=\"289.306641\" xlink:href=\"#DejaVuSans-111\"/>\n       <use x=\"350.488281\" xlink:href=\"#DejaVuSans-116\"/>\n       <use x=\"389.697266\" xlink:href=\"#DejaVuSans-101\"/>\n       <use x=\"451.220703\" xlink:href=\"#DejaVuSans-108\"/>\n      </g>\n     </g>\n    </g>\n    <g id=\"text_18\">\n     <!-- True label -->\n     <defs>\n      <path d=\"M -0.296875 72.90625 \nL 61.375 72.90625 \nL 61.375 64.59375 \nL 35.5 64.59375 \nL 35.5 0 \nL 25.59375 0 \nL 25.59375 64.59375 \nL -0.296875 64.59375 \nz\n\" id=\"DejaVuSans-84\"/>\n     </defs>\n     <g transform=\"translate(14.798438 140.219219)rotate(-90)scale(0.1 -0.1)\">\n      <use xlink:href=\"#DejaVuSans-84\"/>\n      <use x=\"46.333984\" xlink:href=\"#DejaVuSans-114\"/>\n      <use x=\"87.447266\" xlink:href=\"#DejaVuSans-117\"/>\n      <use x=\"150.826172\" xlink:href=\"#DejaVuSans-101\"/>\n      <use x=\"212.349609\" xlink:href=\"#DejaVuSans-32\"/>\n      <use x=\"244.136719\" xlink:href=\"#DejaVuSans-108\"/>\n      <use x=\"271.919922\" xlink:href=\"#DejaVuSans-97\"/>\n      <use x=\"333.199219\" xlink:href=\"#DejaVuSans-98\"/>\n      <use x=\"396.675781\" xlink:href=\"#DejaVuSans-101\"/>\n      <use x=\"458.199219\" xlink:href=\"#DejaVuSans-108\"/>\n     </g>\n    </g>\n   </g>\n   <g id=\"patch_3\">\n    <path d=\"M 122.682813 224.64 \nL 122.682813 7.2 \n\" style=\"fill:none;stroke:#000000;stroke-linecap:square;stroke-linejoin:miter;stroke-width:0.8;\"/>\n   </g>\n   <g id=\"patch_4\">\n    <path d=\"M 340.122812 224.64 \nL 340.122812 7.2 \n\" style=\"fill:none;stroke:#000000;stroke-linecap:square;stroke-linejoin:miter;stroke-width:0.8;\"/>\n   </g>\n   <g id=\"patch_5\">\n    <path d=\"M 122.682813 224.64 \nL 340.122812 224.64 \n\" style=\"fill:none;stroke:#000000;stroke-linecap:square;stroke-linejoin:miter;stroke-width:0.8;\"/>\n   </g>\n   <g id=\"patch_6\">\n    <path d=\"M 122.682813 7.2 \nL 340.122812 7.2 \n\" style=\"fill:none;stroke:#000000;stroke-linecap:square;stroke-linejoin:miter;stroke-width:0.8;\"/>\n   </g>\n   <g id=\"text_19\">\n    <!-- 0.67 -->\n    <defs>\n     <path d=\"M 31.78125 66.40625 \nQ 24.171875 66.40625 20.328125 58.90625 \nQ 16.5 51.421875 16.5 36.375 \nQ 16.5 21.390625 20.328125 13.890625 \nQ 24.171875 6.390625 31.78125 6.390625 \nQ 39.453125 6.390625 43.28125 13.890625 \nQ 47.125 21.390625 47.125 36.375 \nQ 47.125 51.421875 43.28125 58.90625 \nQ 39.453125 66.40625 31.78125 66.40625 \nz\nM 31.78125 74.21875 \nQ 44.046875 74.21875 50.515625 64.515625 \nQ 56.984375 54.828125 56.984375 36.375 \nQ 56.984375 17.96875 50.515625 8.265625 \nQ 44.046875 -1.421875 31.78125 -1.421875 \nQ 19.53125 -1.421875 13.0625 8.265625 \nQ 6.59375 17.96875 6.59375 36.375 \nQ 6.59375 54.828125 13.0625 64.515625 \nQ 19.53125 74.21875 31.78125 74.21875 \nz\n\" id=\"DejaVuSans-48\"/>\n     <path d=\"M 10.6875 12.40625 \nL 21 12.40625 \nL 21 0 \nL 10.6875 0 \nz\n\" id=\"DejaVuSans-46\"/>\n     <path d=\"M 33.015625 40.375 \nQ 26.375 40.375 22.484375 35.828125 \nQ 18.609375 31.296875 18.609375 23.390625 \nQ 18.609375 15.53125 22.484375 10.953125 \nQ 26.375 6.390625 33.015625 6.390625 \nQ 39.65625 6.390625 43.53125 10.953125 \nQ 47.40625 15.53125 47.40625 23.390625 \nQ 47.40625 31.296875 43.53125 35.828125 \nQ 39.65625 40.375 33.015625 40.375 \nz\nM 52.59375 71.296875 \nL 52.59375 62.3125 \nQ 48.875 64.0625 45.09375 64.984375 \nQ 41.3125 65.921875 37.59375 65.921875 \nQ 27.828125 65.921875 22.671875 59.328125 \nQ 17.53125 52.734375 16.796875 39.40625 \nQ 19.671875 43.65625 24.015625 45.921875 \nQ 28.375 48.1875 33.59375 48.1875 \nQ 44.578125 48.1875 50.953125 41.515625 \nQ 57.328125 34.859375 57.328125 23.390625 \nQ 57.328125 12.15625 50.6875 5.359375 \nQ 44.046875 -1.421875 33.015625 -1.421875 \nQ 20.359375 -1.421875 13.671875 8.265625 \nQ 6.984375 17.96875 6.984375 36.375 \nQ 6.984375 53.65625 15.1875 63.9375 \nQ 23.390625 74.21875 37.203125 74.21875 \nQ 40.921875 74.21875 44.703125 73.484375 \nQ 48.484375 72.75 52.59375 71.296875 \nz\n\" id=\"DejaVuSans-54\"/>\n     <path d=\"M 8.203125 72.90625 \nL 55.078125 72.90625 \nL 55.078125 68.703125 \nL 28.609375 0 \nL 18.3125 0 \nL 43.21875 64.59375 \nL 8.203125 64.59375 \nz\n\" id=\"DejaVuSans-55\"/>\n    </defs>\n    <g style=\"fill:#440154;\" transform=\"translate(125.14 23.549375)scale(0.1 -0.1)\">\n     <use xlink:href=\"#DejaVuSans-48\"/>\n     <use x=\"63.623047\" xlink:href=\"#DejaVuSans-46\"/>\n     <use x=\"95.410156\" xlink:href=\"#DejaVuSans-54\"/>\n     <use x=\"159.033203\" xlink:href=\"#DejaVuSans-55\"/>\n    </g>\n   </g>\n   <g id=\"text_20\">\n    <!-- 0.24 -->\n    <defs>\n     <path d=\"M 19.1875 8.296875 \nL 53.609375 8.296875 \nL 53.609375 0 \nL 7.328125 0 \nL 7.328125 8.296875 \nQ 12.9375 14.109375 22.625 23.890625 \nQ 32.328125 33.6875 34.8125 36.53125 \nQ 39.546875 41.84375 41.421875 45.53125 \nQ 43.3125 49.21875 43.3125 52.78125 \nQ 43.3125 58.59375 39.234375 62.25 \nQ 35.15625 65.921875 28.609375 65.921875 \nQ 23.96875 65.921875 18.8125 64.3125 \nQ 13.671875 62.703125 7.8125 59.421875 \nL 7.8125 69.390625 \nQ 13.765625 71.78125 18.9375 73 \nQ 24.125 74.21875 28.421875 74.21875 \nQ 39.75 74.21875 46.484375 68.546875 \nQ 53.21875 62.890625 53.21875 53.421875 \nQ 53.21875 48.921875 51.53125 44.890625 \nQ 49.859375 40.875 45.40625 35.40625 \nQ 44.1875 33.984375 37.640625 27.21875 \nQ 31.109375 20.453125 19.1875 8.296875 \nz\n\" id=\"DejaVuSans-50\"/>\n     <path d=\"M 37.796875 64.3125 \nL 12.890625 25.390625 \nL 37.796875 25.390625 \nz\nM 35.203125 72.90625 \nL 47.609375 72.90625 \nL 47.609375 25.390625 \nL 58.015625 25.390625 \nL 58.015625 17.1875 \nL 47.609375 17.1875 \nL 47.609375 0 \nL 37.796875 0 \nL 37.796875 17.1875 \nL 4.890625 17.1875 \nL 4.890625 26.703125 \nz\n\" id=\"DejaVuSans-52\"/>\n    </defs>\n    <g style=\"fill:#fde725;\" transform=\"translate(152.32 23.549375)scale(0.1 -0.1)\">\n     <use xlink:href=\"#DejaVuSans-48\"/>\n     <use x=\"63.623047\" xlink:href=\"#DejaVuSans-46\"/>\n     <use x=\"95.410156\" xlink:href=\"#DejaVuSans-50\"/>\n     <use x=\"159.033203\" xlink:href=\"#DejaVuSans-52\"/>\n    </g>\n   </g>\n   <g id=\"text_21\">\n    <!-- 0.00 -->\n    <g style=\"fill:#fde725;\" transform=\"translate(179.5 23.549375)scale(0.1 -0.1)\">\n     <use xlink:href=\"#DejaVuSans-48\"/>\n     <use x=\"63.623047\" xlink:href=\"#DejaVuSans-46\"/>\n     <use x=\"95.410156\" xlink:href=\"#DejaVuSans-48\"/>\n     <use x=\"159.033203\" xlink:href=\"#DejaVuSans-48\"/>\n    </g>\n   </g>\n   <g id=\"text_22\">\n    <!-- 0.05 -->\n    <defs>\n     <path d=\"M 10.796875 72.90625 \nL 49.515625 72.90625 \nL 49.515625 64.59375 \nL 19.828125 64.59375 \nL 19.828125 46.734375 \nQ 21.96875 47.46875 24.109375 47.828125 \nQ 26.265625 48.1875 28.421875 48.1875 \nQ 40.625 48.1875 47.75 41.5 \nQ 54.890625 34.8125 54.890625 23.390625 \nQ 54.890625 11.625 47.5625 5.09375 \nQ 40.234375 -1.421875 26.90625 -1.421875 \nQ 22.3125 -1.421875 17.546875 -0.640625 \nQ 12.796875 0.140625 7.71875 1.703125 \nL 7.71875 11.625 \nQ 12.109375 9.234375 16.796875 8.0625 \nQ 21.484375 6.890625 26.703125 6.890625 \nQ 35.15625 6.890625 40.078125 11.328125 \nQ 45.015625 15.765625 45.015625 23.390625 \nQ 45.015625 31 40.078125 35.4375 \nQ 35.15625 39.890625 26.703125 39.890625 \nQ 22.75 39.890625 18.8125 39.015625 \nQ 14.890625 38.140625 10.796875 36.28125 \nz\n\" id=\"DejaVuSans-53\"/>\n    </defs>\n    <g style=\"fill:#fde725;\" transform=\"translate(206.68 23.549375)scale(0.1 -0.1)\">\n     <use xlink:href=\"#DejaVuSans-48\"/>\n     <use x=\"63.623047\" xlink:href=\"#DejaVuSans-46\"/>\n     <use x=\"95.410156\" xlink:href=\"#DejaVuSans-48\"/>\n     <use x=\"159.033203\" xlink:href=\"#DejaVuSans-53\"/>\n    </g>\n   </g>\n   <g id=\"text_23\">\n    <!-- 0.05 -->\n    <g style=\"fill:#fde725;\" transform=\"translate(233.86 23.549375)scale(0.1 -0.1)\">\n     <use xlink:href=\"#DejaVuSans-48\"/>\n     <use x=\"63.623047\" xlink:href=\"#DejaVuSans-46\"/>\n     <use x=\"95.410156\" xlink:href=\"#DejaVuSans-48\"/>\n     <use x=\"159.033203\" xlink:href=\"#DejaVuSans-53\"/>\n    </g>\n   </g>\n   <g id=\"text_24\">\n    <!-- 0.00 -->\n    <g style=\"fill:#fde725;\" transform=\"translate(261.04 23.549375)scale(0.1 -0.1)\">\n     <use xlink:href=\"#DejaVuSans-48\"/>\n     <use x=\"63.623047\" xlink:href=\"#DejaVuSans-46\"/>\n     <use x=\"95.410156\" xlink:href=\"#DejaVuSans-48\"/>\n     <use x=\"159.033203\" xlink:href=\"#DejaVuSans-48\"/>\n    </g>\n   </g>\n   <g id=\"text_25\">\n    <!-- 0.00 -->\n    <g style=\"fill:#fde725;\" transform=\"translate(288.22 23.549375)scale(0.1 -0.1)\">\n     <use xlink:href=\"#DejaVuSans-48\"/>\n     <use x=\"63.623047\" xlink:href=\"#DejaVuSans-46\"/>\n     <use x=\"95.410156\" xlink:href=\"#DejaVuSans-48\"/>\n     <use x=\"159.033203\" xlink:href=\"#DejaVuSans-48\"/>\n    </g>\n   </g>\n   <g id=\"text_26\">\n    <!-- 0.00 -->\n    <g style=\"fill:#fde725;\" transform=\"translate(315.4 23.549375)scale(0.1 -0.1)\">\n     <use xlink:href=\"#DejaVuSans-48\"/>\n     <use x=\"63.623047\" xlink:href=\"#DejaVuSans-46\"/>\n     <use x=\"95.410156\" xlink:href=\"#DejaVuSans-48\"/>\n     <use x=\"159.033203\" xlink:href=\"#DejaVuSans-48\"/>\n    </g>\n   </g>\n   <g id=\"text_27\">\n    <!-- 0.00 -->\n    <g style=\"fill:#fde725;\" transform=\"translate(125.14 50.729375)scale(0.1 -0.1)\">\n     <use xlink:href=\"#DejaVuSans-48\"/>\n     <use x=\"63.623047\" xlink:href=\"#DejaVuSans-46\"/>\n     <use x=\"95.410156\" xlink:href=\"#DejaVuSans-48\"/>\n     <use x=\"159.033203\" xlink:href=\"#DejaVuSans-48\"/>\n    </g>\n   </g>\n   <g id=\"text_28\">\n    <!-- 0.98 -->\n    <defs>\n     <path d=\"M 10.984375 1.515625 \nL 10.984375 10.5 \nQ 14.703125 8.734375 18.5 7.8125 \nQ 22.3125 6.890625 25.984375 6.890625 \nQ 35.75 6.890625 40.890625 13.453125 \nQ 46.046875 20.015625 46.78125 33.40625 \nQ 43.953125 29.203125 39.59375 26.953125 \nQ 35.25 24.703125 29.984375 24.703125 \nQ 19.046875 24.703125 12.671875 31.3125 \nQ 6.296875 37.9375 6.296875 49.421875 \nQ 6.296875 60.640625 12.9375 67.421875 \nQ 19.578125 74.21875 30.609375 74.21875 \nQ 43.265625 74.21875 49.921875 64.515625 \nQ 56.59375 54.828125 56.59375 36.375 \nQ 56.59375 19.140625 48.40625 8.859375 \nQ 40.234375 -1.421875 26.421875 -1.421875 \nQ 22.703125 -1.421875 18.890625 -0.6875 \nQ 15.09375 0.046875 10.984375 1.515625 \nz\nM 30.609375 32.421875 \nQ 37.25 32.421875 41.125 36.953125 \nQ 45.015625 41.5 45.015625 49.421875 \nQ 45.015625 57.28125 41.125 61.84375 \nQ 37.25 66.40625 30.609375 66.40625 \nQ 23.96875 66.40625 20.09375 61.84375 \nQ 16.21875 57.28125 16.21875 49.421875 \nQ 16.21875 41.5 20.09375 36.953125 \nQ 23.96875 32.421875 30.609375 32.421875 \nz\n\" id=\"DejaVuSans-57\"/>\n     <path d=\"M 31.78125 34.625 \nQ 24.75 34.625 20.71875 30.859375 \nQ 16.703125 27.09375 16.703125 20.515625 \nQ 16.703125 13.921875 20.71875 10.15625 \nQ 24.75 6.390625 31.78125 6.390625 \nQ 38.8125 6.390625 42.859375 10.171875 \nQ 46.921875 13.96875 46.921875 20.515625 \nQ 46.921875 27.09375 42.890625 30.859375 \nQ 38.875 34.625 31.78125 34.625 \nz\nM 21.921875 38.8125 \nQ 15.578125 40.375 12.03125 44.71875 \nQ 8.5 49.078125 8.5 55.328125 \nQ 8.5 64.0625 14.71875 69.140625 \nQ 20.953125 74.21875 31.78125 74.21875 \nQ 42.671875 74.21875 48.875 69.140625 \nQ 55.078125 64.0625 55.078125 55.328125 \nQ 55.078125 49.078125 51.53125 44.71875 \nQ 48 40.375 41.703125 38.8125 \nQ 48.828125 37.15625 52.796875 32.3125 \nQ 56.78125 27.484375 56.78125 20.515625 \nQ 56.78125 9.90625 50.3125 4.234375 \nQ 43.84375 -1.421875 31.78125 -1.421875 \nQ 19.734375 -1.421875 13.25 4.234375 \nQ 6.78125 9.90625 6.78125 20.515625 \nQ 6.78125 27.484375 10.78125 32.3125 \nQ 14.796875 37.15625 21.921875 38.8125 \nz\nM 18.3125 54.390625 \nQ 18.3125 48.734375 21.84375 45.5625 \nQ 25.390625 42.390625 31.78125 42.390625 \nQ 38.140625 42.390625 41.71875 45.5625 \nQ 45.3125 48.734375 45.3125 54.390625 \nQ 45.3125 60.0625 41.71875 63.234375 \nQ 38.140625 66.40625 31.78125 66.40625 \nQ 25.390625 66.40625 21.84375 63.234375 \nQ 18.3125 60.0625 18.3125 54.390625 \nz\n\" id=\"DejaVuSans-56\"/>\n    </defs>\n    <g style=\"fill:#440154;\" transform=\"translate(152.32 50.729375)scale(0.1 -0.1)\">\n     <use xlink:href=\"#DejaVuSans-48\"/>\n     <use x=\"63.623047\" xlink:href=\"#DejaVuSans-46\"/>\n     <use x=\"95.410156\" xlink:href=\"#DejaVuSans-57\"/>\n     <use x=\"159.033203\" xlink:href=\"#DejaVuSans-56\"/>\n    </g>\n   </g>\n   <g id=\"text_29\">\n    <!-- 0.00 -->\n    <g style=\"fill:#fde725;\" transform=\"translate(179.5 50.729375)scale(0.1 -0.1)\">\n     <use xlink:href=\"#DejaVuSans-48\"/>\n     <use x=\"63.623047\" xlink:href=\"#DejaVuSans-46\"/>\n     <use x=\"95.410156\" xlink:href=\"#DejaVuSans-48\"/>\n     <use x=\"159.033203\" xlink:href=\"#DejaVuSans-48\"/>\n    </g>\n   </g>\n   <g id=\"text_30\">\n    <!-- 0.00 -->\n    <g style=\"fill:#fde725;\" transform=\"translate(206.68 50.729375)scale(0.1 -0.1)\">\n     <use xlink:href=\"#DejaVuSans-48\"/>\n     <use x=\"63.623047\" xlink:href=\"#DejaVuSans-46\"/>\n     <use x=\"95.410156\" xlink:href=\"#DejaVuSans-48\"/>\n     <use x=\"159.033203\" xlink:href=\"#DejaVuSans-48\"/>\n    </g>\n   </g>\n   <g id=\"text_31\">\n    <!-- 0.01 -->\n    <defs>\n     <path d=\"M 12.40625 8.296875 \nL 28.515625 8.296875 \nL 28.515625 63.921875 \nL 10.984375 60.40625 \nL 10.984375 69.390625 \nL 28.421875 72.90625 \nL 38.28125 72.90625 \nL 38.28125 8.296875 \nL 54.390625 8.296875 \nL 54.390625 0 \nL 12.40625 0 \nz\n\" id=\"DejaVuSans-49\"/>\n    </defs>\n    <g style=\"fill:#fde725;\" transform=\"translate(233.86 50.729375)scale(0.1 -0.1)\">\n     <use xlink:href=\"#DejaVuSans-48\"/>\n     <use x=\"63.623047\" xlink:href=\"#DejaVuSans-46\"/>\n     <use x=\"95.410156\" xlink:href=\"#DejaVuSans-48\"/>\n     <use x=\"159.033203\" xlink:href=\"#DejaVuSans-49\"/>\n    </g>\n   </g>\n   <g id=\"text_32\">\n    <!-- 0.00 -->\n    <g style=\"fill:#fde725;\" transform=\"translate(261.04 50.729375)scale(0.1 -0.1)\">\n     <use xlink:href=\"#DejaVuSans-48\"/>\n     <use x=\"63.623047\" xlink:href=\"#DejaVuSans-46\"/>\n     <use x=\"95.410156\" xlink:href=\"#DejaVuSans-48\"/>\n     <use x=\"159.033203\" xlink:href=\"#DejaVuSans-48\"/>\n    </g>\n   </g>\n   <g id=\"text_33\">\n    <!-- 0.00 -->\n    <g style=\"fill:#fde725;\" transform=\"translate(288.22 50.729375)scale(0.1 -0.1)\">\n     <use xlink:href=\"#DejaVuSans-48\"/>\n     <use x=\"63.623047\" xlink:href=\"#DejaVuSans-46\"/>\n     <use x=\"95.410156\" xlink:href=\"#DejaVuSans-48\"/>\n     <use x=\"159.033203\" xlink:href=\"#DejaVuSans-48\"/>\n    </g>\n   </g>\n   <g id=\"text_34\">\n    <!-- 0.01 -->\n    <g style=\"fill:#fde725;\" transform=\"translate(315.4 50.729375)scale(0.1 -0.1)\">\n     <use xlink:href=\"#DejaVuSans-48\"/>\n     <use x=\"63.623047\" xlink:href=\"#DejaVuSans-46\"/>\n     <use x=\"95.410156\" xlink:href=\"#DejaVuSans-48\"/>\n     <use x=\"159.033203\" xlink:href=\"#DejaVuSans-49\"/>\n    </g>\n   </g>\n   <g id=\"text_35\">\n    <!-- 0.00 -->\n    <g style=\"fill:#fde725;\" transform=\"translate(125.14 77.909375)scale(0.1 -0.1)\">\n     <use xlink:href=\"#DejaVuSans-48\"/>\n     <use x=\"63.623047\" xlink:href=\"#DejaVuSans-46\"/>\n     <use x=\"95.410156\" xlink:href=\"#DejaVuSans-48\"/>\n     <use x=\"159.033203\" xlink:href=\"#DejaVuSans-48\"/>\n    </g>\n   </g>\n   <g id=\"text_36\">\n    <!-- 0.58 -->\n    <g style=\"fill:#440154;\" transform=\"translate(152.32 77.909375)scale(0.1 -0.1)\">\n     <use xlink:href=\"#DejaVuSans-48\"/>\n     <use x=\"63.623047\" xlink:href=\"#DejaVuSans-46\"/>\n     <use x=\"95.410156\" xlink:href=\"#DejaVuSans-53\"/>\n     <use x=\"159.033203\" xlink:href=\"#DejaVuSans-56\"/>\n    </g>\n   </g>\n   <g id=\"text_37\">\n    <!-- 0.29 -->\n    <g style=\"fill:#fde725;\" transform=\"translate(179.5 77.909375)scale(0.1 -0.1)\">\n     <use xlink:href=\"#DejaVuSans-48\"/>\n     <use x=\"63.623047\" xlink:href=\"#DejaVuSans-46\"/>\n     <use x=\"95.410156\" xlink:href=\"#DejaVuSans-50\"/>\n     <use x=\"159.033203\" xlink:href=\"#DejaVuSans-57\"/>\n    </g>\n   </g>\n   <g id=\"text_38\">\n    <!-- 0.00 -->\n    <g style=\"fill:#fde725;\" transform=\"translate(206.68 77.909375)scale(0.1 -0.1)\">\n     <use xlink:href=\"#DejaVuSans-48\"/>\n     <use x=\"63.623047\" xlink:href=\"#DejaVuSans-46\"/>\n     <use x=\"95.410156\" xlink:href=\"#DejaVuSans-48\"/>\n     <use x=\"159.033203\" xlink:href=\"#DejaVuSans-48\"/>\n    </g>\n   </g>\n   <g id=\"text_39\">\n    <!-- 0.08 -->\n    <g style=\"fill:#fde725;\" transform=\"translate(233.86 77.909375)scale(0.1 -0.1)\">\n     <use xlink:href=\"#DejaVuSans-48\"/>\n     <use x=\"63.623047\" xlink:href=\"#DejaVuSans-46\"/>\n     <use x=\"95.410156\" xlink:href=\"#DejaVuSans-48\"/>\n     <use x=\"159.033203\" xlink:href=\"#DejaVuSans-56\"/>\n    </g>\n   </g>\n   <g id=\"text_40\">\n    <!-- 0.00 -->\n    <g style=\"fill:#fde725;\" transform=\"translate(261.04 77.909375)scale(0.1 -0.1)\">\n     <use xlink:href=\"#DejaVuSans-48\"/>\n     <use x=\"63.623047\" xlink:href=\"#DejaVuSans-46\"/>\n     <use x=\"95.410156\" xlink:href=\"#DejaVuSans-48\"/>\n     <use x=\"159.033203\" xlink:href=\"#DejaVuSans-48\"/>\n    </g>\n   </g>\n   <g id=\"text_41\">\n    <!-- 0.04 -->\n    <g style=\"fill:#fde725;\" transform=\"translate(288.22 77.909375)scale(0.1 -0.1)\">\n     <use xlink:href=\"#DejaVuSans-48\"/>\n     <use x=\"63.623047\" xlink:href=\"#DejaVuSans-46\"/>\n     <use x=\"95.410156\" xlink:href=\"#DejaVuSans-48\"/>\n     <use x=\"159.033203\" xlink:href=\"#DejaVuSans-52\"/>\n    </g>\n   </g>\n   <g id=\"text_42\">\n    <!-- 0.00 -->\n    <g style=\"fill:#fde725;\" transform=\"translate(315.4 77.909375)scale(0.1 -0.1)\">\n     <use xlink:href=\"#DejaVuSans-48\"/>\n     <use x=\"63.623047\" xlink:href=\"#DejaVuSans-46\"/>\n     <use x=\"95.410156\" xlink:href=\"#DejaVuSans-48\"/>\n     <use x=\"159.033203\" xlink:href=\"#DejaVuSans-48\"/>\n    </g>\n   </g>\n   <g id=\"text_43\">\n    <!-- 0.00 -->\n    <g style=\"fill:#fde725;\" transform=\"translate(125.14 105.089375)scale(0.1 -0.1)\">\n     <use xlink:href=\"#DejaVuSans-48\"/>\n     <use x=\"63.623047\" xlink:href=\"#DejaVuSans-46\"/>\n     <use x=\"95.410156\" xlink:href=\"#DejaVuSans-48\"/>\n     <use x=\"159.033203\" xlink:href=\"#DejaVuSans-48\"/>\n    </g>\n   </g>\n   <g id=\"text_44\">\n    <!-- 0.33 -->\n    <defs>\n     <path d=\"M 40.578125 39.3125 \nQ 47.65625 37.796875 51.625 33 \nQ 55.609375 28.21875 55.609375 21.1875 \nQ 55.609375 10.40625 48.1875 4.484375 \nQ 40.765625 -1.421875 27.09375 -1.421875 \nQ 22.515625 -1.421875 17.65625 -0.515625 \nQ 12.796875 0.390625 7.625 2.203125 \nL 7.625 11.71875 \nQ 11.71875 9.328125 16.59375 8.109375 \nQ 21.484375 6.890625 26.8125 6.890625 \nQ 36.078125 6.890625 40.9375 10.546875 \nQ 45.796875 14.203125 45.796875 21.1875 \nQ 45.796875 27.640625 41.28125 31.265625 \nQ 36.765625 34.90625 28.71875 34.90625 \nL 20.21875 34.90625 \nL 20.21875 43.015625 \nL 29.109375 43.015625 \nQ 36.375 43.015625 40.234375 45.921875 \nQ 44.09375 48.828125 44.09375 54.296875 \nQ 44.09375 59.90625 40.109375 62.90625 \nQ 36.140625 65.921875 28.71875 65.921875 \nQ 24.65625 65.921875 20.015625 65.03125 \nQ 15.375 64.15625 9.8125 62.3125 \nL 9.8125 71.09375 \nQ 15.4375 72.65625 20.34375 73.4375 \nQ 25.25 74.21875 29.59375 74.21875 \nQ 40.828125 74.21875 47.359375 69.109375 \nQ 53.90625 64.015625 53.90625 55.328125 \nQ 53.90625 49.265625 50.4375 45.09375 \nQ 46.96875 40.921875 40.578125 39.3125 \nz\n\" id=\"DejaVuSans-51\"/>\n    </defs>\n    <g style=\"fill:#fde725;\" transform=\"translate(152.32 105.089375)scale(0.1 -0.1)\">\n     <use xlink:href=\"#DejaVuSans-48\"/>\n     <use x=\"63.623047\" xlink:href=\"#DejaVuSans-46\"/>\n     <use x=\"95.410156\" xlink:href=\"#DejaVuSans-51\"/>\n     <use x=\"159.033203\" xlink:href=\"#DejaVuSans-51\"/>\n    </g>\n   </g>\n   <g id=\"text_45\">\n    <!-- 0.00 -->\n    <g style=\"fill:#fde725;\" transform=\"translate(179.5 105.089375)scale(0.1 -0.1)\">\n     <use xlink:href=\"#DejaVuSans-48\"/>\n     <use x=\"63.623047\" xlink:href=\"#DejaVuSans-46\"/>\n     <use x=\"95.410156\" xlink:href=\"#DejaVuSans-48\"/>\n     <use x=\"159.033203\" xlink:href=\"#DejaVuSans-48\"/>\n    </g>\n   </g>\n   <g id=\"text_46\">\n    <!-- 0.66 -->\n    <g style=\"fill:#440154;\" transform=\"translate(206.68 105.089375)scale(0.1 -0.1)\">\n     <use xlink:href=\"#DejaVuSans-48\"/>\n     <use x=\"63.623047\" xlink:href=\"#DejaVuSans-46\"/>\n     <use x=\"95.410156\" xlink:href=\"#DejaVuSans-54\"/>\n     <use x=\"159.033203\" xlink:href=\"#DejaVuSans-54\"/>\n    </g>\n   </g>\n   <g id=\"text_47\">\n    <!-- 0.00 -->\n    <g style=\"fill:#fde725;\" transform=\"translate(233.86 105.089375)scale(0.1 -0.1)\">\n     <use xlink:href=\"#DejaVuSans-48\"/>\n     <use x=\"63.623047\" xlink:href=\"#DejaVuSans-46\"/>\n     <use x=\"95.410156\" xlink:href=\"#DejaVuSans-48\"/>\n     <use x=\"159.033203\" xlink:href=\"#DejaVuSans-48\"/>\n    </g>\n   </g>\n   <g id=\"text_48\">\n    <!-- 0.00 -->\n    <g style=\"fill:#fde725;\" transform=\"translate(261.04 105.089375)scale(0.1 -0.1)\">\n     <use xlink:href=\"#DejaVuSans-48\"/>\n     <use x=\"63.623047\" xlink:href=\"#DejaVuSans-46\"/>\n     <use x=\"95.410156\" xlink:href=\"#DejaVuSans-48\"/>\n     <use x=\"159.033203\" xlink:href=\"#DejaVuSans-48\"/>\n    </g>\n   </g>\n   <g id=\"text_49\">\n    <!-- 0.00 -->\n    <g style=\"fill:#fde725;\" transform=\"translate(288.22 105.089375)scale(0.1 -0.1)\">\n     <use xlink:href=\"#DejaVuSans-48\"/>\n     <use x=\"63.623047\" xlink:href=\"#DejaVuSans-46\"/>\n     <use x=\"95.410156\" xlink:href=\"#DejaVuSans-48\"/>\n     <use x=\"159.033203\" xlink:href=\"#DejaVuSans-48\"/>\n    </g>\n   </g>\n   <g id=\"text_50\">\n    <!-- 0.01 -->\n    <g style=\"fill:#fde725;\" transform=\"translate(315.4 105.089375)scale(0.1 -0.1)\">\n     <use xlink:href=\"#DejaVuSans-48\"/>\n     <use x=\"63.623047\" xlink:href=\"#DejaVuSans-46\"/>\n     <use x=\"95.410156\" xlink:href=\"#DejaVuSans-48\"/>\n     <use x=\"159.033203\" xlink:href=\"#DejaVuSans-49\"/>\n    </g>\n   </g>\n   <g id=\"text_51\">\n    <!-- 0.00 -->\n    <g style=\"fill:#fde725;\" transform=\"translate(125.14 132.269375)scale(0.1 -0.1)\">\n     <use xlink:href=\"#DejaVuSans-48\"/>\n     <use x=\"63.623047\" xlink:href=\"#DejaVuSans-46\"/>\n     <use x=\"95.410156\" xlink:href=\"#DejaVuSans-48\"/>\n     <use x=\"159.033203\" xlink:href=\"#DejaVuSans-48\"/>\n    </g>\n   </g>\n   <g id=\"text_52\">\n    <!-- 0.42 -->\n    <g style=\"fill:#fde725;\" transform=\"translate(152.32 132.269375)scale(0.1 -0.1)\">\n     <use xlink:href=\"#DejaVuSans-48\"/>\n     <use x=\"63.623047\" xlink:href=\"#DejaVuSans-46\"/>\n     <use x=\"95.410156\" xlink:href=\"#DejaVuSans-52\"/>\n     <use x=\"159.033203\" xlink:href=\"#DejaVuSans-50\"/>\n    </g>\n   </g>\n   <g id=\"text_53\">\n    <!-- 0.01 -->\n    <g style=\"fill:#fde725;\" transform=\"translate(179.5 132.269375)scale(0.1 -0.1)\">\n     <use xlink:href=\"#DejaVuSans-48\"/>\n     <use x=\"63.623047\" xlink:href=\"#DejaVuSans-46\"/>\n     <use x=\"95.410156\" xlink:href=\"#DejaVuSans-48\"/>\n     <use x=\"159.033203\" xlink:href=\"#DejaVuSans-49\"/>\n    </g>\n   </g>\n   <g id=\"text_54\">\n    <!-- 0.00 -->\n    <g style=\"fill:#fde725;\" transform=\"translate(206.68 132.269375)scale(0.1 -0.1)\">\n     <use xlink:href=\"#DejaVuSans-48\"/>\n     <use x=\"63.623047\" xlink:href=\"#DejaVuSans-46\"/>\n     <use x=\"95.410156\" xlink:href=\"#DejaVuSans-48\"/>\n     <use x=\"159.033203\" xlink:href=\"#DejaVuSans-48\"/>\n    </g>\n   </g>\n   <g id=\"text_55\">\n    <!-- 0.56 -->\n    <g style=\"fill:#440154;\" transform=\"translate(233.86 132.269375)scale(0.1 -0.1)\">\n     <use xlink:href=\"#DejaVuSans-48\"/>\n     <use x=\"63.623047\" xlink:href=\"#DejaVuSans-46\"/>\n     <use x=\"95.410156\" xlink:href=\"#DejaVuSans-53\"/>\n     <use x=\"159.033203\" xlink:href=\"#DejaVuSans-54\"/>\n    </g>\n   </g>\n   <g id=\"text_56\">\n    <!-- 0.00 -->\n    <g style=\"fill:#fde725;\" transform=\"translate(261.04 132.269375)scale(0.1 -0.1)\">\n     <use xlink:href=\"#DejaVuSans-48\"/>\n     <use x=\"63.623047\" xlink:href=\"#DejaVuSans-46\"/>\n     <use x=\"95.410156\" xlink:href=\"#DejaVuSans-48\"/>\n     <use x=\"159.033203\" xlink:href=\"#DejaVuSans-48\"/>\n    </g>\n   </g>\n   <g id=\"text_57\">\n    <!-- 0.00 -->\n    <g style=\"fill:#fde725;\" transform=\"translate(288.22 132.269375)scale(0.1 -0.1)\">\n     <use xlink:href=\"#DejaVuSans-48\"/>\n     <use x=\"63.623047\" xlink:href=\"#DejaVuSans-46\"/>\n     <use x=\"95.410156\" xlink:href=\"#DejaVuSans-48\"/>\n     <use x=\"159.033203\" xlink:href=\"#DejaVuSans-48\"/>\n    </g>\n   </g>\n   <g id=\"text_58\">\n    <!-- 0.01 -->\n    <g style=\"fill:#fde725;\" transform=\"translate(315.4 132.269375)scale(0.1 -0.1)\">\n     <use xlink:href=\"#DejaVuSans-48\"/>\n     <use x=\"63.623047\" xlink:href=\"#DejaVuSans-46\"/>\n     <use x=\"95.410156\" xlink:href=\"#DejaVuSans-48\"/>\n     <use x=\"159.033203\" xlink:href=\"#DejaVuSans-49\"/>\n    </g>\n   </g>\n   <g id=\"text_59\">\n    <!-- 0.00 -->\n    <g style=\"fill:#fde725;\" transform=\"translate(125.14 159.449375)scale(0.1 -0.1)\">\n     <use xlink:href=\"#DejaVuSans-48\"/>\n     <use x=\"63.623047\" xlink:href=\"#DejaVuSans-46\"/>\n     <use x=\"95.410156\" xlink:href=\"#DejaVuSans-48\"/>\n     <use x=\"159.033203\" xlink:href=\"#DejaVuSans-48\"/>\n    </g>\n   </g>\n   <g id=\"text_60\">\n    <!-- 0.51 -->\n    <g style=\"fill:#440154;\" transform=\"translate(152.32 159.449375)scale(0.1 -0.1)\">\n     <use xlink:href=\"#DejaVuSans-48\"/>\n     <use x=\"63.623047\" xlink:href=\"#DejaVuSans-46\"/>\n     <use x=\"95.410156\" xlink:href=\"#DejaVuSans-53\"/>\n     <use x=\"159.033203\" xlink:href=\"#DejaVuSans-49\"/>\n    </g>\n   </g>\n   <g id=\"text_61\">\n    <!-- 0.00 -->\n    <g style=\"fill:#fde725;\" transform=\"translate(179.5 159.449375)scale(0.1 -0.1)\">\n     <use xlink:href=\"#DejaVuSans-48\"/>\n     <use x=\"63.623047\" xlink:href=\"#DejaVuSans-46\"/>\n     <use x=\"95.410156\" xlink:href=\"#DejaVuSans-48\"/>\n     <use x=\"159.033203\" xlink:href=\"#DejaVuSans-48\"/>\n    </g>\n   </g>\n   <g id=\"text_62\">\n    <!-- 0.04 -->\n    <g style=\"fill:#fde725;\" transform=\"translate(206.68 159.449375)scale(0.1 -0.1)\">\n     <use xlink:href=\"#DejaVuSans-48\"/>\n     <use x=\"63.623047\" xlink:href=\"#DejaVuSans-46\"/>\n     <use x=\"95.410156\" xlink:href=\"#DejaVuSans-48\"/>\n     <use x=\"159.033203\" xlink:href=\"#DejaVuSans-52\"/>\n    </g>\n   </g>\n   <g id=\"text_63\">\n    <!-- 0.07 -->\n    <g style=\"fill:#fde725;\" transform=\"translate(233.86 159.449375)scale(0.1 -0.1)\">\n     <use xlink:href=\"#DejaVuSans-48\"/>\n     <use x=\"63.623047\" xlink:href=\"#DejaVuSans-46\"/>\n     <use x=\"95.410156\" xlink:href=\"#DejaVuSans-48\"/>\n     <use x=\"159.033203\" xlink:href=\"#DejaVuSans-55\"/>\n    </g>\n   </g>\n   <g id=\"text_64\">\n    <!-- 0.37 -->\n    <g style=\"fill:#fde725;\" transform=\"translate(261.04 159.449375)scale(0.1 -0.1)\">\n     <use xlink:href=\"#DejaVuSans-48\"/>\n     <use x=\"63.623047\" xlink:href=\"#DejaVuSans-46\"/>\n     <use x=\"95.410156\" xlink:href=\"#DejaVuSans-51\"/>\n     <use x=\"159.033203\" xlink:href=\"#DejaVuSans-55\"/>\n    </g>\n   </g>\n   <g id=\"text_65\">\n    <!-- 0.00 -->\n    <g style=\"fill:#fde725;\" transform=\"translate(288.22 159.449375)scale(0.1 -0.1)\">\n     <use xlink:href=\"#DejaVuSans-48\"/>\n     <use x=\"63.623047\" xlink:href=\"#DejaVuSans-46\"/>\n     <use x=\"95.410156\" xlink:href=\"#DejaVuSans-48\"/>\n     <use x=\"159.033203\" xlink:href=\"#DejaVuSans-48\"/>\n    </g>\n   </g>\n   <g id=\"text_66\">\n    <!-- 0.00 -->\n    <g style=\"fill:#fde725;\" transform=\"translate(315.4 159.449375)scale(0.1 -0.1)\">\n     <use xlink:href=\"#DejaVuSans-48\"/>\n     <use x=\"63.623047\" xlink:href=\"#DejaVuSans-46\"/>\n     <use x=\"95.410156\" xlink:href=\"#DejaVuSans-48\"/>\n     <use x=\"159.033203\" xlink:href=\"#DejaVuSans-48\"/>\n    </g>\n   </g>\n   <g id=\"text_67\">\n    <!-- 0.00 -->\n    <g style=\"fill:#fde725;\" transform=\"translate(125.14 186.629375)scale(0.1 -0.1)\">\n     <use xlink:href=\"#DejaVuSans-48\"/>\n     <use x=\"63.623047\" xlink:href=\"#DejaVuSans-46\"/>\n     <use x=\"95.410156\" xlink:href=\"#DejaVuSans-48\"/>\n     <use x=\"159.033203\" xlink:href=\"#DejaVuSans-48\"/>\n    </g>\n   </g>\n   <g id=\"text_68\">\n    <!-- 0.64 -->\n    <g style=\"fill:#440154;\" transform=\"translate(152.32 186.629375)scale(0.1 -0.1)\">\n     <use xlink:href=\"#DejaVuSans-48\"/>\n     <use x=\"63.623047\" xlink:href=\"#DejaVuSans-46\"/>\n     <use x=\"95.410156\" xlink:href=\"#DejaVuSans-54\"/>\n     <use x=\"159.033203\" xlink:href=\"#DejaVuSans-52\"/>\n    </g>\n   </g>\n   <g id=\"text_69\">\n    <!-- 0.00 -->\n    <g style=\"fill:#fde725;\" transform=\"translate(179.5 186.629375)scale(0.1 -0.1)\">\n     <use xlink:href=\"#DejaVuSans-48\"/>\n     <use x=\"63.623047\" xlink:href=\"#DejaVuSans-46\"/>\n     <use x=\"95.410156\" xlink:href=\"#DejaVuSans-48\"/>\n     <use x=\"159.033203\" xlink:href=\"#DejaVuSans-48\"/>\n    </g>\n   </g>\n   <g id=\"text_70\">\n    <!-- 0.00 -->\n    <g style=\"fill:#fde725;\" transform=\"translate(206.68 186.629375)scale(0.1 -0.1)\">\n     <use xlink:href=\"#DejaVuSans-48\"/>\n     <use x=\"63.623047\" xlink:href=\"#DejaVuSans-46\"/>\n     <use x=\"95.410156\" xlink:href=\"#DejaVuSans-48\"/>\n     <use x=\"159.033203\" xlink:href=\"#DejaVuSans-48\"/>\n    </g>\n   </g>\n   <g id=\"text_71\">\n    <!-- 0.00 -->\n    <g style=\"fill:#fde725;\" transform=\"translate(233.86 186.629375)scale(0.1 -0.1)\">\n     <use xlink:href=\"#DejaVuSans-48\"/>\n     <use x=\"63.623047\" xlink:href=\"#DejaVuSans-46\"/>\n     <use x=\"95.410156\" xlink:href=\"#DejaVuSans-48\"/>\n     <use x=\"159.033203\" xlink:href=\"#DejaVuSans-48\"/>\n    </g>\n   </g>\n   <g id=\"text_72\">\n    <!-- 0.07 -->\n    <g style=\"fill:#fde725;\" transform=\"translate(261.04 186.629375)scale(0.1 -0.1)\">\n     <use xlink:href=\"#DejaVuSans-48\"/>\n     <use x=\"63.623047\" xlink:href=\"#DejaVuSans-46\"/>\n     <use x=\"95.410156\" xlink:href=\"#DejaVuSans-48\"/>\n     <use x=\"159.033203\" xlink:href=\"#DejaVuSans-55\"/>\n    </g>\n   </g>\n   <g id=\"text_73\">\n    <!-- 0.29 -->\n    <g style=\"fill:#fde725;\" transform=\"translate(288.22 186.629375)scale(0.1 -0.1)\">\n     <use xlink:href=\"#DejaVuSans-48\"/>\n     <use x=\"63.623047\" xlink:href=\"#DejaVuSans-46\"/>\n     <use x=\"95.410156\" xlink:href=\"#DejaVuSans-50\"/>\n     <use x=\"159.033203\" xlink:href=\"#DejaVuSans-57\"/>\n    </g>\n   </g>\n   <g id=\"text_74\">\n    <!-- 0.00 -->\n    <g style=\"fill:#fde725;\" transform=\"translate(315.4 186.629375)scale(0.1 -0.1)\">\n     <use xlink:href=\"#DejaVuSans-48\"/>\n     <use x=\"63.623047\" xlink:href=\"#DejaVuSans-46\"/>\n     <use x=\"95.410156\" xlink:href=\"#DejaVuSans-48\"/>\n     <use x=\"159.033203\" xlink:href=\"#DejaVuSans-48\"/>\n    </g>\n   </g>\n   <g id=\"text_75\">\n    <!-- 0.00 -->\n    <g style=\"fill:#fde725;\" transform=\"translate(125.14 213.809375)scale(0.1 -0.1)\">\n     <use xlink:href=\"#DejaVuSans-48\"/>\n     <use x=\"63.623047\" xlink:href=\"#DejaVuSans-46\"/>\n     <use x=\"95.410156\" xlink:href=\"#DejaVuSans-48\"/>\n     <use x=\"159.033203\" xlink:href=\"#DejaVuSans-48\"/>\n    </g>\n   </g>\n   <g id=\"text_76\">\n    <!-- 0.49 -->\n    <g style=\"fill:#fde725;\" transform=\"translate(152.32 213.809375)scale(0.1 -0.1)\">\n     <use xlink:href=\"#DejaVuSans-48\"/>\n     <use x=\"63.623047\" xlink:href=\"#DejaVuSans-46\"/>\n     <use x=\"95.410156\" xlink:href=\"#DejaVuSans-52\"/>\n     <use x=\"159.033203\" xlink:href=\"#DejaVuSans-57\"/>\n    </g>\n   </g>\n   <g id=\"text_77\">\n    <!-- 0.00 -->\n    <g style=\"fill:#fde725;\" transform=\"translate(179.5 213.809375)scale(0.1 -0.1)\">\n     <use xlink:href=\"#DejaVuSans-48\"/>\n     <use x=\"63.623047\" xlink:href=\"#DejaVuSans-46\"/>\n     <use x=\"95.410156\" xlink:href=\"#DejaVuSans-48\"/>\n     <use x=\"159.033203\" xlink:href=\"#DejaVuSans-48\"/>\n    </g>\n   </g>\n   <g id=\"text_78\">\n    <!-- 0.05 -->\n    <g style=\"fill:#fde725;\" transform=\"translate(206.68 213.809375)scale(0.1 -0.1)\">\n     <use xlink:href=\"#DejaVuSans-48\"/>\n     <use x=\"63.623047\" xlink:href=\"#DejaVuSans-46\"/>\n     <use x=\"95.410156\" xlink:href=\"#DejaVuSans-48\"/>\n     <use x=\"159.033203\" xlink:href=\"#DejaVuSans-53\"/>\n    </g>\n   </g>\n   <g id=\"text_79\">\n    <!-- 0.02 -->\n    <g style=\"fill:#fde725;\" transform=\"translate(233.86 213.809375)scale(0.1 -0.1)\">\n     <use xlink:href=\"#DejaVuSans-48\"/>\n     <use x=\"63.623047\" xlink:href=\"#DejaVuSans-46\"/>\n     <use x=\"95.410156\" xlink:href=\"#DejaVuSans-48\"/>\n     <use x=\"159.033203\" xlink:href=\"#DejaVuSans-50\"/>\n    </g>\n   </g>\n   <g id=\"text_80\">\n    <!-- 0.04 -->\n    <g style=\"fill:#fde725;\" transform=\"translate(261.04 213.809375)scale(0.1 -0.1)\">\n     <use xlink:href=\"#DejaVuSans-48\"/>\n     <use x=\"63.623047\" xlink:href=\"#DejaVuSans-46\"/>\n     <use x=\"95.410156\" xlink:href=\"#DejaVuSans-48\"/>\n     <use x=\"159.033203\" xlink:href=\"#DejaVuSans-52\"/>\n    </g>\n   </g>\n   <g id=\"text_81\">\n    <!-- 0.00 -->\n    <g style=\"fill:#fde725;\" transform=\"translate(288.22 213.809375)scale(0.1 -0.1)\">\n     <use xlink:href=\"#DejaVuSans-48\"/>\n     <use x=\"63.623047\" xlink:href=\"#DejaVuSans-46\"/>\n     <use x=\"95.410156\" xlink:href=\"#DejaVuSans-48\"/>\n     <use x=\"159.033203\" xlink:href=\"#DejaVuSans-48\"/>\n    </g>\n   </g>\n   <g id=\"text_82\">\n    <!-- 0.40 -->\n    <g style=\"fill:#fde725;\" transform=\"translate(315.4 213.809375)scale(0.1 -0.1)\">\n     <use xlink:href=\"#DejaVuSans-48\"/>\n     <use x=\"63.623047\" xlink:href=\"#DejaVuSans-46\"/>\n     <use x=\"95.410156\" xlink:href=\"#DejaVuSans-52\"/>\n     <use x=\"159.033203\" xlink:href=\"#DejaVuSans-48\"/>\n    </g>\n   </g>\n  </g>\n  <g id=\"axes_2\">\n   <g id=\"patch_7\">\n    <path clip-path=\"url(#p7a19eeb37c)\" d=\"M 356.862813 224.64 \nL 356.862813 223.790625 \nL 356.862813 8.049375 \nL 356.862813 7.2 \nL 367.734812 7.2 \nL 367.734812 8.049375 \nL 367.734812 223.790625 \nL 367.734812 224.64 \nz\n\" style=\"fill:#ffffff;stroke:#ffffff;stroke-linejoin:miter;stroke-width:0.01;\"/>\n   </g>\n   <image height=\"217\" id=\"imagee84682f7d5\" transform=\"scale(1 -1)translate(0 -217)\" width=\"11\" x=\"357\" xlink:href=\"data:image/png;base64,\niVBORw0KGgoAAAANSUhEUgAAAAsAAADZCAYAAAD2WsoCAAAABHNCSVQICAgIfAhkiAAAAWNJREFUaIHt2u1twzAQg2F92ZN1hu4/SFp1BT0BCJyR5veBIN+jlMBO/xrfux1+Vh/9dLat1sf5cJ8TlM0GDPcBnkm5kfIUdMI5h86Gad05G0EaqXU/kca2bpSoqHk+XyBeBUEbORrns23t2Lq32MAigTKhQxpkA4aDnCUgeobhIjR28MCSMgyT50cGLIIuGLDGJVOFRkzZyi/KOc/nsx9A47/87yun1g26hbpRY92tn5/vJ3bjmTRinpPoZHjkOKdowE8kDGjoWi5gTFloGGfxTAHJhikTjXMXHDBFY47fCjZGjMaQMzit/GIjFzBIA7phNmoEXEUCime0AQGXDOdszCA6sHEZjRQ6pEEBf0DZPAsNupFiSyEaM9a6KRukpdz9Bcq5pUhAKj+hu4RG7gwSOuuGbPCmqyAYMPU9eLfYXUcnxQIez6LyZcrwukGe7q0pLzKG2CDPl/zZY8ADTPScsvEHRyaBaHF7P6wAAAAASUVORK5CYII=\" y=\"-7\"/>\n   <g id=\"matplotlib.axis_3\"/>\n   <g id=\"matplotlib.axis_4\">\n    <g id=\"ytick_9\">\n     <g id=\"line2d_17\">\n      <defs>\n       <path d=\"M 0 0 \nL 3.5 0 \n\" id=\"m766d3efc8f\" style=\"stroke:#000000;stroke-width:0.8;\"/>\n      </defs>\n      <g>\n       <use style=\"stroke:#000000;stroke-width:0.8;\" x=\"367.734812\" xlink:href=\"#m766d3efc8f\" y=\"224.64\"/>\n      </g>\n     </g>\n     <g id=\"text_83\">\n      <!-- 0.0 -->\n      <g transform=\"translate(374.734812 228.439219)scale(0.1 -0.1)\">\n       <use xlink:href=\"#DejaVuSans-48\"/>\n       <use x=\"63.623047\" xlink:href=\"#DejaVuSans-46\"/>\n       <use x=\"95.410156\" xlink:href=\"#DejaVuSans-48\"/>\n      </g>\n     </g>\n    </g>\n    <g id=\"ytick_10\">\n     <g id=\"line2d_18\">\n      <g>\n       <use style=\"stroke:#000000;stroke-width:0.8;\" x=\"367.734812\" xlink:href=\"#m766d3efc8f\" y=\"180.367254\"/>\n      </g>\n     </g>\n     <g id=\"text_84\">\n      <!-- 0.2 -->\n      <g transform=\"translate(374.734812 184.166473)scale(0.1 -0.1)\">\n       <use xlink:href=\"#DejaVuSans-48\"/>\n       <use x=\"63.623047\" xlink:href=\"#DejaVuSans-46\"/>\n       <use x=\"95.410156\" xlink:href=\"#DejaVuSans-50\"/>\n      </g>\n     </g>\n    </g>\n    <g id=\"ytick_11\">\n     <g id=\"line2d_19\">\n      <g>\n       <use style=\"stroke:#000000;stroke-width:0.8;\" x=\"367.734812\" xlink:href=\"#m766d3efc8f\" y=\"136.094508\"/>\n      </g>\n     </g>\n     <g id=\"text_85\">\n      <!-- 0.4 -->\n      <g transform=\"translate(374.734812 139.893727)scale(0.1 -0.1)\">\n       <use xlink:href=\"#DejaVuSans-48\"/>\n       <use x=\"63.623047\" xlink:href=\"#DejaVuSans-46\"/>\n       <use x=\"95.410156\" xlink:href=\"#DejaVuSans-52\"/>\n      </g>\n     </g>\n    </g>\n    <g id=\"ytick_12\">\n     <g id=\"line2d_20\">\n      <g>\n       <use style=\"stroke:#000000;stroke-width:0.8;\" x=\"367.734812\" xlink:href=\"#m766d3efc8f\" y=\"91.821762\"/>\n      </g>\n     </g>\n     <g id=\"text_86\">\n      <!-- 0.6 -->\n      <g transform=\"translate(374.734812 95.620981)scale(0.1 -0.1)\">\n       <use xlink:href=\"#DejaVuSans-48\"/>\n       <use x=\"63.623047\" xlink:href=\"#DejaVuSans-46\"/>\n       <use x=\"95.410156\" xlink:href=\"#DejaVuSans-54\"/>\n      </g>\n     </g>\n    </g>\n    <g id=\"ytick_13\">\n     <g id=\"line2d_21\">\n      <g>\n       <use style=\"stroke:#000000;stroke-width:0.8;\" x=\"367.734812\" xlink:href=\"#m766d3efc8f\" y=\"47.549017\"/>\n      </g>\n     </g>\n     <g id=\"text_87\">\n      <!-- 0.8 -->\n      <g transform=\"translate(374.734812 51.348235)scale(0.1 -0.1)\">\n       <use xlink:href=\"#DejaVuSans-48\"/>\n       <use x=\"63.623047\" xlink:href=\"#DejaVuSans-46\"/>\n       <use x=\"95.410156\" xlink:href=\"#DejaVuSans-56\"/>\n      </g>\n     </g>\n    </g>\n   </g>\n   <g id=\"patch_8\">\n    <path d=\"M 356.862813 224.64 \nL 356.862813 223.790625 \nL 356.862813 8.049375 \nL 356.862813 7.2 \nL 367.734812 7.2 \nL 367.734812 8.049375 \nL 367.734812 223.790625 \nL 367.734812 224.64 \nz\n\" style=\"fill:none;stroke:#000000;stroke-linejoin:miter;stroke-width:0.8;\"/>\n   </g>\n  </g>\n </g>\n <defs>\n  <clipPath id=\"p5191aacc1d\">\n   <rect height=\"217.44\" width=\"217.44\" x=\"122.682813\" y=\"7.2\"/>\n  </clipPath>\n  <clipPath id=\"p7a19eeb37c\">\n   <rect height=\"217.44\" width=\"10.872\" x=\"356.862813\" y=\"7.2\"/>\n  </clipPath>\n </defs>\n</svg>\n",
      "image/png": "[encoded data removed]"
     },
     "metadata": {
      "needs_background": "light"
     }
    }
   ],
   "source": [
    "from itertools import product\n",
    "\n",
    "#from ...base import is_classifier\n",
    "plt.figure(figsize=(10,4))\n",
    "plot_confusion_matrix(df_final[\"Predicted\"], df_final[\"Intent\"], labels=prediction_columns, normalize='true')"
   ]
  },
  {
   "cell_type": "code",
   "execution_count": 91,
   "metadata": {},
   "outputs": [],
   "source": [
    "from sklearn.metrics import classification_report"
   ]
  },
  {
   "cell_type": "code",
   "execution_count": 97,
   "metadata": {
    "tags": []
   },
   "outputs": [
    {
     "output_type": "stream",
     "name": "stdout",
     "text": "                   precision    recall  f1-score   support\n\n   find-around-me       0.86      0.37      0.52        67\n      find-flight       0.88      0.29      0.44        24\n       find-hotel       0.76      0.40      0.52        55\n  find-restaurant       0.90      0.66      0.76        93\n       find-train       0.93      0.67      0.78        21\n       irrelevant       0.80      0.98      0.88       677\nprovide-showtimes       0.80      0.29      0.42        14\n         purchase       0.82      0.56      0.67       114\n\n         accuracy                           0.81      1065\n        macro avg       0.84      0.53      0.62      1065\n     weighted avg       0.82      0.81      0.79      1065\n\n"
    }
   ],
   "source": [
    "print(classification_report(df_final[\"Intent\"], df_final[\"Predicted\"]))"
   ]
  },
  {
   "cell_type": "code",
   "execution_count": 99,
   "metadata": {},
   "outputs": [
    {
     "output_type": "execute_result",
     "data": {
      "text/plain": "0.5270967720223785"
     },
     "metadata": {},
     "execution_count": 99
    }
   ],
   "source": [
    "from sklearn.metrics import balanced_accuracy_score\n",
    "balanced_accuracy_score(df_final[\"Intent\"], df_final[\"Predicted\"])"
   ]
  },
  {
   "cell_type": "code",
   "execution_count": 109,
   "metadata": {
    "tags": []
   },
   "outputs": [
    {
     "output_type": "stream",
     "name": "stdout",
     "text": "0.5714192180801001\n"
    }
   ],
   "source": [
    "from sklearn.metrics import roc_auc_score\n",
    "\n",
    "\"\"\"\n",
    "- 'ovr':\n",
    "\n",
    "    Computes the AUC of each class against the rest [3] [4]. This treats the multiclass case in the same way as the multilabel     case. Sensitive to class imbalance even when average == 'macro', because class imbalance affects the composition of each       of the ‘rest’ groupings.\n",
    "    \n",
    "- 'ovo':\n",
    "    Computes the average AUC of all possible pairwise combinations of classes [5]. \n",
    "    Insensitive to class imbalance when average == 'macro'\n",
    "\"\"\"\n",
    "\n",
    "print(roc_auc_score(df_final[\"Intent\"],df_final[prediction_columns], multi_class=\"ovo\", average='macro'))"
   ]
  },
  {
   "cell_type": "code",
   "execution_count": 110,
   "metadata": {},
   "outputs": [],
   "source": []
  },
  {
   "cell_type": "code",
   "execution_count": null,
   "metadata": {},
   "outputs": [],
   "source": []
  },
  {
   "cell_type": "markdown",
   "metadata": {},
   "source": [
    "## Exercice 2"
   ]
  },
  {
   "cell_type": "markdown",
   "metadata": {},
   "source": [
    "##### Réponse / idées : "
   ]
  },
  {
   "cell_type": "code",
   "execution_count": null,
   "metadata": {},
   "outputs": [],
   "source": []
  },
  {
   "cell_type": "markdown",
   "metadata": {},
   "source": [
    "## Exercice 3"
   ]
  },
  {
   "cell_type": "markdown",
   "metadata": {},
   "source": [
    "##### Réponse / idées : "
   ]
  },
  {
   "cell_type": "code",
   "execution_count": null,
   "metadata": {},
   "outputs": [],
   "source": []
  },
  {
   "cell_type": "markdown",
   "metadata": {},
   "source": [
    "## Exercice 4"
   ]
  },
  {
   "cell_type": "markdown",
   "metadata": {},
   "source": [
    "##### Réponse / idées : "
   ]
  },
  {
   "cell_type": "code",
   "execution_count": null,
   "metadata": {},
   "outputs": [],
   "source": []
  },
  {
   "cell_type": "markdown",
   "metadata": {},
   "source": [
    "## Exercice 5"
   ]
  },
  {
   "cell_type": "markdown",
   "metadata": {},
   "source": [
    "##### Réponse / idées : "
   ]
  },
  {
   "cell_type": "code",
   "execution_count": null,
   "metadata": {},
   "outputs": [],
   "source": []
  }
 ],
 "metadata": {
  "kernelspec": {
   "display_name": "Python 3",
   "language": "python",
   "name": "python3"
  },
  "language_info": {
   "codemirror_mode": {
    "name": "ipython",
    "version": 3
   },
   "file_extension": ".py",
   "mimetype": "text/x-python",
   "name": "python",
   "nbconvert_exporter": "python",
   "pygments_lexer": "ipython3",
   "version": "3.8.2-final"
  }
 },
 "nbformat": 4,
 "nbformat_minor": 4
}