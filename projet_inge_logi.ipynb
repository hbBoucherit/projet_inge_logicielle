{
 "cells": [
  {
   "cell_type": "markdown",
   "metadata": {},
   "source": [
    "# Exercice 1"
   ]
  },
  {
   "cell_type": "markdown",
   "metadata": {},
   "source": [
    "##### Réponse / idées : "
   ]
  },
  {
   "cell_type": "code",
   "execution_count": 28,
   "metadata": {},
   "outputs": [],
   "source": [
    "import json\n",
    "import pandas as pd\n",
    "\n",
    "import urllib.request\n",
    "import urllib.parse\n",
    "\n",
    "import sklearn\n",
    "from sklearn.metrics import classification_report, confusion_matrix, roc_curve, auc, roc_auc_score\n",
    "from sklearn.preprocessing import label_binarize, LabelBinarizer\n",
    "\n",
    "import matplotlib.pyplot as plt\n",
    "import itertools\n",
    "import numpy as np\n",
    "import seaborn as sns"
   ]
  },
  {
   "cell_type": "markdown",
   "metadata": {},
   "source": [
    "### Récupération des données d'entrainement et de test"
   ]
  },
  {
   "cell_type": "code",
   "execution_count": 2,
   "metadata": {},
   "outputs": [],
   "source": [
    "# Reading training_set file \n",
    "with open('training_set.json', encoding=\"utf8\") as json_file:\n",
    "    training_data = json.load(json_file)\n",
    "    \n",
    "# Reading testing_set file \n",
    "with open('testing_set.json', encoding=\"utf8\") as json_file:\n",
    "    testing_data = json.load(json_file)"
   ]
  },
  {
   "cell_type": "markdown",
   "metadata": {},
   "source": [
    "###### On charge aussi les données sous forme de dataframe pendant pour faciliter leur manipulation"
   ]
  },
  {
   "cell_type": "code",
   "execution_count": 3,
   "metadata": {},
   "outputs": [],
   "source": [
    "# Loading training data in pandas Dataframe\n",
    "df_train = pd.read_json(\"training_set.json\")\n",
    "\n",
    "# Loading testing data in pandas Dataframe\n",
    "df_test = pd.read_json('testing_set.json')"
   ]
  },
  {
   "cell_type": "markdown",
   "metadata": {},
   "source": [
    "## Analyses des données"
   ]
  },
  {
   "cell_type": "markdown",
   "metadata": {},
   "source": [
    "### Analyse des données d'entrainement"
   ]
  },
  {
   "cell_type": "code",
   "execution_count": 4,
   "metadata": {},
   "outputs": [
    {
     "name": "stdout",
     "output_type": "stream",
     "text": [
      "Training data shape: (6035, 2)\n"
     ]
    }
   ],
   "source": [
    "# Print df_train shape (rows and columns)\n",
    "print(f\"Training data shape: {df_train.shape}\")"
   ]
  },
  {
   "cell_type": "code",
   "execution_count": 5,
   "metadata": {},
   "outputs": [
    {
     "name": "stdout",
     "output_type": "stream",
     "text": [
      "<class 'pandas.core.frame.DataFrame'>\n",
      "RangeIndex: 6035 entries, 0 to 6034\n",
      "Data columns (total 2 columns):\n",
      " #   Column    Non-Null Count  Dtype \n",
      "---  ------    --------------  ----- \n",
      " 0   intent    6035 non-null   object\n",
      " 1   sentence  6035 non-null   object\n",
      "dtypes: object(2)\n",
      "memory usage: 94.4+ KB\n"
     ]
    }
   ],
   "source": [
    "# Print df_train info\n",
    "df_train.info()"
   ]
  },
  {
   "cell_type": "markdown",
   "metadata": {},
   "source": [
    "###### Les données d'entrainement comportent 6035 utterances et sont présentées en deux colonnes, une pour la classe (intent) et une pour l'utterance (sentence). Il ne manque aucune valeur."
   ]
  },
  {
   "cell_type": "code",
   "execution_count": 6,
   "metadata": {},
   "outputs": [
    {
     "data": {
      "text/html": [
       "<div>\n",
       "<style scoped>\n",
       "    .dataframe tbody tr th:only-of-type {\n",
       "        vertical-align: middle;\n",
       "    }\n",
       "\n",
       "    .dataframe tbody tr th {\n",
       "        vertical-align: top;\n",
       "    }\n",
       "\n",
       "    .dataframe thead th {\n",
       "        text-align: right;\n",
       "    }\n",
       "</style>\n",
       "<table border=\"1\" class=\"dataframe\">\n",
       "  <thead>\n",
       "    <tr style=\"text-align: right;\">\n",
       "      <th></th>\n",
       "      <th>intent</th>\n",
       "      <th>sentence</th>\n",
       "    </tr>\n",
       "  </thead>\n",
       "  <tbody>\n",
       "    <tr>\n",
       "      <th>count</th>\n",
       "      <td>6035</td>\n",
       "      <td>6035</td>\n",
       "    </tr>\n",
       "    <tr>\n",
       "      <th>unique</th>\n",
       "      <td>8</td>\n",
       "      <td>6035</td>\n",
       "    </tr>\n",
       "    <tr>\n",
       "      <th>top</th>\n",
       "      <td>irrelevant</td>\n",
       "      <td>Au final tu es un bot ou un humain, j'ai pas e...</td>\n",
       "    </tr>\n",
       "    <tr>\n",
       "      <th>freq</th>\n",
       "      <td>3852</td>\n",
       "      <td>1</td>\n",
       "    </tr>\n",
       "  </tbody>\n",
       "</table>\n",
       "</div>"
      ],
      "text/plain": [
       "            intent                                           sentence\n",
       "count         6035                                               6035\n",
       "unique           8                                               6035\n",
       "top     irrelevant  Au final tu es un bot ou un humain, j'ai pas e...\n",
       "freq          3852                                                  1"
      ]
     },
     "execution_count": 6,
     "metadata": {},
     "output_type": "execute_result"
    }
   ],
   "source": [
    "# Print statistical description\n",
    "df_train.describe()"
   ]
  },
  {
   "cell_type": "markdown",
   "metadata": {},
   "source": [
    "###### Ce tableau montre qu'il y a 8 classes et montre que la classe la plus représentée est la classe 'irrelevant' avec 3852 occurances, soit plus de la moitié des utterances. On peut dire que les données sont déséquilibrées."
   ]
  },
  {
   "cell_type": "code",
   "execution_count": 7,
   "metadata": {},
   "outputs": [
    {
     "data": {
      "text/plain": [
       "{'find-train': 143,\n",
       " 'irrelevant': 3852,\n",
       " 'find-flight': 142,\n",
       " 'find-restaurant': 469,\n",
       " 'purchase': 613,\n",
       " 'find-around-me': 383,\n",
       " 'provide-showtimes': 117,\n",
       " 'find-hotel': 316}"
      ]
     },
     "execution_count": 7,
     "metadata": {},
     "output_type": "execute_result"
    }
   ],
   "source": [
    "# Counting the number of data (train) for each intent\n",
    "train_data = {'find-train': 0, 'irrelevant': 0, 'find-flight': 0, 'find-restaurant': 0,\n",
    "           'purchase': 0, 'find-around-me' : 0, 'provide-showtimes' : 0, 'find-hotel' : 0}\n",
    "for i in range(len(training_data)):\n",
    "    for intent, count in train_data.items():\n",
    "        if training_data[i]['intent'] == intent :\n",
    "            count = count + 1\n",
    "            train_data[intent] = count\n",
    "\n",
    "# Counting each intent iteration\n",
    "train_data"
   ]
  },
  {
   "cell_type": "markdown",
   "metadata": {},
   "source": [
    "###### Ici nous pouvons voir le nombre d'utterance par classe, et on observe très clairement que la répartition des données dans les différentes est très déséquilibrées. Les classes 'find-train', 'find-flight' et 'provide-showtimes' sont très peu représentées. La classe 'irrelevant' fait presque 30 fois la taille de ces classes, et 10 fois la taille des classes 'find-around-me' et 'find-hotel'."
   ]
  },
  {
   "cell_type": "markdown",
   "metadata": {},
   "source": [
    "### Analyses des données de test"
   ]
  },
  {
   "cell_type": "markdown",
   "metadata": {},
   "source": [
    "###### Dans cette partie, on va mener les mêmes analyses que menées dans la partie précédente, mais sur les données de test."
   ]
  },
  {
   "cell_type": "code",
   "execution_count": 8,
   "metadata": {},
   "outputs": [
    {
     "name": "stdout",
     "output_type": "stream",
     "text": [
      "Testing data shape: (1065, 2)\n"
     ]
    }
   ],
   "source": [
    "# Print df_test shape (rows and columns)\n",
    "print(f\"Testing data shape: {df_test.shape}\")"
   ]
  },
  {
   "cell_type": "code",
   "execution_count": 9,
   "metadata": {},
   "outputs": [
    {
     "name": "stdout",
     "output_type": "stream",
     "text": [
      "<class 'pandas.core.frame.DataFrame'>\n",
      "RangeIndex: 1065 entries, 0 to 1064\n",
      "Data columns (total 2 columns):\n",
      " #   Column    Non-Null Count  Dtype \n",
      "---  ------    --------------  ----- \n",
      " 0   intent    1065 non-null   object\n",
      " 1   sentence  1065 non-null   object\n",
      "dtypes: object(2)\n",
      "memory usage: 16.8+ KB\n"
     ]
    }
   ],
   "source": [
    "# Print df_test info\n",
    "df_test.info()"
   ]
  },
  {
   "cell_type": "markdown",
   "metadata": {},
   "source": [
    "###### Les données de test comportent 1065 utterances. Il ne manque aucune valeur."
   ]
  },
  {
   "cell_type": "code",
   "execution_count": 10,
   "metadata": {},
   "outputs": [
    {
     "data": {
      "text/html": [
       "<div>\n",
       "<style scoped>\n",
       "    .dataframe tbody tr th:only-of-type {\n",
       "        vertical-align: middle;\n",
       "    }\n",
       "\n",
       "    .dataframe tbody tr th {\n",
       "        vertical-align: top;\n",
       "    }\n",
       "\n",
       "    .dataframe thead th {\n",
       "        text-align: right;\n",
       "    }\n",
       "</style>\n",
       "<table border=\"1\" class=\"dataframe\">\n",
       "  <thead>\n",
       "    <tr style=\"text-align: right;\">\n",
       "      <th></th>\n",
       "      <th>intent</th>\n",
       "      <th>sentence</th>\n",
       "    </tr>\n",
       "  </thead>\n",
       "  <tbody>\n",
       "    <tr>\n",
       "      <th>count</th>\n",
       "      <td>1065</td>\n",
       "      <td>1065</td>\n",
       "    </tr>\n",
       "    <tr>\n",
       "      <th>unique</th>\n",
       "      <td>8</td>\n",
       "      <td>1064</td>\n",
       "    </tr>\n",
       "    <tr>\n",
       "      <th>top</th>\n",
       "      <td>irrelevant</td>\n",
       "      <td>Est ce que tu connais des sites internet sur l...</td>\n",
       "    </tr>\n",
       "    <tr>\n",
       "      <th>freq</th>\n",
       "      <td>677</td>\n",
       "      <td>2</td>\n",
       "    </tr>\n",
       "  </tbody>\n",
       "</table>\n",
       "</div>"
      ],
      "text/plain": [
       "            intent                                           sentence\n",
       "count         1065                                               1065\n",
       "unique           8                                               1064\n",
       "top     irrelevant  Est ce que tu connais des sites internet sur l...\n",
       "freq           677                                                  2"
      ]
     },
     "execution_count": 10,
     "metadata": {},
     "output_type": "execute_result"
    }
   ],
   "source": [
    "# Print statistical description\n",
    "df_test.describe()"
   ]
  },
  {
   "cell_type": "markdown",
   "metadata": {},
   "source": [
    "###### Encore une fois, la classe 'irrelevant' est la plus représentée, avec 677 utterances, donc plus de la moitié des données de test. Les données sont encore une fois déséquilibrées."
   ]
  },
  {
   "cell_type": "code",
   "execution_count": 11,
   "metadata": {},
   "outputs": [
    {
     "data": {
      "text/plain": [
       "{'find-train': 21,\n",
       " 'irrelevant': 677,\n",
       " 'find-flight': 24,\n",
       " 'find-restaurant': 93,\n",
       " 'purchase': 114,\n",
       " 'find-around-me': 67,\n",
       " 'provide-showtimes': 14,\n",
       " 'find-hotel': 55}"
      ]
     },
     "execution_count": 11,
     "metadata": {},
     "output_type": "execute_result"
    }
   ],
   "source": [
    "# Counting the number of data (test) for each intent\n",
    "test_data = {'find-train': 0, 'irrelevant': 0, 'find-flight': 0, 'find-restaurant': 0,\n",
    "           'purchase': 0, 'find-around-me' : 0, 'provide-showtimes' : 0, 'find-hotel' : 0}\n",
    "for i in range(len(testing_data)):\n",
    "    for intent, count in test_data.items():\n",
    "        if testing_data[i]['intent'] == intent :\n",
    "            count = count + 1\n",
    "            test_data[intent] = count\n",
    "\n",
    "# Counting each intent iteration\n",
    "test_data"
   ]
  },
  {
   "cell_type": "markdown",
   "metadata": {},
   "source": [
    "###### Les classes 'find-train', 'find-flight' et 'provide-show-times' sont encore une fois très peu représentées. La répartition dans les différentes classes est très déséquilibrée."
   ]
  },
  {
   "cell_type": "markdown",
   "metadata": {},
   "source": [
    "### Analyse du modèle"
   ]
  },
  {
   "cell_type": "code",
   "execution_count": 12,
   "metadata": {},
   "outputs": [],
   "source": [
    "# Splitting data into features (sentence) and target (intent)\n",
    "x_train = df_train['sentence'] \n",
    "y_train = df_train['intent'] \n",
    "\n",
    "x_test = df_test['sentence']\n",
    "y_test = df_test['intent']"
   ]
  },
  {
   "cell_type": "code",
   "execution_count": 13,
   "metadata": {},
   "outputs": [],
   "source": [
    "# Fetching predictions from urllib\n",
    "def get_prediction(features):\n",
    "    url = \"http://localhost:8080/api/intent?sentence=\"\n",
    "    \n",
    "    labels = []\n",
    "    for sentence in features:\n",
    "        sentence = urllib.parse.quote(sentence)\n",
    "        get_pred = urllib.request.urlopen(url+sentence)\n",
    "        prediction = json.load(get_pred)\n",
    "\n",
    "        label = max(prediction, key=prediction.get)\n",
    "        labels.append(label)\n",
    "    \n",
    "    df_pred = pd.DataFrame({'prediction':labels})\n",
    "    \n",
    "    return df_pred"
   ]
  },
  {
   "cell_type": "code",
   "execution_count": 15,
   "metadata": {},
   "outputs": [
    {
     "name": "stdout",
     "output_type": "stream",
     "text": [
      "                   precision    recall  f1-score   support\n",
      "\n",
      "   find-around-me       0.88      0.43      0.58        67\n",
      "      find-flight       0.88      0.29      0.44        24\n",
      "       find-hotel       0.78      0.38      0.51        55\n",
      "  find-restaurant       0.98      0.56      0.71        93\n",
      "       find-train       0.93      0.67      0.78        21\n",
      "       irrelevant       0.79      0.98      0.87       677\n",
      "provide-showtimes       0.80      0.29      0.42        14\n",
      "         purchase       0.79      0.59      0.67       114\n",
      "\n",
      "         accuracy                           0.80      1065\n",
      "        macro avg       0.85      0.52      0.62      1065\n",
      "     weighted avg       0.82      0.80      0.78      1065\n",
      "\n"
     ]
    }
   ],
   "source": [
    "# Computing Precision, Recall, F1 score using scikit-learn\n",
    "report = classification_report(y_test, get_prediction(x_test))\n",
    "print(report)\n",
    "\n"
   ]
  },
  {
   "cell_type": "markdown",
   "metadata": {},
   "source": [
    "###### On constate que mis à part la classe 'irrelevant', les scores pour les métriques recall et f1 sont mauvais.\n",
    "###### Un score bas pour le recall signifie que la proportion d'utterance que le modèle a su classer dans une classe est faible par rapport au nombre total d'utterance dans cette classe."
   ]
  },
  {
   "cell_type": "code",
   "execution_count": 16,
   "metadata": {},
   "outputs": [],
   "source": [
    "def plot_confusion_matrix(cm, title='Confusion matrix', cmap=plt.cm.Blues):\n",
    "    \n",
    "    labels = ['find-train', 'irrelevant', 'find-flight', 'find-restaurant', 'purchase', 'find-around-me', 'provide-showtimes', 'find-hotel']\n",
    "    plt.imshow(cm, interpolation='nearest', cmap=cmap)\n",
    "    plt.title(title, fontsize=30)\n",
    "    plt.colorbar()\n",
    "    tick_marks = np.arange(len(labels))\n",
    "    plt.xticks(tick_marks, labels, rotation=45, fontsize=15)\n",
    "    plt.yticks(tick_marks, labels, fontsize=15)\n",
    "    \n",
    "    cm = cm.astype('float') / cm.sum(axis=1)[:, np.newaxis]\n",
    "    cm = np.around(cm, decimals=2)\n",
    "\n",
    "    thresh = 0.70\n",
    "    for i, j in itertools.product(range(cm.shape[0]), range(cm.shape[1])):\n",
    "        plt.text(j, i, cm[i, j],\n",
    "                 horizontalalignment=\"center\",\n",
    "                 color=\"white\" if cm[i, j] > thresh else \"black\", fontsize=15)\n",
    "\n",
    "    plt.tight_layout()\n",
    "    plt.ylabel('True label', fontsize=20)\n",
    "    plt.xlabel('Predicted label', fontsize=20)"
   ]
  },
  {
   "cell_type": "code",
   "execution_count": 17,
   "metadata": {},
   "outputs": [
    {
     "data": {
      "image/png": "[encoded data removed]",
      "text/plain": [
       "<Figure size 720x720 with 2 Axes>"
      ]
     },
     "metadata": {
      "needs_background": "light"
     },
     "output_type": "display_data"
    }
   ],
   "source": [
    "# Plot confusion matrix\n",
    "df_pred = get_prediction(x_test)\n",
    "conf_mat = confusion_matrix(y_test, df_pred)\n",
    "\n",
    "plt.figure(figsize=(10,10))\n",
    "plot_confusion_matrix(conf_mat)\n",
    "plt.show()"
   ]
  },
  {
   "cell_type": "markdown",
   "metadata": {},
   "source": [
    "###### Sur cette matrice de confusion, on voit que le modèle prédit assez mal les classes."
   ]
  },
  {
   "cell_type": "code",
   "execution_count": 18,
   "metadata": {},
   "outputs": [
    {
     "name": "stdout",
     "output_type": "stream",
     "text": [
      "[[1.90632511e-02 3.88084888e-01 2.71791965e-02 ... 7.45929331e-02\n",
      "  1.09721571e-02 2.79567167e-02]\n",
      " [3.32277641e-02 5.41999936e-01 2.76485924e-02 ... 6.27820492e-02\n",
      "  3.48897204e-02 1.81026146e-01]\n",
      " [1.70242675e-02 7.04971135e-01 2.02584993e-02 ... 3.43001336e-02\n",
      "  2.56650075e-02 3.73521261e-02]\n",
      " ...\n",
      " [3.95856751e-03 8.96818399e-01 3.24731739e-03 ... 4.28173356e-02\n",
      "  4.51520231e-04 1.77550483e-02]\n",
      " [1.45552484e-02 1.04366422e-01 3.02942675e-02 ... 3.51525843e-01\n",
      "  1.07253343e-02 5.60341254e-02]\n",
      " [1.06861512e-03 9.59956288e-01 7.67351070e-04 ... 3.50412307e-03\n",
      "  1.22734607e-04 2.46229451e-02]]\n"
     ]
    }
   ],
   "source": [
    "# Fetching real class score\n",
    "def get_scores(features):\n",
    "    url = \"http://localhost:8080/api/intent?sentence=\"\n",
    "    \n",
    "    labels = ['find-train', 'irrelevant', 'find-flight', 'find-restaurant', 'purchase', 'find-around-me', 'provide-showtimes', 'find-hotel']\n",
    "    \n",
    "    scores = []\n",
    "    for i in range(len(features)):\n",
    "        \n",
    "        sentence = urllib.parse.quote(features[i])\n",
    "        get_pred = urllib.request.urlopen(url+sentence)\n",
    "        prediction = json.load(get_pred)\n",
    "        \n",
    "        score = []\n",
    "        for label in labels:\n",
    "            score_label = prediction[label]\n",
    "            score.append(score_label)\n",
    "            \n",
    "        # label_score = prediction[labels[i]]\n",
    "        scores.append(score)\n",
    "    \n",
    "    scores = np.array(scores)\n",
    "    \n",
    "    \n",
    "    return scores\n",
    "\n",
    "y_test_score = get_scores(x_test)\n",
    "print(y_test_score)"
   ]
  },
  {
   "cell_type": "code",
   "execution_count": 32,
   "metadata": {},
   "outputs": [
    {
     "name": "stdout",
     "output_type": "stream",
     "text": [
      "[[0 0 0 ... 1 0 0]\n",
      " [0 0 0 ... 1 0 0]\n",
      " [0 0 0 ... 1 0 0]\n",
      " ...\n",
      " [0 0 0 ... 1 0 0]\n",
      " [1 0 0 ... 0 0 0]\n",
      " [0 0 0 ... 1 0 0]]\n"
     ]
    },
    {
     "data": {
      "image/png": "[encoded data removed]",
      "text/plain": [
       "<Figure size 720x720 with 1 Axes>"
      ]
     },
     "metadata": {
      "needs_background": "light"
     },
     "output_type": "display_data"
    }
   ],
   "source": [
    "# je sais pas encore comment on fait pour plot une courbe roc pour une classification multiclasse\n",
    "# def plot_multiclass_roc_curve():\n",
    "y_test_score = get_scores(x_test)\n",
    "lb = LabelBinarizer()\n",
    "y_labels = lb.fit(y_test)\n",
    "labels = y_labels.classes_\n",
    "y_test_encoded = y_labels.transform(y_test)\n",
    "\n",
    "# print(y_train_score['Scores'][1])\n",
    "fpr = dict()\n",
    "tpr = dict()\n",
    "roc_auc = dict()\n",
    "\n",
    "for i in range(len(labels)):\n",
    "    fpr[i], tpr[i], _ = roc_curve(y_test_encoded[:,i], y_test_score[:, i]) # il faut le score de toutes les catégories\n",
    "    roc_auc[i] = auc(fpr[i], tpr[i]) \n",
    "\n",
    "fig, ax = plt.subplots(figsize=(10,10))\n",
    "ax.plot([0, 1], [0, 1], 'k--')\n",
    "ax.set_xlim([0.0, 1.0])\n",
    "ax.set_ylim([0.0, 1.05])\n",
    "ax.set_xlabel('False Positive Rate')\n",
    "ax.set_ylabel('True Positive Rate')\n",
    "ax.set_title('Receiver operating characteristic example')\n",
    "for i in range(len(labels)):\n",
    "    ax.plot(fpr[i], tpr[i], label='ROC curve (area = %0.2f) for label %s' % (roc_auc[i], labels[i]))\n",
    "ax.legend(loc=\"best\")\n",
    "ax.grid(alpha=.4)\n",
    "sns.despine()\n",
    "plt.show()"
   ]
  },
  {
   "cell_type": "code",
   "execution_count": 26,
   "metadata": {},
   "outputs": [
    {
     "name": "stdout",
     "output_type": "stream",
     "text": [
      "0.5709912320813624\n"
     ]
    }
   ],
   "source": [
    "labels = ['find-train', 'irrelevant', 'find-flight', 'find-restaurant', 'purchase', 'find-around-me', 'provide-showtimes', 'find-hotel']\n",
    "y_test_binarize = label_binarize(y_test, classes=labels)\n",
    "\n",
    "roc_score = roc_auc_score(y_test, y_test_score, multi_class='ovo', average='macro')\n",
    "print(roc_score)\n",
    "\n",
    "# très étrange, quand je binairise les labels c'est 93% et quand je binairise pas c'est 57%"
   ]
  },
  {
   "cell_type": "markdown",
   "metadata": {},
   "source": [
    "# Exercice 2"
   ]
  },
  {
   "cell_type": "markdown",
   "metadata": {},
   "source": [
    "##### Réponse / idées : "
   ]
  },
  {
   "cell_type": "code",
   "execution_count": null,
   "metadata": {},
   "outputs": [],
   "source": [
    "# la valeur de threshold est peut-être trop faible pour le modèle précédent car tout fini en 'irrelevant'\n",
    "# si le score en sortie de softmax (généralement la dernière couche d'un problème de classification) d'aucune des classes n'est supérieure à ce threshold, alors la classe prédite est \"irrelevant\""
   ]
  },
  {
   "cell_type": "code",
   "execution_count": 27,
   "metadata": {},
   "outputs": [
    {
     "name": "stdout",
     "output_type": "stream",
     "text": [
      "                Label    Scores\n",
      "0          irrelevant  0.388085\n",
      "1          irrelevant  0.542000\n",
      "2          irrelevant  0.704971\n",
      "3            purchase  0.286700\n",
      "4     find-restaurant  0.581406\n",
      "...               ...       ...\n",
      "1060       irrelevant  0.980859\n",
      "1061       find-train  0.086588\n",
      "1062       irrelevant  0.896818\n",
      "1063   find-around-me  0.351526\n",
      "1064       irrelevant  0.959956\n",
      "\n",
      "[1065 rows x 2 columns]\n"
     ]
    }
   ],
   "source": [
    "def get_true_label_score(features, labels):\n",
    "    url = \"http://localhost:8080/api/intent?sentence=\"\n",
    "    \n",
    "    scores = []\n",
    "    labels_pred = []\n",
    "    for i in range(len(features)):\n",
    "        sentence = urllib.parse.quote(features[i])\n",
    "        get_pred = urllib.request.urlopen(url+sentence)\n",
    "        prediction = json.load(get_pred)\n",
    "        \n",
    "        label_score = prediction[labels[i]]\n",
    "        scores.append(label_score)\n",
    "        labels_pred.append(labels[i])\n",
    "    \n",
    "    label_scores = pd.DataFrame({'Label':labels_pred, 'Scores':scores})\n",
    "    \n",
    "    return label_scores\n",
    "\n",
    "y_test_score = get_true_label_score(x_test, y_test)\n",
    "print(y_test_score)\n",
    "\n",
    "\n",
    "    "
   ]
  },
  {
   "cell_type": "code",
   "execution_count": 31,
   "metadata": {},
   "outputs": [
    {
     "name": "stdout",
     "output_type": "stream",
     "text": [
      "               Label      Mean  Standard deviation\n",
      "0         find-train  0.449604            0.293161\n",
      "1         irrelevant  0.726593            0.176583\n",
      "2        find-flight  0.245033            0.208919\n",
      "3    find-restaurant  0.451119            0.253929\n",
      "4           purchase  0.457684            0.241340\n",
      "5     find-around-me  0.331112            0.237720\n",
      "6  provide-showtimes  0.275741            0.206900\n",
      "7         find-hotel  0.333029            0.262380\n"
     ]
    }
   ],
   "source": [
    "# On calcule la moyenne \n",
    "def mean_std_score_label(scores):\n",
    "    labels = ['find-train', 'irrelevant', 'find-flight', 'find-restaurant', 'purchase', 'find-around-me', 'provide-showtimes', 'find-hotel']\n",
    "    \n",
    "    mean = []\n",
    "    std = []\n",
    "    for label in labels:\n",
    "        mean_label = scores.loc[scores['Label'].isin([label]), 'Scores'].mean()\n",
    "        std_label = scores.loc[scores['Label'].isin([label]), 'Scores'].std()\n",
    "        \n",
    "        mean.append(mean_label)\n",
    "        std.append(std_label)\n",
    "    \n",
    "    \n",
    "    mean_scores = pd.DataFrame({'Label':labels, 'Mean':mean, 'Standard deviation':std})\n",
    "    \n",
    "    return mean_scores\n",
    "\n",
    "mean_scores = mean_std_score_label(y_test_score)\n",
    "print(mean_scores)\n"
   ]
  },
  {
   "cell_type": "markdown",
   "metadata": {},
   "source": [
    "## Exercice 3"
   ]
  },
  {
   "cell_type": "markdown",
   "metadata": {},
   "source": [
    "##### Réponse / idées : "
   ]
  },
  {
   "cell_type": "code",
   "execution_count": null,
   "metadata": {},
   "outputs": [],
   "source": []
  },
  {
   "cell_type": "markdown",
   "metadata": {},
   "source": [
    "## Exercice 4"
   ]
  },
  {
   "cell_type": "markdown",
   "metadata": {},
   "source": [
    "##### Réponse / idées : "
   ]
  },
  {
   "cell_type": "code",
   "execution_count": null,
   "metadata": {},
   "outputs": [],
   "source": []
  },
  {
   "cell_type": "markdown",
   "metadata": {},
   "source": [
    "## Exercice 5"
   ]
  },
  {
   "cell_type": "markdown",
   "metadata": {},
   "source": [
    "##### Réponse / idées : "
   ]
  },
  {
   "cell_type": "code",
   "execution_count": null,
   "metadata": {},
   "outputs": [],
   "source": []
  }
 ],
 "metadata": {
  "kernelspec": {
   "display_name": "Python 3",
   "language": "python",
   "name": "python3"
  },
  "language_info": {
   "codemirror_mode": {
    "name": "ipython",
    "version": 3
   },
   "file_extension": ".py",
   "mimetype": "text/x-python",
   "name": "python",
   "nbconvert_exporter": "python",
   "pygments_lexer": "ipython3",
   "version": "3.7.6"
  }
 },
 "nbformat": 4,
 "nbformat_minor": 4
}
