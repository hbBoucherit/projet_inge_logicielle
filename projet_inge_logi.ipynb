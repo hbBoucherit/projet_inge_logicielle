{
 "cells": [
  {
   "cell_type": "markdown",
   "metadata": {},
   "source": [
    "## Exercice 1"
   ]
  },
  {
   "cell_type": "code",
   "execution_count": 1,
   "metadata": {
    "tags": []
   },
   "outputs": [
    {
     "output_type": "stream",
     "name": "stdout",
     "text": "Requirement already satisfied: urllib3 in /home/thinkdeep/.local/lib/python3.8/site-packages (1.25.9)\nRequirement already satisfied: pandas in /home/thinkdeep/.local/lib/python3.8/site-packages (1.0.3)\nRequirement already satisfied: python-dateutil&gt;=2.6.1 in /home/thinkdeep/.local/lib/python3.8/site-packages (from pandas) (2.8.1)\nRequirement already satisfied: pytz&gt;=2017.2 in /home/thinkdeep/.local/lib/python3.8/site-packages (from pandas) (2020.1)\nRequirement already satisfied: numpy&gt;=1.13.3 in /home/thinkdeep/.local/lib/python3.8/site-packages (from pandas) (1.18.2)\nRequirement already satisfied: six&gt;=1.5 in /home/thinkdeep/.local/lib/python3.8/site-packages (from python-dateutil&gt;=2.6.1-&gt;pandas) (1.15.0)\nRequirement already satisfied: numpy in /home/thinkdeep/.local/lib/python3.8/site-packages (1.18.2)\n"
    }
   ],
   "source": [
    "!pip3 install urllib3\n",
    "!pip3 install pandas\n",
    "!pip3 install numpy"
   ]
  },
  {
   "cell_type": "code",
   "execution_count": 2,
   "metadata": {},
   "outputs": [],
   "source": [
    "# Retrieve prediction from the wiidii model hosted on docker webservice \n",
    "import urllib.request\n",
    "# Structure of persistant data\n",
    "import json \n",
    "\n",
    "# Manipulation of tabular data\n",
    "import pandas as pd\n",
    "# Calculations with numericals\n",
    "import numpy as np"
   ]
  },
  {
   "cell_type": "code",
   "execution_count": 3,
   "metadata": {},
   "outputs": [],
   "source": [
    "#Reading training_set file \n",
    "with open('training_set.json', encoding=\"utf8\") as json_file:\n",
    "    training_data = json.load(json_file)\n",
    "    \n",
    "#Reading testing_set file \n",
    "with open('testing_set.json', encoding=\"utf8\") as json_file:\n",
    "    testing_data = json.load(json_file)"
   ]
  },
  {
   "cell_type": "code",
   "execution_count": 4,
   "metadata": {},
   "outputs": [],
   "source": [
    "# Parsing data from json structure to pandas Dataframe structure\n",
    "dataset_train = np.array([sample[\"sentence\"] for sample in training_data])\n",
    "target_train  = np.array([sample[\"intent\"] for sample in training_data])\n",
    "\n",
    "dataset_test = np.array([sample[\"sentence\"] for sample in testing_data])\n",
    "target_test  = np.array([sample[\"intent\"] for sample in testing_data])"
   ]
  },
  {
   "cell_type": "code",
   "execution_count": 5,
   "metadata": {
    "tags": []
   },
   "outputs": [
    {
     "output_type": "stream",
     "name": "stdout",
     "text": "Dataset shape : (6035,)\nTarget  shape : (6035,)\n\nDataset shape : (1065,)\nTarget  shape : (1065,)\n"
    }
   ],
   "source": [
    "# Checking shapes\n",
    "print(f\"Dataset shape : {dataset_train.shape}\");\n",
    "print(f\"Target  shape : {target_train.shape}\\n\");\n",
    "\n",
    "print(f\"Dataset shape : {dataset_test.shape}\");\n",
    "print(f\"Target  shape : {target_test.shape}\");"
   ]
  },
  {
   "cell_type": "code",
   "execution_count": 10,
   "metadata": {},
   "outputs": [],
   "source": [
    "# Changing types for better visualisation & computations\n",
    "x_train = pd.DataFrame(dataset_train,columns=[\"Sentence\"])\n",
    "y_train = pd.DataFrame(target_train, columns=[\"Intent\"])\n",
    "\n",
    "x_test = pd.DataFrame(dataset_test,columns=[\"Sentence\"])\n",
    "y_test = pd.DataFrame(target_test, columns=[\"Intent\"])"
   ]
  },
  {
   "cell_type": "code",
   "execution_count": 12,
   "metadata": {
    "tags": []
   },
   "outputs": [
    {
     "output_type": "stream",
     "name": "stdout",
     "text": "                                            Sentence\n0            Tu sais où je peux acheter un bazooka ?\n1                 déco de maison style maison ferret\n2                      j&#39;ai envie qu&#39;on se rencontre\n3             J’ai besoin de fleurs pr ma grand mère\n4  trouve à champigny-sur-marne où manger de la c...\n\n\n&lt;class &#39;pandas.core.frame.DataFrame&#39;&gt;\nRangeIndex: 1065 entries, 0 to 1064\nData columns (total 1 columns):\n #   Column    Non-Null Count  Dtype \n---  ------    --------------  ----- \n 0   Sentence  1065 non-null   object\ndtypes: object(1)\nmemory usage: 8.4+ KB\nNone\n\n\n"
    }
   ],
   "source": [
    "def study_data(x):\n",
    "    # Studying input data\n",
    "    print(x.head())\n",
    "    print(\"\\n\")\n",
    "    # Missing value\n",
    "    print(x.info())\n",
    "    print(\"\\n\")\n",
    "    # x.describe() no need for descriptive stats because categorical object\n",
    "\n",
    "study_data(x_test)"
   ]
  },
  {
   "cell_type": "code",
   "execution_count": 13,
   "metadata": {
    "tags": []
   },
   "outputs": [],
   "source": [
    "import urllib.parse\n",
    "# Getting prediction with 1065 test data\n",
    "def get_prediction_from_docker(sentence):\n",
    "    url = \"http://127.0.0.1:80/api/intent?sentence=\"+\"<\"+urllib.parse.quote(sentence)+\">\"\n",
    "    with urllib.request.urlopen(url) as response :\n",
    "        return json.load(response)"
   ]
  },
  {
   "cell_type": "code",
   "execution_count": 15,
   "metadata": {
    "tags": []
   },
   "outputs": [],
   "source": [
    "json_results = [get_prediction_from_docker(sentence) for sentence in x_test['Sentence']]"
   ]
  },
  {
   "cell_type": "code",
   "execution_count": 21,
   "metadata": {},
   "outputs": [
    {
     "output_type": "execute_result",
     "data": {
      "text/plain": "{&#39;find-train&#39;: 0.020727816969156265,\n &#39;irrelevant&#39;: 0.3929397463798523,\n &#39;find-flight&#39;: 0.03598225861787796,\n &#39;find-restaurant&#39;: 0.07283203303813934,\n &#39;purchase&#39;: 0.37030187249183655,\n &#39;find-around-me&#39;: 0.06633546948432922,\n &#39;provide-showtimes&#39;: 0.009604641236364841,\n &#39;find-hotel&#39;: 0.03127620369195938}"
     },
     "metadata": {},
     "execution_count": 21
    }
   ],
   "source": [
    "json_results[0]"
   ]
  },
  {
   "cell_type": "code",
   "execution_count": 57,
   "metadata": {
    "tags": []
   },
   "outputs": [
    {
     "output_type": "stream",
     "name": "stdout",
     "text": "[&#39;irrelevant&#39;, &#39;irrelevant&#39;, &#39;irrelevant&#39;, &#39;irrelevant&#39;, &#39;find-restaurant&#39;]\n"
    }
   ],
   "source": [
    "# Prepare to add the prediction feature in our final dataframe\n",
    "prediction_columns = ['find-train', 'irrelevant', 'find-flight', 'find-restaurant',\n",
    "           'purchase', 'find-around-me', 'provide-showtimes', 'find-hotel']\n",
    "predictions = [prediction_columns[np.argmax([json_results[i][value] for value in json_results[i]])] for i in range(len(json_results))]\n",
    "print(predictions[:5])"
   ]
  },
  {
   "cell_type": "code",
   "execution_count": 58,
   "metadata": {
    "tags": []
   },
   "outputs": [],
   "source": [
    "\n",
    "df_results = pd.DataFrame(json_results, columns=prediction_columns)\n",
    "df_prediction = pd.DataFrame(predictions, columns=[\"Predicted\"])"
   ]
  },
  {
   "cell_type": "code",
   "execution_count": 59,
   "metadata": {
    "tags": []
   },
   "outputs": [
    {
     "output_type": "stream",
     "name": "stdout",
     "text": "Nb de resultats : 1065\n"
    },
    {
     "output_type": "execute_result",
     "data": {
      "text/plain": "   find-train  irrelevant  find-flight  find-restaurant  purchase  \\\n0    0.020728    0.392940     0.035982         0.072832  0.370302   \n1    0.034970    0.531172     0.035429         0.038700  0.080105   \n2    0.017667    0.681269     0.025598         0.134089  0.050936   \n3    0.021682    0.429878     0.031576         0.038159  0.267280   \n4    0.027025    0.154664     0.010786         0.657717  0.098362   \n\n   find-around-me  provide-showtimes  find-hotel  \n0        0.066335           0.009605    0.031276  \n1        0.054041           0.029561    0.196022  \n2        0.029113           0.021443    0.039883  \n3        0.117537           0.014895    0.078994  \n4        0.023528           0.015831    0.012087  ",
      "text/html": "<div>\n<style scoped>\n    .dataframe tbody tr th:only-of-type {\n        vertical-align: middle;\n    }\n\n    .dataframe tbody tr th {\n        vertical-align: top;\n    }\n\n    .dataframe thead th {\n        text-align: right;\n    }\n</style>\n<table border=\"1\" class=\"dataframe\">\n  <thead>\n    <tr style=\"text-align: right;\">\n      <th></th>\n      <th>find-train</th>\n      <th>irrelevant</th>\n      <th>find-flight</th>\n      <th>find-restaurant</th>\n      <th>purchase</th>\n      <th>find-around-me</th>\n      <th>provide-showtimes</th>\n      <th>find-hotel</th>\n    </tr>\n  </thead>\n  <tbody>\n    <tr>\n      <th>0</th>\n      <td>0.020728</td>\n      <td>0.392940</td>\n      <td>0.035982</td>\n      <td>0.072832</td>\n      <td>0.370302</td>\n      <td>0.066335</td>\n      <td>0.009605</td>\n      <td>0.031276</td>\n    </tr>\n    <tr>\n      <th>1</th>\n      <td>0.034970</td>\n      <td>0.531172</td>\n      <td>0.035429</td>\n      <td>0.038700</td>\n      <td>0.080105</td>\n      <td>0.054041</td>\n      <td>0.029561</td>\n      <td>0.196022</td>\n    </tr>\n    <tr>\n      <th>2</th>\n      <td>0.017667</td>\n      <td>0.681269</td>\n      <td>0.025598</td>\n      <td>0.134089</td>\n      <td>0.050936</td>\n      <td>0.029113</td>\n      <td>0.021443</td>\n      <td>0.039883</td>\n    </tr>\n    <tr>\n      <th>3</th>\n      <td>0.021682</td>\n      <td>0.429878</td>\n      <td>0.031576</td>\n      <td>0.038159</td>\n      <td>0.267280</td>\n      <td>0.117537</td>\n      <td>0.014895</td>\n      <td>0.078994</td>\n    </tr>\n    <tr>\n      <th>4</th>\n      <td>0.027025</td>\n      <td>0.154664</td>\n      <td>0.010786</td>\n      <td>0.657717</td>\n      <td>0.098362</td>\n      <td>0.023528</td>\n      <td>0.015831</td>\n      <td>0.012087</td>\n    </tr>\n  </tbody>\n</table>\n</div>"
     },
     "metadata": {},
     "execution_count": 59
    }
   ],
   "source": [
    "print(f\"Nb de resultats : {len(df_results)}\")\n",
    "df_results.head()"
   ]
  },
  {
   "cell_type": "code",
   "execution_count": 60,
   "metadata": {
    "tags": []
   },
   "outputs": [
    {
     "output_type": "stream",
     "name": "stdout",
     "text": "Nb de resultats : 1065\n"
    },
    {
     "output_type": "execute_result",
     "data": {
      "text/plain": "         Predicted\n0       irrelevant\n1       irrelevant\n2       irrelevant\n3       irrelevant\n4  find-restaurant",
      "text/html": "<div>\n<style scoped>\n    .dataframe tbody tr th:only-of-type {\n        vertical-align: middle;\n    }\n\n    .dataframe tbody tr th {\n        vertical-align: top;\n    }\n\n    .dataframe thead th {\n        text-align: right;\n    }\n</style>\n<table border=\"1\" class=\"dataframe\">\n  <thead>\n    <tr style=\"text-align: right;\">\n      <th></th>\n      <th>Predicted</th>\n    </tr>\n  </thead>\n  <tbody>\n    <tr>\n      <th>0</th>\n      <td>irrelevant</td>\n    </tr>\n    <tr>\n      <th>1</th>\n      <td>irrelevant</td>\n    </tr>\n    <tr>\n      <th>2</th>\n      <td>irrelevant</td>\n    </tr>\n    <tr>\n      <th>3</th>\n      <td>irrelevant</td>\n    </tr>\n    <tr>\n      <th>4</th>\n      <td>find-restaurant</td>\n    </tr>\n  </tbody>\n</table>\n</div>"
     },
     "metadata": {},
     "execution_count": 60
    }
   ],
   "source": [
    "print(f\"Nb de resultats : {len(df_prediction)}\")\n",
    "df_prediction.head()"
   ]
  },
  {
   "cell_type": "code",
   "execution_count": 61,
   "metadata": {
    "tags": []
   },
   "outputs": [
    {
     "output_type": "stream",
     "name": "stdout",
     "text": "Nb d&#39;input : 1065\n"
    },
    {
     "output_type": "execute_result",
     "data": {
      "text/plain": "                                            Sentence\n0            Tu sais où je peux acheter un bazooka ?\n1                 déco de maison style maison ferret\n2                      j&#39;ai envie qu&#39;on se rencontre\n3             J’ai besoin de fleurs pr ma grand mère\n4  trouve à champigny-sur-marne où manger de la c...",
      "text/html": "<div>\n<style scoped>\n    .dataframe tbody tr th:only-of-type {\n        vertical-align: middle;\n    }\n\n    .dataframe tbody tr th {\n        vertical-align: top;\n    }\n\n    .dataframe thead th {\n        text-align: right;\n    }\n</style>\n<table border=\"1\" class=\"dataframe\">\n  <thead>\n    <tr style=\"text-align: right;\">\n      <th></th>\n      <th>Sentence</th>\n    </tr>\n  </thead>\n  <tbody>\n    <tr>\n      <th>0</th>\n      <td>Tu sais où je peux acheter un bazooka ?</td>\n    </tr>\n    <tr>\n      <th>1</th>\n      <td>déco de maison style maison ferret</td>\n    </tr>\n    <tr>\n      <th>2</th>\n      <td>j'ai envie qu'on se rencontre</td>\n    </tr>\n    <tr>\n      <th>3</th>\n      <td>J’ai besoin de fleurs pr ma grand mère</td>\n    </tr>\n    <tr>\n      <th>4</th>\n      <td>trouve à champigny-sur-marne où manger de la c...</td>\n    </tr>\n  </tbody>\n</table>\n</div>"
     },
     "metadata": {},
     "execution_count": 61
    }
   ],
   "source": [
    "print(f\"Nb d'input : {len(x_test)}\")\n",
    "x_test.head()"
   ]
  },
  {
   "cell_type": "code",
   "execution_count": 28,
   "metadata": {},
   "outputs": [
    {
     "output_type": "execute_result",
     "data": {
      "text/plain": "   find-train  irrelevant  find-flight  find-restaurant  purchase  \\\n0    0.020728    0.392940     0.035982         0.072832  0.370302   \n1    0.034970    0.531172     0.035429         0.038700  0.080105   \n2    0.017667    0.681269     0.025598         0.134089  0.050936   \n3    0.021682    0.429878     0.031576         0.038159  0.267280   \n4    0.027025    0.154664     0.010786         0.657717  0.098362   \n\n   find-around-me  provide-showtimes  find-hotel  \\\n0        0.066335           0.009605    0.031276   \n1        0.054041           0.029561    0.196022   \n2        0.029113           0.021443    0.039883   \n3        0.117537           0.014895    0.078994   \n4        0.023528           0.015831    0.012087   \n\n                                            Sentence           Intent  \n0            Tu sais où je peux acheter un bazooka ?       irrelevant  \n1                 déco de maison style maison ferret       irrelevant  \n2                      j&#39;ai envie qu&#39;on se rencontre       irrelevant  \n3             J’ai besoin de fleurs pr ma grand mère         purchase  \n4  trouve à champigny-sur-marne où manger de la c...  find-restaurant  ",
      "text/html": "<div>\n<style scoped>\n    .dataframe tbody tr th:only-of-type {\n        vertical-align: middle;\n    }\n\n    .dataframe tbody tr th {\n        vertical-align: top;\n    }\n\n    .dataframe thead th {\n        text-align: right;\n    }\n</style>\n<table border=\"1\" class=\"dataframe\">\n  <thead>\n    <tr style=\"text-align: right;\">\n      <th></th>\n      <th>find-train</th>\n      <th>irrelevant</th>\n      <th>find-flight</th>\n      <th>find-restaurant</th>\n      <th>purchase</th>\n      <th>find-around-me</th>\n      <th>provide-showtimes</th>\n      <th>find-hotel</th>\n      <th>Sentence</th>\n      <th>Intent</th>\n    </tr>\n  </thead>\n  <tbody>\n    <tr>\n      <th>0</th>\n      <td>0.020728</td>\n      <td>0.392940</td>\n      <td>0.035982</td>\n      <td>0.072832</td>\n      <td>0.370302</td>\n      <td>0.066335</td>\n      <td>0.009605</td>\n      <td>0.031276</td>\n      <td>Tu sais où je peux acheter un bazooka ?</td>\n      <td>irrelevant</td>\n    </tr>\n    <tr>\n      <th>1</th>\n      <td>0.034970</td>\n      <td>0.531172</td>\n      <td>0.035429</td>\n      <td>0.038700</td>\n      <td>0.080105</td>\n      <td>0.054041</td>\n      <td>0.029561</td>\n      <td>0.196022</td>\n      <td>déco de maison style maison ferret</td>\n      <td>irrelevant</td>\n    </tr>\n    <tr>\n      <th>2</th>\n      <td>0.017667</td>\n      <td>0.681269</td>\n      <td>0.025598</td>\n      <td>0.134089</td>\n      <td>0.050936</td>\n      <td>0.029113</td>\n      <td>0.021443</td>\n      <td>0.039883</td>\n      <td>j'ai envie qu'on se rencontre</td>\n      <td>irrelevant</td>\n    </tr>\n    <tr>\n      <th>3</th>\n      <td>0.021682</td>\n      <td>0.429878</td>\n      <td>0.031576</td>\n      <td>0.038159</td>\n      <td>0.267280</td>\n      <td>0.117537</td>\n      <td>0.014895</td>\n      <td>0.078994</td>\n      <td>J’ai besoin de fleurs pr ma grand mère</td>\n      <td>purchase</td>\n    </tr>\n    <tr>\n      <th>4</th>\n      <td>0.027025</td>\n      <td>0.154664</td>\n      <td>0.010786</td>\n      <td>0.657717</td>\n      <td>0.098362</td>\n      <td>0.023528</td>\n      <td>0.015831</td>\n      <td>0.012087</td>\n      <td>trouve à champigny-sur-marne où manger de la c...</td>\n      <td>find-restaurant</td>\n    </tr>\n  </tbody>\n</table>\n</div>"
     },
     "metadata": {},
     "execution_count": 28
    }
   ],
   "source": [
    "# Merge input and prediction for further visualisation\n",
    "df_final = df_results.copy()\n",
    "df_final[\"Sentence\"]  = x_test[\"Sentence\"]\n",
    "df_final[\"Predicted\"] = df_prediction[\"Predicted\"]\n",
    "df_final[\"Intent\"]    = y_test[\"Intent\"]\n",
    "df_final.head()"
   ]
  },
  {
   "cell_type": "code",
   "execution_count": null,
   "metadata": {},
   "outputs": [],
   "source": [
    "df_final.to_csv()"
   ]
  },
  {
   "cell_type": "code",
   "execution_count": 61,
   "metadata": {},
   "outputs": [
    {
     "data": {
      "text/plain": [
       "{'find-train': 143,\n",
       " 'irrelevant': 3852,\n",
       " 'find-flight': 142,\n",
       " 'find-restaurant': 469,\n",
       " 'purchase': 613,\n",
       " 'find-around-me': 383,\n",
       " 'provide-showtimes': 117,\n",
       " 'find-hotel': 316}"
      ]
     },
     "execution_count": 61,
     "metadata": {},
     "output_type": "execute_result"
    }
   ],
   "source": [
    "#### PARTIE HIBA, NE PAS TOUCHER\n",
    "\n",
    "#Counting the number of data (train) for each intent\n",
    "train_data = {'find-train': 0, 'irrelevant': 0, 'find-flight': 0, 'find-restaurant': 0,\n",
    "           'purchase': 0, 'find-around-me' : 0, 'provide-showtimes' : 0, 'find-hotel' : 0}\n",
    "for i in range(len(training_data)):\n",
    "    for intent, count in train_data.items():\n",
    "        if training_data[i]['intent'] == intent :\n",
    "            count = count + 1\n",
    "            train_data[intent] = count\n",
    "\n",
    "#Counting each intent iteration\n",
    "train_data"
   ]
  },
  {
   "cell_type": "code",
   "execution_count": 63,
   "metadata": {},
   "outputs": [
    {
     "data": {
      "text/plain": [
       "{'find-train': 21,\n",
       " 'irrelevant': 677,\n",
       " 'find-flight': 24,\n",
       " 'find-restaurant': 93,\n",
       " 'purchase': 114,\n",
       " 'find-around-me': 67,\n",
       " 'provide-showtimes': 14,\n",
       " 'find-hotel': 55}"
      ]
     },
     "execution_count": 63,
     "metadata": {},
     "output_type": "execute_result"
    }
   ],
   "source": [
    "#Counting the number of data (test) for each intent\n",
    "test_data = {'find-train': 0, 'irrelevant': 0, 'find-flight': 0, 'find-restaurant': 0,\n",
    "           'purchase': 0, 'find-around-me' : 0, 'provide-showtimes' : 0, 'find-hotel' : 0}\n",
    "for i in range(len(testing_data)):\n",
    "    for intent, count in test_data.items():\n",
    "        if testing_data[i]['intent'] == intent :\n",
    "            count = count + 1\n",
    "            test_data[intent] = count\n",
    "\n",
    "#Counting each intent iteration\n",
    "test_data"
   ]
  },
  {
   "cell_type": "markdown",
   "metadata": {},
   "source": [
    "## Exercice 2"
   ]
  },
  {
   "cell_type": "markdown",
   "metadata": {},
   "source": [
    "##### Réponse / idées : "
   ]
  },
  {
   "cell_type": "code",
   "execution_count": null,
   "metadata": {},
   "outputs": [],
   "source": []
  },
  {
   "cell_type": "markdown",
   "metadata": {},
   "source": [
    "## Exercice 3"
   ]
  },
  {
   "cell_type": "markdown",
   "metadata": {},
   "source": [
    "##### Réponse / idées : "
   ]
  },
  {
   "cell_type": "code",
   "execution_count": null,
   "metadata": {},
   "outputs": [],
   "source": []
  },
  {
   "cell_type": "markdown",
   "metadata": {},
   "source": [
    "## Exercice 4"
   ]
  },
  {
   "cell_type": "markdown",
   "metadata": {},
   "source": [
    "##### Réponse / idées : "
   ]
  },
  {
   "cell_type": "code",
   "execution_count": null,
   "metadata": {},
   "outputs": [],
   "source": []
  },
  {
   "cell_type": "markdown",
   "metadata": {},
   "source": [
    "## Exercice 5"
   ]
  },
  {
   "cell_type": "markdown",
   "metadata": {},
   "source": [
    "##### Réponse / idées : "
   ]
  },
  {
   "cell_type": "code",
   "execution_count": null,
   "metadata": {},
   "outputs": [],
   "source": []
  }
 ],
 "metadata": {
  "kernelspec": {
   "display_name": "Python 3",
   "language": "python",
   "name": "python3"
  },
  "language_info": {
   "codemirror_mode": {
    "name": "ipython",
    "version": 3
   },
   "file_extension": ".py",
   "mimetype": "text/x-python",
   "name": "python",
   "nbconvert_exporter": "python",
   "pygments_lexer": "ipython3",
   "version": "3.8.2-final"
  }
 },
 "nbformat": 4,
 "nbformat_minor": 4
}