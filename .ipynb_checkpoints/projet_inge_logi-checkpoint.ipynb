{
 "cells": [
  {
   "cell_type": "markdown",
   "metadata": {},
   "source": [
    "# Exercice 1"
   ]
  },
  {
   "cell_type": "markdown",
   "metadata": {},
   "source": [
    "##### Réponse / idées : "
   ]
  },
  {
   "cell_type": "code",
   "execution_count": 61,
   "metadata": {},
   "outputs": [],
   "source": [
    "import json\n",
    "import pandas as pd\n",
    "\n",
    "import urllib.request\n",
    "import urllib.parse\n",
    "\n",
    "import sklearn\n",
    "from sklearn.metrics import classification_report, confusion_matrix\n",
    "import matplotlib.pyplot as plt\n",
    "import itertools\n",
    "\n",
    "import numpy as np"
   ]
  },
  {
   "cell_type": "markdown",
   "metadata": {},
   "source": [
    "### Récupération de l'api pour un usage futur"
   ]
  },
  {
   "cell_type": "code",
   "execution_count": 3,
   "metadata": {},
   "outputs": [
    {
     "name": "stdout",
     "output_type": "stream",
     "text": [
      "{'find-train': 0.03835815191268921, 'irrelevant': 0.5854803323745728, 'find-flight': 0.07081536948680878, 'find-restaurant': 0.061954330652952194, 'purchase': 0.07097795605659485, 'find-around-me': 0.05723639205098152, 'provide-showtimes': 0.028329428285360336, 'find-hotel': 0.08684797585010529}\n"
     ]
    }
   ],
   "source": [
    "api = urllib.request.urlopen(\"http://localhost:8080/api/intent?sentence=%3Cma-phrase-%C3%A0-classifier%3E\")\n",
    "prediction = json.load(api)\n",
    "print(prediction)"
   ]
  },
  {
   "cell_type": "markdown",
   "metadata": {},
   "source": [
    "### Récupération des données d'entrainement et de test"
   ]
  },
  {
   "cell_type": "code",
   "execution_count": 4,
   "metadata": {},
   "outputs": [],
   "source": [
    "# Reading training_set file \n",
    "with open('training_set.json', encoding=\"utf8\") as json_file:\n",
    "    training_data = json.load(json_file)\n",
    "    \n",
    "# Reading testing_set file \n",
    "with open('testing_set.json', encoding=\"utf8\") as json_file:\n",
    "    testing_data = json.load(json_file)"
   ]
  },
  {
   "cell_type": "markdown",
   "metadata": {},
   "source": [
    "###### On charge aussi les données sous forme de dataframe pendant pour faciliter leur manipulation"
   ]
  },
  {
   "cell_type": "code",
   "execution_count": 7,
   "metadata": {},
   "outputs": [],
   "source": [
    "# Loading training data in pandas Dataframe\n",
    "df_train = pd.read_json(\"training_set.json\")\n",
    "\n",
    "# Loading testing data in pandas Dataframe\n",
    "df_test = pd.read_json('testing_set.json')"
   ]
  },
  {
   "cell_type": "markdown",
   "metadata": {},
   "source": [
    "## Analyses des données"
   ]
  },
  {
   "cell_type": "markdown",
   "metadata": {},
   "source": [
    "### Analyse des données d'entrainement"
   ]
  },
  {
   "cell_type": "code",
   "execution_count": 8,
   "metadata": {},
   "outputs": [
    {
     "name": "stdout",
     "output_type": "stream",
     "text": [
      "Training data shape: (6035, 2)\n"
     ]
    }
   ],
   "source": [
    "# Print df_train shape (rows and columns)\n",
    "print(f\"Training data shape: {df_train.shape}\")"
   ]
  },
  {
   "cell_type": "code",
   "execution_count": 10,
   "metadata": {},
   "outputs": [
    {
     "name": "stdout",
     "output_type": "stream",
     "text": [
      "<class 'pandas.core.frame.DataFrame'>\n",
      "RangeIndex: 6035 entries, 0 to 6034\n",
      "Data columns (total 2 columns):\n",
      " #   Column    Non-Null Count  Dtype \n",
      "---  ------    --------------  ----- \n",
      " 0   intent    6035 non-null   object\n",
      " 1   sentence  6035 non-null   object\n",
      "dtypes: object(2)\n",
      "memory usage: 94.4+ KB\n"
     ]
    }
   ],
   "source": [
    "# Print df_train info\n",
    "df_train.info()"
   ]
  },
  {
   "cell_type": "markdown",
   "metadata": {},
   "source": [
    "###### Les données d'entrainement comportent 6035 utterances et sont présentées en deux colonnes, une pour la classe (intent) et une pour l'utterance (sentence). Il ne manque aucune valeur."
   ]
  },
  {
   "cell_type": "code",
   "execution_count": 11,
   "metadata": {},
   "outputs": [
    {
     "data": {
      "text/html": [
       "<div>\n",
       "<style scoped>\n",
       "    .dataframe tbody tr th:only-of-type {\n",
       "        vertical-align: middle;\n",
       "    }\n",
       "\n",
       "    .dataframe tbody tr th {\n",
       "        vertical-align: top;\n",
       "    }\n",
       "\n",
       "    .dataframe thead th {\n",
       "        text-align: right;\n",
       "    }\n",
       "</style>\n",
       "<table border=\"1\" class=\"dataframe\">\n",
       "  <thead>\n",
       "    <tr style=\"text-align: right;\">\n",
       "      <th></th>\n",
       "      <th>intent</th>\n",
       "      <th>sentence</th>\n",
       "    </tr>\n",
       "  </thead>\n",
       "  <tbody>\n",
       "    <tr>\n",
       "      <th>count</th>\n",
       "      <td>6035</td>\n",
       "      <td>6035</td>\n",
       "    </tr>\n",
       "    <tr>\n",
       "      <th>unique</th>\n",
       "      <td>8</td>\n",
       "      <td>6035</td>\n",
       "    </tr>\n",
       "    <tr>\n",
       "      <th>top</th>\n",
       "      <td>irrelevant</td>\n",
       "      <td>À la maison</td>\n",
       "    </tr>\n",
       "    <tr>\n",
       "      <th>freq</th>\n",
       "      <td>3852</td>\n",
       "      <td>1</td>\n",
       "    </tr>\n",
       "  </tbody>\n",
       "</table>\n",
       "</div>"
      ],
      "text/plain": [
       "            intent     sentence\n",
       "count         6035         6035\n",
       "unique           8         6035\n",
       "top     irrelevant  À la maison\n",
       "freq          3852            1"
      ]
     },
     "execution_count": 11,
     "metadata": {},
     "output_type": "execute_result"
    }
   ],
   "source": [
    "# Print statistical description\n",
    "df_train.describe()"
   ]
  },
  {
   "cell_type": "markdown",
   "metadata": {},
   "source": [
    "###### Ce tableau montre qu'il y a 8 classes et montre que la classe la plus représentée est la classe 'irrelevant' avec 3852 occurances, soit plus de la moitié des utterances. On peut dire que les données sont déséquilibrées."
   ]
  },
  {
   "cell_type": "code",
   "execution_count": 5,
   "metadata": {},
   "outputs": [
    {
     "data": {
      "text/plain": [
       "{'find-train': 143,\n",
       " 'irrelevant': 3852,\n",
       " 'find-flight': 142,\n",
       " 'find-restaurant': 469,\n",
       " 'purchase': 613,\n",
       " 'find-around-me': 383,\n",
       " 'provide-showtimes': 117,\n",
       " 'find-hotel': 316}"
      ]
     },
     "execution_count": 5,
     "metadata": {},
     "output_type": "execute_result"
    }
   ],
   "source": [
    "# Counting the number of data (train) for each intent\n",
    "train_data = {'find-train': 0, 'irrelevant': 0, 'find-flight': 0, 'find-restaurant': 0,\n",
    "           'purchase': 0, 'find-around-me' : 0, 'provide-showtimes' : 0, 'find-hotel' : 0}\n",
    "for i in range(len(training_data)):\n",
    "    for intent, count in train_data.items():\n",
    "        if training_data[i]['intent'] == intent :\n",
    "            count = count + 1\n",
    "            train_data[intent] = count\n",
    "\n",
    "# Counting each intent iteration\n",
    "train_data"
   ]
  },
  {
   "cell_type": "markdown",
   "metadata": {},
   "source": [
    "###### Ici nous pouvons voir le nombre d'utterance par classe, et on observe très clairement que la répartition des données dans les différentes est très déséquilibrées. Les classes 'find-train', 'find-flight' et 'provide-showtimes' sont très peu représentées. La classe 'irrelevant' fait presque 30 fois la taille de ces classes, et 10 fois la taille des classes 'find-around-me' et 'find-hotel'."
   ]
  },
  {
   "cell_type": "markdown",
   "metadata": {},
   "source": [
    "### Analyses des données de test"
   ]
  },
  {
   "cell_type": "markdown",
   "metadata": {},
   "source": [
    "###### Dans cette partie, on va mener les mêmes analyses que menées dans la partie précédente, mais sur les données de test."
   ]
  },
  {
   "cell_type": "code",
   "execution_count": 13,
   "metadata": {},
   "outputs": [
    {
     "name": "stdout",
     "output_type": "stream",
     "text": [
      "Testing data shape: (1065, 2)\n"
     ]
    }
   ],
   "source": [
    "# Print df_test shape (rows and columns)\n",
    "print(f\"Testing data shape: {df_test.shape}\")"
   ]
  },
  {
   "cell_type": "code",
   "execution_count": 14,
   "metadata": {},
   "outputs": [
    {
     "name": "stdout",
     "output_type": "stream",
     "text": [
      "<class 'pandas.core.frame.DataFrame'>\n",
      "RangeIndex: 1065 entries, 0 to 1064\n",
      "Data columns (total 2 columns):\n",
      " #   Column    Non-Null Count  Dtype \n",
      "---  ------    --------------  ----- \n",
      " 0   intent    1065 non-null   object\n",
      " 1   sentence  1065 non-null   object\n",
      "dtypes: object(2)\n",
      "memory usage: 16.8+ KB\n"
     ]
    }
   ],
   "source": [
    "# Print df_test info\n",
    "df_test.info()"
   ]
  },
  {
   "cell_type": "markdown",
   "metadata": {},
   "source": [
    "###### Les données de test comportent 1065 utterances. Il ne manque aucune valeur."
   ]
  },
  {
   "cell_type": "code",
   "execution_count": 15,
   "metadata": {},
   "outputs": [
    {
     "data": {
      "text/html": [
       "<div>\n",
       "<style scoped>\n",
       "    .dataframe tbody tr th:only-of-type {\n",
       "        vertical-align: middle;\n",
       "    }\n",
       "\n",
       "    .dataframe tbody tr th {\n",
       "        vertical-align: top;\n",
       "    }\n",
       "\n",
       "    .dataframe thead th {\n",
       "        text-align: right;\n",
       "    }\n",
       "</style>\n",
       "<table border=\"1\" class=\"dataframe\">\n",
       "  <thead>\n",
       "    <tr style=\"text-align: right;\">\n",
       "      <th></th>\n",
       "      <th>intent</th>\n",
       "      <th>sentence</th>\n",
       "    </tr>\n",
       "  </thead>\n",
       "  <tbody>\n",
       "    <tr>\n",
       "      <th>count</th>\n",
       "      <td>1065</td>\n",
       "      <td>1065</td>\n",
       "    </tr>\n",
       "    <tr>\n",
       "      <th>unique</th>\n",
       "      <td>8</td>\n",
       "      <td>1064</td>\n",
       "    </tr>\n",
       "    <tr>\n",
       "      <th>top</th>\n",
       "      <td>irrelevant</td>\n",
       "      <td>Est ce que tu connais des sites internet sur l...</td>\n",
       "    </tr>\n",
       "    <tr>\n",
       "      <th>freq</th>\n",
       "      <td>677</td>\n",
       "      <td>2</td>\n",
       "    </tr>\n",
       "  </tbody>\n",
       "</table>\n",
       "</div>"
      ],
      "text/plain": [
       "            intent                                           sentence\n",
       "count         1065                                               1065\n",
       "unique           8                                               1064\n",
       "top     irrelevant  Est ce que tu connais des sites internet sur l...\n",
       "freq           677                                                  2"
      ]
     },
     "execution_count": 15,
     "metadata": {},
     "output_type": "execute_result"
    }
   ],
   "source": [
    "# Print statistical description\n",
    "df_test.describe()"
   ]
  },
  {
   "cell_type": "markdown",
   "metadata": {},
   "source": [
    "###### Encore une fois, la classe 'irrelevant' est la plus représentée, avec 677 utterances, donc plus de la moitié des données de test. Les données sont encore une fois déséquilibrées."
   ]
  },
  {
   "cell_type": "code",
   "execution_count": 6,
   "metadata": {},
   "outputs": [
    {
     "data": {
      "text/plain": [
       "{'find-train': 21,\n",
       " 'irrelevant': 677,\n",
       " 'find-flight': 24,\n",
       " 'find-restaurant': 93,\n",
       " 'purchase': 114,\n",
       " 'find-around-me': 67,\n",
       " 'provide-showtimes': 14,\n",
       " 'find-hotel': 55}"
      ]
     },
     "execution_count": 6,
     "metadata": {},
     "output_type": "execute_result"
    }
   ],
   "source": [
    "# Counting the number of data (test) for each intent\n",
    "test_data = {'find-train': 0, 'irrelevant': 0, 'find-flight': 0, 'find-restaurant': 0,\n",
    "           'purchase': 0, 'find-around-me' : 0, 'provide-showtimes' : 0, 'find-hotel' : 0}\n",
    "for i in range(len(testing_data)):\n",
    "    for intent, count in test_data.items():\n",
    "        if testing_data[i]['intent'] == intent :\n",
    "            count = count + 1\n",
    "            test_data[intent] = count\n",
    "\n",
    "# Counting each intent iteration\n",
    "test_data"
   ]
  },
  {
   "cell_type": "markdown",
   "metadata": {},
   "source": [
    "###### Les classes 'find-train', 'find-flight' et 'provide-show-times' sont encore une fois très peu représentées. La répartition dans les différentes classes est très déséquilibrée."
   ]
  },
  {
   "cell_type": "markdown",
   "metadata": {},
   "source": [
    "### Analyse du modèle"
   ]
  },
  {
   "cell_type": "code",
   "execution_count": 20,
   "metadata": {},
   "outputs": [],
   "source": [
    "# Spliting data into features (sentence) and target (intent)\n",
    "x_train = df_train['sentence'] \n",
    "y_train = df_train['intent'] \n",
    "\n",
    "x_test = df_test['sentence']\n",
    "y_test = df_test['intent']"
   ]
  },
  {
   "cell_type": "code",
   "execution_count": 43,
   "metadata": {},
   "outputs": [],
   "source": [
    "# Fetching predictions from urllib\n",
    "def get_prediction(features):\n",
    "    url = \"http://localhost:8080/api/intent?sentence=\"\n",
    "    \n",
    "    labels = []\n",
    "    for sentence in features:\n",
    "        sentence = urllib.parse.quote(sentence)\n",
    "        get_pred = urllib.request.urlopen(url+sentence)\n",
    "        prediction = json.load(get_pred)\n",
    "\n",
    "        label = max(prediction, key=prediction.get)\n",
    "        labels.append(label)\n",
    "    \n",
    "    df_pred = pd.DataFrame({'prediction':labels})\n",
    "    \n",
    "    return df_pred"
   ]
  },
  {
   "cell_type": "code",
   "execution_count": 44,
   "metadata": {},
   "outputs": [
    {
     "name": "stdout",
     "output_type": "stream",
     "text": [
      "                   precision    recall  f1-score   support\n",
      "\n",
      "   find-around-me       0.70      0.39      0.50       383\n",
      "      find-flight       0.96      0.38      0.55       142\n",
      "       find-hotel       0.86      0.48      0.62       316\n",
      "  find-restaurant       0.91      0.61      0.73       469\n",
      "       find-train       0.95      0.51      0.66       143\n",
      "       irrelevant       0.80      0.98      0.88      3852\n",
      "provide-showtimes       0.97      0.29      0.45       117\n",
      "         purchase       0.76      0.56      0.65       613\n",
      "\n",
      "         accuracy                           0.81      6035\n",
      "        macro avg       0.86      0.53      0.63      6035\n",
      "     weighted avg       0.81      0.81      0.79      6035\n",
      "\n"
     ]
    }
   ],
   "source": [
    "# Computing Precision, Recall, F1 score using scikit-learn\n",
    "print(classification_report(y_train, get_prediction(x_train)))"
   ]
  },
  {
   "cell_type": "markdown",
   "metadata": {},
   "source": [
    "###### On constate que mis à part la classe 'irrelevant', les scores pour les métriques recall et f1 sont mauvais.\n",
    "###### Un score bas pour le recall signifie que la proportion d'utterance que le modèle a su classer dans une classe est faible par rapport au nombre total d'utterance dans cette classe."
   ]
  },
  {
   "cell_type": "code",
   "execution_count": 69,
   "metadata": {},
   "outputs": [],
   "source": [
    "def plot_confusion_matrix(cm, title='Confusion matrix',\n",
    "                          cmap=plt.cm.Blues):\n",
    "    \"\"\"\n",
    "    This function prints and plots the confusion matrix.\n",
    "    \"\"\"\n",
    "    labels = ['find-train', 'irrelevant', 'find-flight', 'find_restaurant', 'purchase', 'find-around-me', 'provide-showtimes', 'find-hotel']\n",
    "    plt.imshow(cm, interpolation='nearest', cmap=cmap)\n",
    "    plt.title(title, fontsize=30)\n",
    "    plt.colorbar()\n",
    "    tick_marks = np.arange(len(labels))\n",
    "    plt.xticks(tick_marks, labels, rotation=45, fontsize=15)\n",
    "    plt.yticks(tick_marks, labels, fontsize=15)\n",
    "\n",
    "    thresh = cm.max() / 2.\n",
    "    for i, j in itertools.product(range(cm.shape[0]), range(cm.shape[1])):\n",
    "        plt.text(j, i, cm[i, j],\n",
    "                 horizontalalignment=\"center\",\n",
    "                 color=\"white\" if cm[i, j] > thresh else \"black\", fontsize=15)\n",
    "\n",
    "    plt.tight_layout()\n",
    "    plt.ylabel('True label', fontsize=20)\n",
    "    plt.xlabel('Predicted label', fontsize=20)"
   ]
  },
  {
   "cell_type": "code",
   "execution_count": 70,
   "metadata": {},
   "outputs": [
    {
     "data": {
      "image/png": "[encoded data removed]",
      "text/plain": [
       "<Figure size 720x720 with 2 Axes>"
      ]
     },
     "metadata": {
      "needs_background": "light"
     },
     "output_type": "display_data"
    }
   ],
   "source": [
    "# Plot confusion matrix\n",
    "df_pred = get_prediction(x_train)\n",
    "conf_mat = confusion_matrix(y_train, df_pred)\n",
    "\n",
    "plt.figure(figsize=(10,10))\n",
    "plot_confusion_matrix(conf_mat)\n",
    "plt.show()"
   ]
  },
  {
   "cell_type": "markdown",
   "metadata": {},
   "source": [
    "###### Sur cette matrice de confusion, on voit que le modèle prédit assez mal les classes."
   ]
  },
  {
   "cell_type": "code",
   "execution_count": 71,
   "metadata": {},
   "outputs": [],
   "source": [
    "# Fetching real class score\n",
    "def get_true_label_score(features, labels):\n",
    "    url = \"http://localhost:8080/api/intent?sentence=\"\n",
    "    \n",
    "    scores = []\n",
    "    for i in range(len(features)):\n",
    "        sentence = urllib.parse.quote(features[i])\n",
    "        get_pred = urllib.request.urlopen(url+sentence)\n",
    "        prediction = json.load(get_pred)\n",
    "        \n",
    "        label_score = prediction[labels[i]]\n",
    "        scores.append(label_score)\n",
    "    \n",
    "    label_scores = pd.DataFrame({'Scores':scores})\n",
    "    \n",
    "    return label_scores"
   ]
  },
  {
   "cell_type": "code",
   "execution_count": null,
   "metadata": {},
   "outputs": [],
   "source": [
    "# je sais pas encore comment on fait pour plot une courbe roc pour une classification multiclasse\n",
    "# def plot_multiclass_roc_curve():"
   ]
  },
  {
   "cell_type": "markdown",
   "metadata": {},
   "source": [
    "# Exercice 2"
   ]
  },
  {
   "cell_type": "markdown",
   "metadata": {},
   "source": [
    "##### Réponse / idées : "
   ]
  },
  {
   "cell_type": "code",
   "execution_count": null,
   "metadata": {},
   "outputs": [],
   "source": []
  },
  {
   "cell_type": "markdown",
   "metadata": {},
   "source": [
    "## Exercice 3"
   ]
  },
  {
   "cell_type": "markdown",
   "metadata": {},
   "source": [
    "##### Réponse / idées : "
   ]
  },
  {
   "cell_type": "code",
   "execution_count": null,
   "metadata": {},
   "outputs": [],
   "source": []
  },
  {
   "cell_type": "markdown",
   "metadata": {},
   "source": [
    "## Exercice 4"
   ]
  },
  {
   "cell_type": "markdown",
   "metadata": {},
   "source": [
    "##### Réponse / idées : "
   ]
  },
  {
   "cell_type": "code",
   "execution_count": null,
   "metadata": {},
   "outputs": [],
   "source": []
  },
  {
   "cell_type": "markdown",
   "metadata": {},
   "source": [
    "## Exercice 5"
   ]
  },
  {
   "cell_type": "markdown",
   "metadata": {},
   "source": [
    "##### Réponse / idées : "
   ]
  },
  {
   "cell_type": "code",
   "execution_count": null,
   "metadata": {},
   "outputs": [],
   "source": []
  }
 ],
 "metadata": {
  "kernelspec": {
   "display_name": "Python 3",
   "language": "python",
   "name": "python3"
  },
  "language_info": {
   "codemirror_mode": {
    "name": "ipython",
    "version": 3
   },
   "file_extension": ".py",
   "mimetype": "text/x-python",
   "name": "python",
   "nbconvert_exporter": "python",
   "pygments_lexer": "ipython3",
   "version": "3.7.6"
  }
 },
 "nbformat": 4,
 "nbformat_minor": 4
}
