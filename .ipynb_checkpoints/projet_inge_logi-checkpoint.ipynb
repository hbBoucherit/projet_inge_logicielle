{
 "cells": [
  {
   "cell_type": "markdown",
   "metadata": {
    "id": "TQamgqNAFSru"
   },
   "source": [
    "# Exercice 1"
   ]
  },
  {
   "cell_type": "markdown",
   "metadata": {
    "id": "k982AHaYFSr1"
   },
   "source": [
    "## Dependencies"
   ]
  },
  {
   "cell_type": "code",
   "execution_count": 25,
   "metadata": {
    "id": "ax6JtrNdFSr1"
   },
   "outputs": [],
   "source": [
    "import json \n",
    "import matplotlib.pyplot as plt\n",
    "import urllib\n",
    "import pandas as pd \n",
    "import numpy as np\n",
    "import operator\n",
    "import itertools\n",
    "from sklearn.compose import ColumnTransformer\n",
    "from sklearn.preprocessing import OneHotEncoder\n",
    "from sklearn.metrics import accuracy_score, classification_report, plot_confusion_matrix, roc_auc_score, confusion_matrix, ConfusionMatrixDisplay, balanced_accuracy_score, roc_curve, auc, fbeta_score\n",
    "import seaborn as sns"
   ]
  },
  {
   "cell_type": "markdown",
   "metadata": {
    "id": "aNR23dmSFSr2"
   },
   "source": [
    "### Reading dataset"
   ]
  },
  {
   "cell_type": "code",
   "execution_count": 2,
   "metadata": {
    "id": "dxmYVT2FFSr2"
   },
   "outputs": [],
   "source": [
    "# Reading training_set file \n",
    "with open('training_set.json', encoding=\"utf8\") as json_file:\n",
    "    training_data = json.load(json_file)\n",
    "    \n",
    "# Reading testing_set file \n",
    "with open('testing_set.json', encoding=\"utf8\") as json_file:\n",
    "    testing_data = json.load(json_file)"
   ]
  },
  {
   "cell_type": "markdown",
   "metadata": {
    "id": "ekm_6LrcFSr3"
   },
   "source": [
    "### Loading dataset"
   ]
  },
  {
   "cell_type": "code",
   "execution_count": 3,
   "metadata": {
    "id": "POW3375nFSr3"
   },
   "outputs": [],
   "source": [
    "# Loading training data \n",
    "df_train = pd.read_json(\"training_set.json\")\n",
    "\n",
    "# Loading test data\n",
    "df_test = pd.read_json(\"testing_set.json\")"
   ]
  },
  {
   "cell_type": "code",
   "execution_count": 4,
   "metadata": {
    "id": "CJMv7l45FSr3"
   },
   "outputs": [],
   "source": [
    "# Separating the feature (sentence) and the target (intent)\n",
    "x_train = df_train['sentence'].to_numpy()\n",
    "y_train = df_train['intent'].to_numpy()\n",
    "\n",
    "x_test = df_test['sentence'].to_numpy()\n",
    "y_test = df_test['intent'].to_numpy()"
   ]
  },
  {
   "cell_type": "code",
   "execution_count": 5,
   "metadata": {
    "colab": {
     "base_uri": "https://localhost:8080/"
    },
    "id": "-M-7aknnFSr3",
    "outputId": "caa2bd70-8d04-4b10-de6f-9a844ff831ec"
   },
   "outputs": [
    {
     "name": "stdout",
     "output_type": "stream",
     "text": [
      "Train dataset shape : (6035,)\n",
      "Train target  shape : (6035,)\n",
      "\n",
      "Test dataset shape : (1065,)\n",
      "Test target  shape : (1065,)\n"
     ]
    }
   ],
   "source": [
    "#Checking shapes\n",
    "print(f\"Train dataset shape : {x_train.shape}\");\n",
    "print(f\"Train target  shape : {y_train.shape}\\n\");\n",
    "\n",
    "print(f\"Test dataset shape : {x_test.shape}\");\n",
    "print(f\"Test target  shape : {y_test.shape}\");"
   ]
  },
  {
   "cell_type": "code",
   "execution_count": 9,
   "metadata": {
    "id": "yu5-REFHFSr4"
   },
   "outputs": [],
   "source": [
    "# Function that returns the sentence's intention (max probability)\n",
    "def prediction(sentence) :\n",
    "    url = \"http://192.168.99.100:80/api/intent?sentence=<\" + urllib.parse.quote(sentence) +\">\"\n",
    "    requete = urllib.request.urlopen(url)\n",
    "    result_requete = json.load(requete)\n",
    "    # Only focuses on the max index \n",
    "    prediction_result = max(result_requete.items(), key=operator.itemgetter(1))[0]\n",
    "    return prediction_result\n",
    "\n",
    "# Function that returns the probability of each class\n",
    "def prediction_vect(sentence) :\n",
    "    url = \"http://192.168.99.100:80/api/intent?sentence=<\" + urllib.parse.quote(sentence) +\">\"\n",
    "    requete = urllib.request.urlopen(url)\n",
    "    result_requete = json.load(requete)\n",
    "    # Only focuses on the max index \n",
    "    prediction_result = list(result_requete.values())\n",
    "    return prediction_result"
   ]
  },
  {
   "cell_type": "code",
   "execution_count": 10,
   "metadata": {
    "id": "VXmIYZuZFSr5"
   },
   "outputs": [],
   "source": [
    "# Function that predicts intentions on all the test set and returns one intention\n",
    "def predictionMaxProba(test_set) :\n",
    "    y_prediction = []\n",
    "    for i in range(len(test_set)):\n",
    "        y_prediction.append(prediction(test_set[i]))\n",
    "    return y_prediction \n",
    "\n",
    "# Prediction on test set (max probability)\n",
    "y_prediction = predictionMaxProba(x_test)\n",
    "\n",
    "# Function that predicts intentions on all the test set and returns each class's probability\n",
    "def predictionProba(test_set) :\n",
    "    y_prediction_vect = []\n",
    "    for i in range(len(test_set)):\n",
    "        y_prediction_vect.append(prediction_vect(test_set[i]))\n",
    "    y_prediction_vect = np.array(y_prediction_vect)\n",
    "    return y_prediction_vect\n",
    "\n",
    "# Prediction on test set (probabilty of each class)\n",
    "y_prediction_vect = predictionProba(x_test)"
   ]
  },
  {
   "cell_type": "markdown",
   "metadata": {
    "id": "n3EU7X5oFSr5"
   },
   "source": [
    "##  Analyse du jeu de données"
   ]
  },
  {
   "cell_type": "markdown",
   "metadata": {
    "id": "u1DV1c_FFSr5"
   },
   "source": [
    "### Pour les données d'entrainement"
   ]
  },
  {
   "cell_type": "markdown",
   "metadata": {
    "id": "m24mqHjpFSr6"
   },
   "source": [
    "#### Analyse du type de données (missing values, null values, value type)"
   ]
  },
  {
   "cell_type": "code",
   "execution_count": 11,
   "metadata": {
    "colab": {
     "base_uri": "https://localhost:8080/"
    },
    "id": "KaqgrbfdFSr6",
    "outputId": "31b1a104-6e64-4f96-9479-1eaaf5b0b98e"
   },
   "outputs": [
    {
     "name": "stdout",
     "output_type": "stream",
     "text": [
      "<class 'pandas.core.frame.DataFrame'>\n",
      "RangeIndex: 6035 entries, 0 to 6034\n",
      "Data columns (total 2 columns):\n",
      " #   Column    Non-Null Count  Dtype \n",
      "---  ------    --------------  ----- \n",
      " 0   intent    6035 non-null   object\n",
      " 1   sentence  6035 non-null   object\n",
      "dtypes: object(2)\n",
      "memory usage: 94.4+ KB\n"
     ]
    }
   ],
   "source": [
    "df_train.info()"
   ]
  },
  {
   "cell_type": "markdown",
   "metadata": {
    "id": "ei2hO41vFSr6"
   },
   "source": [
    "#### Statistiques descriptives sur les données"
   ]
  },
  {
   "cell_type": "code",
   "execution_count": 12,
   "metadata": {
    "colab": {
     "base_uri": "https://localhost:8080/",
     "height": 166
    },
    "id": "yMU8SJEhFSr6",
    "outputId": "a7e98fc5-36fb-458d-93cb-edeebcbb91e6"
   },
   "outputs": [
    {
     "data": {
      "text/html": [
       "<div>\n",
       "<style scoped>\n",
       "    .dataframe tbody tr th:only-of-type {\n",
       "        vertical-align: middle;\n",
       "    }\n",
       "\n",
       "    .dataframe tbody tr th {\n",
       "        vertical-align: top;\n",
       "    }\n",
       "\n",
       "    .dataframe thead th {\n",
       "        text-align: right;\n",
       "    }\n",
       "</style>\n",
       "<table border=\"1\" class=\"dataframe\">\n",
       "  <thead>\n",
       "    <tr style=\"text-align: right;\">\n",
       "      <th></th>\n",
       "      <th>intent</th>\n",
       "      <th>sentence</th>\n",
       "    </tr>\n",
       "  </thead>\n",
       "  <tbody>\n",
       "    <tr>\n",
       "      <th>count</th>\n",
       "      <td>6035</td>\n",
       "      <td>6035</td>\n",
       "    </tr>\n",
       "    <tr>\n",
       "      <th>unique</th>\n",
       "      <td>8</td>\n",
       "      <td>6035</td>\n",
       "    </tr>\n",
       "    <tr>\n",
       "      <th>top</th>\n",
       "      <td>irrelevant</td>\n",
       "      <td>Et tu as des défauts</td>\n",
       "    </tr>\n",
       "    <tr>\n",
       "      <th>freq</th>\n",
       "      <td>3852</td>\n",
       "      <td>1</td>\n",
       "    </tr>\n",
       "  </tbody>\n",
       "</table>\n",
       "</div>"
      ],
      "text/plain": [
       "            intent              sentence\n",
       "count         6035                  6035\n",
       "unique           8                  6035\n",
       "top     irrelevant  Et tu as des défauts\n",
       "freq          3852                     1"
      ]
     },
     "execution_count": 12,
     "metadata": {},
     "output_type": "execute_result"
    }
   ],
   "source": [
    "df_train.describe()"
   ]
  },
  {
   "cell_type": "markdown",
   "metadata": {
    "id": "e3t0q8tuFSr7"
   },
   "source": [
    "#### Distribution des classes"
   ]
  },
  {
   "cell_type": "code",
   "execution_count": 13,
   "metadata": {
    "colab": {
     "base_uri": "https://localhost:8080/",
     "height": 314
    },
    "id": "0s9D4ZiDFSr7",
    "outputId": "a0434735-46c7-4f66-ff81-754b441e1d28"
   },
   "outputs": [
    {
     "data": {
      "text/html": [
       "<div>\n",
       "<style scoped>\n",
       "    .dataframe tbody tr th:only-of-type {\n",
       "        vertical-align: middle;\n",
       "    }\n",
       "\n",
       "    .dataframe tbody tr th {\n",
       "        vertical-align: top;\n",
       "    }\n",
       "\n",
       "    .dataframe thead th {\n",
       "        text-align: right;\n",
       "    }\n",
       "</style>\n",
       "<table border=\"1\" class=\"dataframe\">\n",
       "  <thead>\n",
       "    <tr style=\"text-align: right;\">\n",
       "      <th></th>\n",
       "      <th>sentence</th>\n",
       "    </tr>\n",
       "    <tr>\n",
       "      <th>intent</th>\n",
       "      <th></th>\n",
       "    </tr>\n",
       "  </thead>\n",
       "  <tbody>\n",
       "    <tr>\n",
       "      <th>find-around-me</th>\n",
       "      <td>383</td>\n",
       "    </tr>\n",
       "    <tr>\n",
       "      <th>find-flight</th>\n",
       "      <td>142</td>\n",
       "    </tr>\n",
       "    <tr>\n",
       "      <th>find-hotel</th>\n",
       "      <td>316</td>\n",
       "    </tr>\n",
       "    <tr>\n",
       "      <th>find-restaurant</th>\n",
       "      <td>469</td>\n",
       "    </tr>\n",
       "    <tr>\n",
       "      <th>find-train</th>\n",
       "      <td>143</td>\n",
       "    </tr>\n",
       "    <tr>\n",
       "      <th>irrelevant</th>\n",
       "      <td>3852</td>\n",
       "    </tr>\n",
       "    <tr>\n",
       "      <th>provide-showtimes</th>\n",
       "      <td>117</td>\n",
       "    </tr>\n",
       "    <tr>\n",
       "      <th>purchase</th>\n",
       "      <td>613</td>\n",
       "    </tr>\n",
       "  </tbody>\n",
       "</table>\n",
       "</div>"
      ],
      "text/plain": [
       "                   sentence\n",
       "intent                     \n",
       "find-around-me          383\n",
       "find-flight             142\n",
       "find-hotel              316\n",
       "find-restaurant         469\n",
       "find-train              143\n",
       "irrelevant             3852\n",
       "provide-showtimes       117\n",
       "purchase                613"
      ]
     },
     "execution_count": 13,
     "metadata": {},
     "output_type": "execute_result"
    }
   ],
   "source": [
    "df_train.groupby('intent').count()"
   ]
  },
  {
   "cell_type": "markdown",
   "metadata": {
    "id": "kyieJlmeFSr7"
   },
   "source": [
    "#### Remarques : Les données d'entraînement ne semblent pas contenir de données nulles. Cette base est constituée de 8 classes et d'un total de 6035 données. La classe majoritaire est la classe 'irrelevant' et contient plus de 3800 données ce qui représente plus de la moitié de jeu de données d'entraînement. Le reste des classes contiennent très peu de données ce qui signifie un grand déséquilibre de ce jeu de données. On peut s'attendre à ce que cela influence les prédictions du modèle. \n"
   ]
  },
  {
   "cell_type": "markdown",
   "metadata": {
    "id": "R26MMGJbFSr7"
   },
   "source": [
    "### Pour les données de test"
   ]
  },
  {
   "cell_type": "code",
   "execution_count": 14,
   "metadata": {
    "colab": {
     "base_uri": "https://localhost:8080/"
    },
    "id": "Vrz-bSQJFSr8",
    "outputId": "21d0f056-a3c1-4e00-f5dc-b12f2916be64"
   },
   "outputs": [
    {
     "name": "stdout",
     "output_type": "stream",
     "text": [
      "<class 'pandas.core.frame.DataFrame'>\n",
      "RangeIndex: 1065 entries, 0 to 1064\n",
      "Data columns (total 2 columns):\n",
      " #   Column    Non-Null Count  Dtype \n",
      "---  ------    --------------  ----- \n",
      " 0   intent    1065 non-null   object\n",
      " 1   sentence  1065 non-null   object\n",
      "dtypes: object(2)\n",
      "memory usage: 16.8+ KB\n"
     ]
    }
   ],
   "source": [
    "df_test.info()"
   ]
  },
  {
   "cell_type": "code",
   "execution_count": 15,
   "metadata": {
    "colab": {
     "base_uri": "https://localhost:8080/",
     "height": 166
    },
    "id": "Dbl0XNV0FSr8",
    "outputId": "25b6ccc1-8f46-483e-b9c4-4b1234c3494f",
    "scrolled": true
   },
   "outputs": [
    {
     "data": {
      "text/html": [
       "<div>\n",
       "<style scoped>\n",
       "    .dataframe tbody tr th:only-of-type {\n",
       "        vertical-align: middle;\n",
       "    }\n",
       "\n",
       "    .dataframe tbody tr th {\n",
       "        vertical-align: top;\n",
       "    }\n",
       "\n",
       "    .dataframe thead th {\n",
       "        text-align: right;\n",
       "    }\n",
       "</style>\n",
       "<table border=\"1\" class=\"dataframe\">\n",
       "  <thead>\n",
       "    <tr style=\"text-align: right;\">\n",
       "      <th></th>\n",
       "      <th>intent</th>\n",
       "      <th>sentence</th>\n",
       "    </tr>\n",
       "  </thead>\n",
       "  <tbody>\n",
       "    <tr>\n",
       "      <th>count</th>\n",
       "      <td>1065</td>\n",
       "      <td>1065</td>\n",
       "    </tr>\n",
       "    <tr>\n",
       "      <th>unique</th>\n",
       "      <td>8</td>\n",
       "      <td>1064</td>\n",
       "    </tr>\n",
       "    <tr>\n",
       "      <th>top</th>\n",
       "      <td>irrelevant</td>\n",
       "      <td>Est ce que tu connais des sites internet sur l...</td>\n",
       "    </tr>\n",
       "    <tr>\n",
       "      <th>freq</th>\n",
       "      <td>677</td>\n",
       "      <td>2</td>\n",
       "    </tr>\n",
       "  </tbody>\n",
       "</table>\n",
       "</div>"
      ],
      "text/plain": [
       "            intent                                           sentence\n",
       "count         1065                                               1065\n",
       "unique           8                                               1064\n",
       "top     irrelevant  Est ce que tu connais des sites internet sur l...\n",
       "freq           677                                                  2"
      ]
     },
     "execution_count": 15,
     "metadata": {},
     "output_type": "execute_result"
    }
   ],
   "source": [
    "df_test.describe()"
   ]
  },
  {
   "cell_type": "code",
   "execution_count": 16,
   "metadata": {
    "colab": {
     "base_uri": "https://localhost:8080/",
     "height": 314
    },
    "id": "ZTmgLljSFSr8",
    "outputId": "810e37ba-2191-4ff1-890d-f1f7c5554edd"
   },
   "outputs": [
    {
     "data": {
      "text/html": [
       "<div>\n",
       "<style scoped>\n",
       "    .dataframe tbody tr th:only-of-type {\n",
       "        vertical-align: middle;\n",
       "    }\n",
       "\n",
       "    .dataframe tbody tr th {\n",
       "        vertical-align: top;\n",
       "    }\n",
       "\n",
       "    .dataframe thead th {\n",
       "        text-align: right;\n",
       "    }\n",
       "</style>\n",
       "<table border=\"1\" class=\"dataframe\">\n",
       "  <thead>\n",
       "    <tr style=\"text-align: right;\">\n",
       "      <th></th>\n",
       "      <th>sentence</th>\n",
       "    </tr>\n",
       "    <tr>\n",
       "      <th>intent</th>\n",
       "      <th></th>\n",
       "    </tr>\n",
       "  </thead>\n",
       "  <tbody>\n",
       "    <tr>\n",
       "      <th>find-around-me</th>\n",
       "      <td>67</td>\n",
       "    </tr>\n",
       "    <tr>\n",
       "      <th>find-flight</th>\n",
       "      <td>24</td>\n",
       "    </tr>\n",
       "    <tr>\n",
       "      <th>find-hotel</th>\n",
       "      <td>55</td>\n",
       "    </tr>\n",
       "    <tr>\n",
       "      <th>find-restaurant</th>\n",
       "      <td>93</td>\n",
       "    </tr>\n",
       "    <tr>\n",
       "      <th>find-train</th>\n",
       "      <td>21</td>\n",
       "    </tr>\n",
       "    <tr>\n",
       "      <th>irrelevant</th>\n",
       "      <td>677</td>\n",
       "    </tr>\n",
       "    <tr>\n",
       "      <th>provide-showtimes</th>\n",
       "      <td>14</td>\n",
       "    </tr>\n",
       "    <tr>\n",
       "      <th>purchase</th>\n",
       "      <td>114</td>\n",
       "    </tr>\n",
       "  </tbody>\n",
       "</table>\n",
       "</div>"
      ],
      "text/plain": [
       "                   sentence\n",
       "intent                     \n",
       "find-around-me           67\n",
       "find-flight              24\n",
       "find-hotel               55\n",
       "find-restaurant          93\n",
       "find-train               21\n",
       "irrelevant              677\n",
       "provide-showtimes        14\n",
       "purchase                114"
      ]
     },
     "execution_count": 16,
     "metadata": {},
     "output_type": "execute_result"
    }
   ],
   "source": [
    "df_test.groupby('intent').count()"
   ]
  },
  {
   "cell_type": "markdown",
   "metadata": {
    "id": "D0yKxV0IFSr8"
   },
   "source": [
    "#### Remarques : Le jeu de données de test contient 1065 données et ne contient pas non plus de données nulles. Tout comme pour le jeu d'entraînement, la classe 'irrelevant' est majoritaire et contient encore une fois plus de la moitié des données de test. Il faudra donc prêter attention aux métriques que l'on va utiliser pour évaluer les performances de ce modèle."
   ]
  },
  {
   "cell_type": "markdown",
   "metadata": {
    "id": "IeLhF-WMFSr8"
   },
   "source": [
    "## Métriques de classification"
   ]
  },
  {
   "cell_type": "markdown",
   "metadata": {
    "id": "ieUq9CuWFSr9"
   },
   "source": [
    "### Accuracy (non pertinente car dataset skewed)"
   ]
  },
  {
   "cell_type": "code",
   "execution_count": 17,
   "metadata": {
    "id": "4besGAj7FSr9",
    "outputId": "a7d889c0-5247-44ae-cd96-6db2a70c378b"
   },
   "outputs": [
    {
     "name": "stdout",
     "output_type": "stream",
     "text": [
      "Accuracy : 0.8093896713615023\n"
     ]
    }
   ],
   "source": [
    "# Comparison between y_prediction (prediction on x_test) and the actual results (y-test)\n",
    "accuracy = accuracy_score(y_test, y_prediction)\n",
    "print(\"Accuracy : \" + str(accuracy))"
   ]
  },
  {
   "cell_type": "markdown",
   "metadata": {
    "id": "PrjoOjIiFSr9"
   },
   "source": [
    "##### Remarques :  A première vue, on pourrait penser que le modèle est plutôt fiable car il a une bonne justesse. Il faudrait cependant garder en tête que la base de données est fortement déséquilibrée."
   ]
  },
  {
   "cell_type": "markdown",
   "metadata": {
    "id": "Y-5ZzbfaFSr9"
   },
   "source": [
    "### Balanced Accuracy (adaptée aux dataset déséquilibrés)"
   ]
  },
  {
   "cell_type": "code",
   "execution_count": 18,
   "metadata": {
    "id": "YPJawo3zFSr9",
    "outputId": "c9758234-b3de-4dbe-cd91-2ff2b29a0164"
   },
   "outputs": [
    {
     "name": "stdout",
     "output_type": "stream",
     "text": [
      "Balanced accuracy score : 0.5270967720223785\n"
     ]
    }
   ],
   "source": [
    "balanced_accuracy = balanced_accuracy_score(y_test, y_prediction)\n",
    "print(\"Balanced accuracy score : \" + str(balanced_accuracy))"
   ]
  },
  {
   "cell_type": "markdown",
   "metadata": {
    "id": "gUhmWUu4FSr-"
   },
   "source": [
    "##### Remarques : La 'balanced accuracy score' calculera la justesse du modèle en prenant en considération le déséquilibre de la base de données sur laquelle il a été entraîné. On peut en conclure que le modèle sera bon pour reconnaître les données correspondantes à la classe 'irrelevant' qui est la classe majoritaire mais beaucoup moins bon pour reconnaître les autres classes."
   ]
  },
  {
   "cell_type": "markdown",
   "metadata": {
    "id": "ZC1ungYcFSr-"
   },
   "source": [
    "### Confusion Matrix (visualisation de référence pour les datasets déséquilibrés)"
   ]
  },
  {
   "cell_type": "code",
   "execution_count": 21,
   "metadata": {
    "id": "iDjVPcKrFSr-"
   },
   "outputs": [],
   "source": [
    "def plot_cm(y_true, y_pred, cmap, xticks_rotation, normalize):\n",
    "    # Categories\n",
    "    labels = ['find-around-me','find-flight','find-hotel', 'find-restaurant', 'find-train',  'irrelevant', 'provide-showtimes', 'purchase']\n",
    "    # y_true and y_pred are OneHotEncoded, confusion_matrix takes a list of predictions !\n",
    "    cm = confusion_matrix(y_true, y_pred, normalize=normalize)\n",
    "    if normalize == 'true': \n",
    "        for i, j in itertools.product(range(cm.shape[0]), range(cm.shape[1])):\n",
    "            cm[i,j] = format(cm[i, j], '.2f')\n",
    "    disp = ConfusionMatrixDisplay(confusion_matrix=cm)\n",
    "    disp.plot(cmap, ax=None, xticks_rotation='horizontal')\n",
    "    tick_marks = np.arange(len(labels))\n",
    "    plt.xticks(tick_marks, labels, rotation=90, fontsize=12)\n",
    "    plt.yticks(tick_marks, labels, fontsize=12)"
   ]
  },
  {
   "cell_type": "code",
   "execution_count": 22,
   "metadata": {
    "id": "QxozrpOzFSr-",
    "outputId": "340b6a7b-4a15-431f-b7b4-069f719c2b13",
    "scrolled": true
   },
   "outputs": [
    {
     "ename": "TypeError",
     "evalue": "__init__() missing 1 required positional argument: 'display_labels'",
     "output_type": "error",
     "traceback": [
      "\u001b[1;31m---------------------------------------------------------------------------\u001b[0m",
      "\u001b[1;31mTypeError\u001b[0m                                 Traceback (most recent call last)",
      "\u001b[1;32m<ipython-input-22-09093574a823>\u001b[0m in \u001b[0;36m<module>\u001b[1;34m\u001b[0m\n\u001b[0;32m      1\u001b[0m \u001b[1;31m# Plot confusion matrix\u001b[0m\u001b[1;33m\u001b[0m\u001b[1;33m\u001b[0m\u001b[1;33m\u001b[0m\u001b[0m\n\u001b[1;32m----> 2\u001b[1;33m \u001b[0mplot_cm\u001b[0m\u001b[1;33m(\u001b[0m\u001b[0my_test\u001b[0m\u001b[1;33m,\u001b[0m \u001b[0my_prediction\u001b[0m\u001b[1;33m,\u001b[0m \u001b[1;34m'viridis'\u001b[0m\u001b[1;33m,\u001b[0m \u001b[1;34m'horizontal'\u001b[0m\u001b[1;33m,\u001b[0m \u001b[1;34m'true'\u001b[0m\u001b[1;33m)\u001b[0m\u001b[1;33m\u001b[0m\u001b[1;33m\u001b[0m\u001b[0m\n\u001b[0m",
      "\u001b[1;32m<ipython-input-21-89c5ced228c7>\u001b[0m in \u001b[0;36mplot_cm\u001b[1;34m(y_true, y_pred, cmap, xticks_rotation, normalize)\u001b[0m\n\u001b[0;32m      7\u001b[0m         \u001b[1;32mfor\u001b[0m \u001b[0mi\u001b[0m\u001b[1;33m,\u001b[0m \u001b[0mj\u001b[0m \u001b[1;32min\u001b[0m \u001b[0mitertools\u001b[0m\u001b[1;33m.\u001b[0m\u001b[0mproduct\u001b[0m\u001b[1;33m(\u001b[0m\u001b[0mrange\u001b[0m\u001b[1;33m(\u001b[0m\u001b[0mcm\u001b[0m\u001b[1;33m.\u001b[0m\u001b[0mshape\u001b[0m\u001b[1;33m[\u001b[0m\u001b[1;36m0\u001b[0m\u001b[1;33m]\u001b[0m\u001b[1;33m)\u001b[0m\u001b[1;33m,\u001b[0m \u001b[0mrange\u001b[0m\u001b[1;33m(\u001b[0m\u001b[0mcm\u001b[0m\u001b[1;33m.\u001b[0m\u001b[0mshape\u001b[0m\u001b[1;33m[\u001b[0m\u001b[1;36m1\u001b[0m\u001b[1;33m]\u001b[0m\u001b[1;33m)\u001b[0m\u001b[1;33m)\u001b[0m\u001b[1;33m:\u001b[0m\u001b[1;33m\u001b[0m\u001b[1;33m\u001b[0m\u001b[0m\n\u001b[0;32m      8\u001b[0m             \u001b[0mcm\u001b[0m\u001b[1;33m[\u001b[0m\u001b[0mi\u001b[0m\u001b[1;33m,\u001b[0m\u001b[0mj\u001b[0m\u001b[1;33m]\u001b[0m \u001b[1;33m=\u001b[0m \u001b[0mformat\u001b[0m\u001b[1;33m(\u001b[0m\u001b[0mcm\u001b[0m\u001b[1;33m[\u001b[0m\u001b[0mi\u001b[0m\u001b[1;33m,\u001b[0m \u001b[0mj\u001b[0m\u001b[1;33m]\u001b[0m\u001b[1;33m,\u001b[0m \u001b[1;34m'.2f'\u001b[0m\u001b[1;33m)\u001b[0m\u001b[1;33m\u001b[0m\u001b[1;33m\u001b[0m\u001b[0m\n\u001b[1;32m----> 9\u001b[1;33m     \u001b[0mdisp\u001b[0m \u001b[1;33m=\u001b[0m \u001b[0mConfusionMatrixDisplay\u001b[0m\u001b[1;33m(\u001b[0m\u001b[0mconfusion_matrix\u001b[0m\u001b[1;33m=\u001b[0m\u001b[0mcm\u001b[0m\u001b[1;33m)\u001b[0m\u001b[1;33m\u001b[0m\u001b[1;33m\u001b[0m\u001b[0m\n\u001b[0m\u001b[0;32m     10\u001b[0m     \u001b[0mdisp\u001b[0m\u001b[1;33m.\u001b[0m\u001b[0mplot\u001b[0m\u001b[1;33m(\u001b[0m\u001b[0mcmap\u001b[0m\u001b[1;33m,\u001b[0m \u001b[0max\u001b[0m\u001b[1;33m=\u001b[0m\u001b[1;32mNone\u001b[0m\u001b[1;33m,\u001b[0m \u001b[0mxticks_rotation\u001b[0m\u001b[1;33m=\u001b[0m\u001b[1;34m'horizontal'\u001b[0m\u001b[1;33m)\u001b[0m\u001b[1;33m\u001b[0m\u001b[1;33m\u001b[0m\u001b[0m\n\u001b[0;32m     11\u001b[0m     \u001b[0mtick_marks\u001b[0m \u001b[1;33m=\u001b[0m \u001b[0mnp\u001b[0m\u001b[1;33m.\u001b[0m\u001b[0marange\u001b[0m\u001b[1;33m(\u001b[0m\u001b[0mlen\u001b[0m\u001b[1;33m(\u001b[0m\u001b[0mlabels\u001b[0m\u001b[1;33m)\u001b[0m\u001b[1;33m)\u001b[0m\u001b[1;33m\u001b[0m\u001b[1;33m\u001b[0m\u001b[0m\n",
      "\u001b[1;31mTypeError\u001b[0m: __init__() missing 1 required positional argument: 'display_labels'"
     ]
    }
   ],
   "source": [
    "# Plot confusion matrix\n",
    "plot_cm(y_test, y_prediction, 'viridis', 'horizontal', 'true')"
   ]
  },
  {
   "cell_type": "markdown",
   "metadata": {
    "id": "7Adlsk9VFSr_"
   },
   "source": [
    "##### Remarques : On peut déduire de cette matrice de confusion que le modèle classe la majorité des données comme étant 'irrelevant'. Lorsqu'il fait une prédiction, soit il prédit la bonne classe soit il prédit la classe majoritaire. Cela explique les résultats de rappel et précision présentés ci-dessous. "
   ]
  },
  {
   "cell_type": "markdown",
   "metadata": {
    "id": "6DuT9n0HFSr_"
   },
   "source": [
    "### Précision, Recall et F1-score"
   ]
  },
  {
   "cell_type": "code",
   "execution_count": 23,
   "metadata": {
    "id": "J7Iap_BxFSsA",
    "outputId": "13e5c2ce-1a75-4dc7-9969-1cf15a3b4857"
   },
   "outputs": [
    {
     "name": "stdout",
     "output_type": "stream",
     "text": [
      "                   precision    recall  f1-score   support\n",
      "\n",
      "   find-around-me       0.86      0.37      0.52        67\n",
      "      find-flight       0.88      0.29      0.44        24\n",
      "       find-hotel       0.76      0.40      0.52        55\n",
      "  find-restaurant       0.90      0.66      0.76        93\n",
      "       find-train       0.93      0.67      0.78        21\n",
      "       irrelevant       0.80      0.98      0.88       677\n",
      "provide-showtimes       0.80      0.29      0.42        14\n",
      "         purchase       0.82      0.56      0.67       114\n",
      "\n",
      "         accuracy                           0.81      1065\n",
      "        macro avg       0.84      0.53      0.62      1065\n",
      "     weighted avg       0.82      0.81      0.79      1065\n",
      "\n"
     ]
    }
   ],
   "source": [
    "print(classification_report(y_test, y_prediction))"
   ]
  },
  {
   "cell_type": "markdown",
   "metadata": {
    "id": "0t31JArKFSsA"
   },
   "source": [
    "##### Remarques : On remarque qu'on a une précision qui est assez haute (et cela pour toutes les classes sauf la classe majoritaire 'irrelevant') tandis que le rappel est plutôt bas. Cela signifie que pour toutes les classes hormi la classe majoritaire, quand il s'agit en effet (par exemple) de la 'classe1' il n'est pas toujours capable de la classer en tant que 'classe1'. Mais quand il classe un élément dans la 'classe1', il s'agit en effet d'un élément de cette classe. \n",
    "\n",
    "##### La précision a été privilégié au rappel. Cette observation n'est pas surprenante : en effet, si le message ne correspond à aucune des intentions disponibles sur l'application, l'entreprise Idiwii souhaite que le message arrive directement à un concierge humain. Ainsi, il est préfèrable qu'un message arrive sur le back-office, plutôt que de risquer des cas d'erreur de classification critiques. \n",
    "\n",
    "##### Pour la classe 'irrelevant', on observe également une forte précision mais un rappel supérieur. Ainsi, le modèle classe plusieurs éléments comme étant 'irrelevant', qu'ils le soient ou non. Notre hypothèse est donc confirmée : le modèle préfère classifier une intention comme 'irrelevant' afin que le message arrive directement au concierge humain. Ainsi, il semble intéressant de calculer le F-beta score."
   ]
  },
  {
   "cell_type": "markdown",
   "metadata": {
    "id": "ZqFaNwU4FSsA"
   },
   "source": [
    "### F-beta score"
   ]
  },
  {
   "cell_type": "code",
   "execution_count": 38,
   "metadata": {},
   "outputs": [
    {
     "data": {
      "text/plain": [
       "0.8104714492004462"
      ]
     },
     "execution_count": 38,
     "metadata": {},
     "output_type": "execute_result"
    }
   ],
   "source": [
    "# F-beta score\n",
    "fbeta_score(y_test, y_prediction, beta=0.2, average='weighted')"
   ]
  },
  {
   "cell_type": "markdown",
   "metadata": {
    "id": "DX76aGZHFSsB"
   },
   "source": [
    "##### Remarques : Le paramètre beta détermine l'importance accordée au rappel. Lorsqu'il est inférieur à 1, on accorde plus d'importance à la précision. \n",
    "\n",
    "##### Ainsi, on observe bien que le F-beta score diminue lorsque le paramètre beta augmente."
   ]
  },
  {
   "cell_type": "markdown",
   "metadata": {
    "id": "ZqFaNwU4FSsA"
   },
   "source": [
    "### ROC Area under the ROC Curve score"
   ]
  },
  {
   "cell_type": "code",
   "execution_count": null,
   "metadata": {
    "id": "p6ynKJDkFSsA"
   },
   "outputs": [],
   "source": [
    "# ROC Score requires OneHotEncoded vector \n",
    "x = [['find-around-me'], ['find-flight'], ['find-hotel'], ['find-restaurant'], ['find-train'], ['irrelevant'], ['provide-showtimes'], ['purchase']]\n",
    "encoder = OneHotEncoder().fit(x)\n",
    "y_test_encoded = encoder.transform(y_test.reshape(-1,1)).toarray()"
   ]
  },
  {
   "cell_type": "code",
   "execution_count": null,
   "metadata": {
    "id": "_g7BMRVQFSsA",
    "outputId": "1d97ed73-6330-41c8-c398-8b6cceebe432"
   },
   "outputs": [
    {
     "data": {
      "text/plain": [
       "0.5688356888514263"
      ]
     },
     "execution_count": 19,
     "metadata": {
      "tags": []
     },
     "output_type": "execute_result"
    }
   ],
   "source": [
    "# ROC Score \n",
    "roc_auc_score(y_test_encoded, y_prediction_vect)"
   ]
  },
  {
   "cell_type": "markdown",
   "metadata": {
    "id": "DX76aGZHFSsB"
   },
   "source": [
    "##### Remarques : On a un ROC_AUC_Score plutôt bas, ce qui signifie que le modèle n'est pas capable de bien faire la distinction entre les classes."
   ]
  },
  {
   "cell_type": "markdown",
   "metadata": {
    "id": "oyHIL-nTFSsB"
   },
   "source": [
    "### ROC Curve visualisation (for each class)"
   ]
  },
  {
   "cell_type": "code",
   "execution_count": null,
   "metadata": {
    "id": "URufKCSWFSsB",
    "outputId": "ea8f99a3-6d04-4861-f0da-9a1f1a921b33"
   },
   "outputs": [
    {
     "data": {
      "image/png": "[encoded data removed]",
      "text/plain": [
       "<Figure size 720x720 with 1 Axes>"
      ]
     },
     "metadata": {
      "needs_background": "light",
      "tags": []
     },
     "output_type": "display_data"
    }
   ],
   "source": [
    "# Compute ROC curve for each class\n",
    "labels = ['find-around-me','find-flight','find-hotel', 'find-restaurant', 'find-train',  'irrelevant', 'provide-showtimes', 'purchase']\n",
    "n_classes = len(labels)\n",
    "fpr = [0 for i in range(n_classes)]\n",
    "tpr = [0 for i in range(n_classes)]\n",
    "roc_auc = [0 for i in range(n_classes)]\n",
    "\n",
    "for i in range(n_classes):\n",
    "    fpr[i], tpr[i], _ = roc_curve(y_test_encoded[:, i], y_prediction_vect[:,i])\n",
    "    roc_auc[i] = auc(fpr[i], tpr[i])\n",
    "    \n",
    "# Plot of a ROC curve for all classes\n",
    "fig, ax = plt.subplots(figsize=(10,10))\n",
    "ax.plot([0, 1], [0, 1], 'k--')\n",
    "ax.set_xlim([0.0, 1.0])\n",
    "ax.set_ylim([0.0, 1.05])\n",
    "ax.set_xlabel('False Positive Rate')\n",
    "ax.set_ylabel('True Positive Rate')\n",
    "ax.set_title('Receiver Operating Characteristic Curve')\n",
    "for i in range(n_classes):\n",
    "    ax.plot(fpr[i], tpr[i], label='ROC curve (area = %0.2f) for label %s' % (roc_auc[i], labels[i]))\n",
    "ax.legend(loc=\"best\")\n",
    "ax.grid(alpha=.4)\n",
    "sns.despine()\n",
    "plt.show()"
   ]
  },
  {
   "cell_type": "markdown",
   "metadata": {
    "id": "Py9SPYvaFSsC"
   },
   "source": [
    "##### Remarques :  \n",
    "\n",
    "On peut dire que le modèle est bon si l'aire sous la courbe est maximale. Or, ce n'est pas toujours le cas ici. Les classes find-restaurant et provide-showtimes ont un bon ROC_AUC_Score, ce qui signifie que les utérances appartenant à ces classes sont bien prédits.\n",
    "##### Par contre, pour les autres classes, il y a plus de faux positifs que de vrais positifs. Le modèle ne prédit pas bien ces classes."
   ]
  },
  {
   "cell_type": "markdown",
   "metadata": {
    "id": "rbL1iGK7FSsC"
   },
   "source": [
    "#### Remarques : Les données d'entraînement ne semblent pas contenir de données nulles. Cette base est constituée de 8 classes et d'un total de 6035 données. La classe majoritaire est la classe 'irrelevant' et contient plus de 3800 données ce qui représente plus de la moitié de jeu de données d'entraînement. Le reste des classes contiennent très peu de données ce qui signifie un grand déséquilibre de ce jeu de données. On peut s'attendre à ce que cela influence les prédictions du modèle. \n"
   ]
  },
  {
   "cell_type": "markdown",
   "metadata": {
    "id": "_79VHxokFSsC"
   },
   "source": [
    "# Exercice 2\n",
    "### Réponse / idées : \n",
    "Seuil de classification "
   ]
  },
  {
   "cell_type": "code",
   "execution_count": null,
   "metadata": {
    "id": "DggCPbWrFSsC"
   },
   "outputs": [],
   "source": [
    "# Function that returns the sentence's intention and its probability\n",
    "def predictionScore(features) :\n",
    "    y_prediction = []\n",
    "    y_score = []\n",
    "    for sentence in features:\n",
    "        url = \"http://localhost:8080/api/intent?sentence=<\" + urllib.parse.quote(sentence) +\">\"\n",
    "        requete = urllib.request.urlopen(url)\n",
    "        result_requete = json.load(requete)\n",
    "        \n",
    "        # Only focuses on the max index \n",
    "        prediction_result = max(result_requete.items(), key=operator.itemgetter(1))[0]\n",
    "        prediction_score = max(result_requete.items(), key=operator.itemgetter(1))[1]\n",
    "        \n",
    "        y_prediction.append(prediction_result)\n",
    "        y_score.append(prediction_score)\n",
    "        \n",
    "    df_prediction_score = pd.DataFrame({'Intention':y_prediction, 'Scores':y_score})\n",
    "    \n",
    "    return df_prediction_score\n",
    "\n",
    "\n",
    "# Function that returns the probability of the ground truth\n",
    "def groundTruthScore(features, intentions) :\n",
    "    y_intention = []\n",
    "    y_score = []\n",
    "    \n",
    "    for i in range(len(features)):\n",
    "        url = \"http://localhost:8080/api/intent?sentence=<\" + urllib.parse.quote(features[i]) +\">\"\n",
    "        requete = urllib.request.urlopen(url)\n",
    "        result_requete = json.load(requete)\n",
    "        \n",
    "        y_intention.append(intentions[i])\n",
    "        y_score.append(result_requete[intentions[i]])\n",
    "        \n",
    "    df_ground_truth_score = pd.DataFrame({'Intention':y_intention, 'Scores':y_score})\n",
    "    \n",
    "    return df_ground_truth_score"
   ]
  },
  {
   "cell_type": "code",
   "execution_count": null,
   "metadata": {
    "id": "IEPdZSo5FSsC"
   },
   "outputs": [],
   "source": [
    "# Function that computes means and standard deviation\n",
    "def mean_std_score_label(scores):\n",
    "    labels = ['find-around-me','find-flight','find-hotel', 'find-restaurant', 'find-train',  'irrelevant', 'provide-showtimes', 'purchase']\n",
    "    \n",
    "    mean = []\n",
    "    std = []\n",
    "    for label in labels:\n",
    "        mean_label = scores.loc[scores['Intention'].isin([label]), 'Scores'].mean()\n",
    "        std_label = scores.loc[scores['Intention'].isin([label]), 'Scores'].std()\n",
    "        \n",
    "        mean.append(mean_label)\n",
    "        std.append(std_label)\n",
    "    \n",
    "    \n",
    "    mean_scores = pd.DataFrame({'Label':labels, 'Mean':mean, 'Standard deviation':std})\n",
    "    \n",
    "    return mean_scores"
   ]
  },
  {
   "cell_type": "code",
   "execution_count": null,
   "metadata": {
    "id": "Op-UDkiIFSsD",
    "outputId": "00bd2716-77f9-4781-de21-6fbcb2126599"
   },
   "outputs": [
    {
     "name": "stdout",
     "output_type": "stream",
     "text": [
      "Ground Truth :\n",
      "\n",
      "               Label      Mean  Standard deviation\n",
      "0     find-around-me  0.302347            0.228291\n",
      "1        find-flight  0.285899            0.220907\n",
      "2         find-hotel  0.346231            0.265381\n",
      "3    find-restaurant  0.508404            0.256457\n",
      "4         find-train  0.458524            0.296442\n",
      "5         irrelevant  0.717477            0.180213\n",
      "6  provide-showtimes  0.249688            0.197148\n",
      "7           purchase  0.433410            0.239385\n",
      "\n",
      "\n",
      "\n",
      "Prediction :\n",
      "\n",
      "               Label      Mean  Standard deviation\n",
      "0     find-around-me  0.520302            0.170593\n",
      "1        find-flight  0.514546            0.197866\n",
      "2         find-hotel  0.628303            0.176036\n",
      "3    find-restaurant  0.623600            0.191023\n",
      "4         find-train  0.631442            0.163368\n",
      "5         irrelevant  0.689272            0.183049\n",
      "6  provide-showtimes  0.491745            0.149602\n",
      "7           purchase  0.571429            0.180522\n"
     ]
    }
   ],
   "source": [
    "ground_truth_score = groundTruthScore(x_test, y_test)\n",
    "print(\"Ground Truth :\\n\")\n",
    "mean_std_ground_truth = mean_std_score_label(ground_truth_score)\n",
    "print(mean_std_ground_truth)\n",
    "\n",
    "print(\"\\n\\n\")\n",
    "prediction_score = predictionScore(x_test)\n",
    "print(\"Prediction :\\n\")\n",
    "mean_std_prediction = mean_std_score_label(prediction_score)\n",
    "print(mean_std_prediction)"
   ]
  },
  {
   "cell_type": "markdown",
   "metadata": {
    "id": "zv4PtysqFSsD"
   },
   "source": [
    "##### Remarque : On constate que la moyenne pour le score de chaque classe est différente pour les vraies intentions et pour les intentions prédites par le modèle. Ainsi, afin de pouvoir mieux prédire les classes, on aurait tendance à vouloir fixer un seuil par classe, qui serait égal à la moyenne de score calculée pour chaque classe. Or, on constate que l'écart-type est trop élevé pour faire cela. En effet, il faudrait un écart-type insignifiant pour pouvoir fixer la moyenne de chaque classe comme seuil pour chaque classe. En effet, un écart-type insignifiant signifierait que les scores ne varient pas beaucoup.\n",
    "\n",
    "##### Sinon, on pourrait vouloir, fixer le score minimum obtenu pour chaque vraie intention, mais les scores varient beaucoup d'une phrase à l'autre donc on risquerait de toujours prédire une classe alors que ce n'est pas la bonne.\n",
    "\n",
    "##### Ainsi, fixer un seuil n'aurait pas de sens pour ce modèle."
   ]
  },
  {
   "cell_type": "markdown",
   "metadata": {
    "id": "ZAzIZCsMFSsD"
   },
   "source": [
    "# Exercice 3"
   ]
  },
  {
   "cell_type": "code",
   "execution_count": 50,
   "metadata": {
    "id": "rDrlLPqvFSsD"
   },
   "outputs": [
    {
     "name": "stdout",
     "output_type": "stream",
     "text": [
      "Requirement already satisfied: imblearn in c:\\users\\julie\\appdata\\local\\programs\\python\\python38\\lib\\site-packages (0.0)\n",
      "Requirement already satisfied: imbalanced-learn in c:\\users\\julie\\appdata\\local\\programs\\python\\python38\\lib\\site-packages (from imblearn) (0.7.0)\n",
      "Requirement already satisfied: joblib>=0.11 in c:\\users\\julie\\appdata\\local\\programs\\python\\python38\\lib\\site-packages (from imbalanced-learn->imblearn) (0.17.0)\n",
      "Requirement already satisfied: scikit-learn>=0.23 in c:\\users\\julie\\appdata\\local\\programs\\python\\python38\\lib\\site-packages (from imbalanced-learn->imblearn) (0.23.2)\n",
      "Requirement already satisfied: scipy>=0.19.1 in c:\\users\\julie\\appdata\\local\\programs\\python\\python38\\lib\\site-packages (from imbalanced-learn->imblearn) (1.5.4)\n",
      "Requirement already satisfied: numpy>=1.13.3 in c:\\users\\julie\\appdata\\local\\programs\\python\\python38\\lib\\site-packages (from imbalanced-learn->imblearn) (1.19.3)\n",
      "Requirement already satisfied: threadpoolctl>=2.0.0 in c:\\users\\julie\\appdata\\local\\programs\\python\\python38\\lib\\site-packages (from scikit-learn>=0.23->imbalanced-learn->imblearn) (2.1.0)\n"
     ]
    },
    {
     "name": "stderr",
     "output_type": "stream",
     "text": [
      "WARNING: You are using pip version 20.0.2; however, version 20.3.3 is available.\n",
      "You should consider upgrading via the 'c:\\users\\julie\\appdata\\local\\programs\\python\\python38\\python.exe -m pip install --upgrade pip' command.\n"
     ]
    },
    {
     "name": "stdout",
     "output_type": "stream",
     "text": [
      "Requirement already satisfied: transformers in c:\\users\\julie\\appdata\\local\\programs\\python\\python38\\lib\\site-packages (4.1.1)\n",
      "Requirement already satisfied: numpy in c:\\users\\julie\\appdata\\local\\programs\\python\\python38\\lib\\site-packages (from transformers) (1.19.3)\n",
      "Requirement already satisfied: tqdm>=4.27 in c:\\users\\julie\\appdata\\local\\programs\\python\\python38\\lib\\site-packages (from transformers) (4.54.1)\n",
      "Requirement already satisfied: requests in c:\\users\\julie\\appdata\\local\\programs\\python\\python38\\lib\\site-packages (from transformers) (2.23.0)\n",
      "Requirement already satisfied: tokenizers==0.9.4 in c:\\users\\julie\\appdata\\local\\programs\\python\\python38\\lib\\site-packages (from transformers) (0.9.4)\n",
      "Requirement already satisfied: packaging in c:\\users\\julie\\appdata\\local\\programs\\python\\python38\\lib\\site-packages (from transformers) (20.8)\n",
      "Requirement already satisfied: sacremoses in c:\\users\\julie\\appdata\\local\\programs\\python\\python38\\lib\\site-packages (from transformers) (0.0.43)\n",
      "Requirement already satisfied: regex!=2019.12.17 in c:\\users\\julie\\appdata\\local\\programs\\python\\python38\\lib\\site-packages (from transformers) (2020.11.13)\n",
      "Requirement already satisfied: filelock in c:\\users\\julie\\appdata\\local\\programs\\python\\python38\\lib\\site-packages (from transformers) (3.0.12)\n",
      "Requirement already satisfied: idna<3,>=2.5 in c:\\users\\julie\\appdata\\local\\programs\\python\\python38\\lib\\site-packages (from requests->transformers) (2.9)\n",
      "Requirement already satisfied: certifi>=2017.4.17 in c:\\users\\julie\\appdata\\local\\programs\\python\\python38\\lib\\site-packages (from requests->transformers) (2020.4.5.1)\n",
      "Requirement already satisfied: urllib3!=1.25.0,!=1.25.1,<1.26,>=1.21.1 in c:\\users\\julie\\appdata\\local\\programs\\python\\python38\\lib\\site-packages (from requests->transformers) (1.25.9)\n",
      "Requirement already satisfied: chardet<4,>=3.0.2 in c:\\users\\julie\\appdata\\local\\programs\\python\\python38\\lib\\site-packages (from requests->transformers) (3.0.4)\n",
      "Requirement already satisfied: pyparsing>=2.0.2 in c:\\users\\julie\\appdata\\local\\programs\\python\\python38\\lib\\site-packages (from packaging->transformers) (2.4.7)\n",
      "Requirement already satisfied: six in c:\\users\\julie\\appdata\\local\\programs\\python\\python38\\lib\\site-packages (from sacremoses->transformers) (1.15.0)\n",
      "Requirement already satisfied: click in c:\\users\\julie\\appdata\\local\\programs\\python\\python38\\lib\\site-packages (from sacremoses->transformers) (7.1.2)\n",
      "Requirement already satisfied: joblib in c:\\users\\julie\\appdata\\local\\programs\\python\\python38\\lib\\site-packages (from sacremoses->transformers) (0.17.0)\n"
     ]
    },
    {
     "name": "stderr",
     "output_type": "stream",
     "text": [
      "WARNING: You are using pip version 20.0.2; however, version 20.3.3 is available.\n",
      "You should consider upgrading via the 'c:\\users\\julie\\appdata\\local\\programs\\python\\python38\\python.exe -m pip install --upgrade pip' command.\n"
     ]
    }
   ],
   "source": [
    "!pip3 install imblearn\n",
    "!pip3 install transformers"
   ]
  },
  {
   "cell_type": "markdown",
   "metadata": {
    "id": "vSMGQohkFSsD"
   },
   "source": [
    "### Récupération du dataset"
   ]
  },
  {
   "cell_type": "code",
   "execution_count": 51,
   "metadata": {
    "colab": {
     "base_uri": "https://localhost:8080/"
    },
    "id": "dEvwWg3GFSsE",
    "outputId": "89e28183-6901-4410-da6e-74fbaac539ac"
   },
   "outputs": [
    {
     "name": "stdout",
     "output_type": "stream",
     "text": [
      "df_train : 6035 samples\n",
      "\n",
      "       intent                                           sentence\n",
      "0  irrelevant  850€ maximum pour le loyer, à partir de janvie...\n",
      "1  irrelevant                                         D'imprimer\n",
      "2    purchase  Le meilleur cabriolet hybrid moins de 5m10 min...\n",
      "3  find-hotel  en ce moment je cher un location pour les vaca...\n",
      "4  irrelevant             c'est possible de t'utiliser la nuit ?\n",
      "\n",
      "\n",
      "df_test  : 1065 samples\n",
      "\n",
      "            intent                                           sentence\n",
      "0       irrelevant            Tu sais où je peux acheter un bazooka ?\n",
      "1       irrelevant                 déco de maison style maison ferret\n",
      "2       irrelevant                      j'ai envie qu'on se rencontre\n",
      "3         purchase             J’ai besoin de fleurs pr ma grand mère\n",
      "4  find-restaurant  trouve à champigny-sur-marne où manger de la c...\n"
     ]
    }
   ],
   "source": [
    "print(f\"df_train : {len(df_train)} samples\\n\\n{df_train.head()}\\n\\n\")\n",
    "print(f\"df_test  : {len(df_test)} samples\\n\\n{df_test.head()}\")\n"
   ]
  },
  {
   "cell_type": "markdown",
   "metadata": {
    "id": "7JZRmk7KFSsE"
   },
   "source": [
    "### Formattage du dataset"
   ]
  },
  {
   "cell_type": "code",
   "execution_count": 49,
   "metadata": {
    "colab": {
     "base_uri": "https://localhost:8080/"
    },
    "id": "xkwso9LJFSsE",
    "outputId": "f19c7c5c-dc00-435b-aa28-9174cfa89307"
   },
   "outputs": [
    {
     "name": "stderr",
     "output_type": "stream",
     "text": [
      "[nltk_data] Downloading package wordnet to\n",
      "[nltk_data]     C:\\Users\\julie\\AppData\\Roaming\\nltk_data...\n",
      "[nltk_data]   Package wordnet is already up-to-date!\n",
      "[nltk_data] Downloading package punkt to\n",
      "[nltk_data]     C:\\Users\\julie\\AppData\\Roaming\\nltk_data...\n",
      "[nltk_data]   Package punkt is already up-to-date!\n",
      "[nltk_data] Downloading package stopwords to\n",
      "[nltk_data]     C:\\Users\\julie\\AppData\\Roaming\\nltk_data...\n",
      "[nltk_data]   Package stopwords is already up-to-date!\n"
     ]
    },
    {
     "ename": "ModuleNotFoundError",
     "evalue": "No module named 'imblearn'",
     "output_type": "error",
     "traceback": [
      "\u001b[1;31m---------------------------------------------------------------------------\u001b[0m",
      "\u001b[1;31mModuleNotFoundError\u001b[0m                       Traceback (most recent call last)",
      "\u001b[1;32m<ipython-input-49-50bd14532775>\u001b[0m in \u001b[0;36m<module>\u001b[1;34m\u001b[0m\n\u001b[0;32m      8\u001b[0m \u001b[0mnltk\u001b[0m\u001b[1;33m.\u001b[0m\u001b[0mdownload\u001b[0m\u001b[1;33m(\u001b[0m\u001b[1;34m'stopwords'\u001b[0m\u001b[1;33m)\u001b[0m\u001b[1;33m\u001b[0m\u001b[1;33m\u001b[0m\u001b[0m\n\u001b[0;32m      9\u001b[0m \u001b[1;33m\u001b[0m\u001b[0m\n\u001b[1;32m---> 10\u001b[1;33m \u001b[1;32mfrom\u001b[0m \u001b[0mimblearn\u001b[0m\u001b[1;33m.\u001b[0m\u001b[0mover_sampling\u001b[0m \u001b[1;32mimport\u001b[0m \u001b[0mRandomOverSampler\u001b[0m\u001b[1;33m\u001b[0m\u001b[1;33m\u001b[0m\u001b[0m\n\u001b[0m\u001b[0;32m     11\u001b[0m \u001b[1;32mfrom\u001b[0m \u001b[0msklearn\u001b[0m\u001b[1;33m.\u001b[0m\u001b[0mpipeline\u001b[0m \u001b[1;32mimport\u001b[0m \u001b[0mPipeline\u001b[0m\u001b[1;33m\u001b[0m\u001b[1;33m\u001b[0m\u001b[0m\n\u001b[0;32m     12\u001b[0m \u001b[1;32mfrom\u001b[0m \u001b[0msklearn\u001b[0m\u001b[1;33m.\u001b[0m\u001b[0mfeature_extraction\u001b[0m\u001b[1;33m.\u001b[0m\u001b[0mtext\u001b[0m \u001b[1;32mimport\u001b[0m \u001b[0mTfidfTransformer\u001b[0m\u001b[1;33m,\u001b[0m \u001b[0mCountVectorizer\u001b[0m\u001b[1;33m\u001b[0m\u001b[1;33m\u001b[0m\u001b[0m\n",
      "\u001b[1;31mModuleNotFoundError\u001b[0m: No module named 'imblearn'"
     ]
    }
   ],
   "source": [
    "import nltk\n",
    "from nltk.stem import WordNetLemmatizer\n",
    "from nltk.stem import PorterStemmer\n",
    "from nltk.corpus import stopwords\n",
    "\n",
    "nltk.download('wordnet')\n",
    "nltk.download('punkt')\n",
    "nltk.download('stopwords')\n",
    "\n",
    "from imblearn.over_sampling import RandomOverSampler\n",
    "from sklearn.pipeline import Pipeline\n",
    "from sklearn.feature_extraction.text import TfidfTransformer, CountVectorizer\n",
    "from sklearn.linear_model import SGDClassifier\n",
    "from sklearn.ensemble import RandomForestClassifier\n",
    "from sklearn.tree import DecisionTreeClassifier\n",
    "\n",
    "#import texthero as hero\n",
    "#from transformers import pipeline"
   ]
  },
  {
   "cell_type": "markdown",
   "metadata": {
    "id": "JgGpeqXAFSsE"
   },
   "source": [
    "### Fonction de prétraitement du langage"
   ]
  },
  {
   "cell_type": "code",
   "execution_count": 45,
   "metadata": {
    "id": "O3uqdwLHFSsE"
   },
   "outputs": [],
   "source": [
    "def punctuation(text):\n",
    "    text = text.replace(\",\", \" \")\n",
    "    text = text.replace(\":\", \" \")\n",
    "    text = text.replace(\".\", \" \")\n",
    "    text = text.replace(\"(\", \" \")\n",
    "    text = text.replace(\")\", \" \")\n",
    "    text = text.replace(\"|\", \" \")\n",
    "    text = text.replace(\"&\", \" \")\n",
    "    text = text.replace('\"', \" \")\n",
    "    text = text.replace(\"'\", \" \")\n",
    "    text = text.replace(\">\", \" \")\n",
    "    return text\n",
    "\n",
    "\n",
    "def abbreviation(text):\n",
    "    text = text.replace(\"j'\", \"je \")\n",
    "    text = text.replace(\"n'\", \"ne \")\n",
    "    text = text.replace(\"t'\", \"te \")\n",
    "    text = text.replace(\"m'\", \"me \")\n",
    "    text = text.replace(\"\\n\", \" \")\n",
    "    return text\n",
    "\n",
    "\n",
    "def stopwords_remove(text, language='french'):\n",
    "    lang_stopwords = set(stopwords.words(language))\n",
    "    token = [token for token in text.lower().split(\" \") if token != \" \" if token not in lang_stopwords]\n",
    "    text = \" \".join([\"\".join(token) for token in token])\n",
    "    return text\n",
    "\n",
    "\n",
    "def preprocessing(text, lex_analysis_method= None):\n",
    "    # Simple text standardisation\n",
    "    text = text.lower()\n",
    "    text = abbreviation(text)\n",
    "    text = punctuation(text)\n",
    "    text = stopwords_remove(text)\n",
    "    # Performing lexical analysis\n",
    "    if lex_analysis_method != 'stem':\n",
    "        lemmatizer = WordNetLemmatizer()\n",
    "        text = ' '.join([lemmatizer.lemmatize(x) for x in nltk.word_tokenize(text)])\n",
    "    elif lex_analysis_method == 'stem':\n",
    "        stemmer = PorterStemmer()\n",
    "        text = ' '.join([stemmer.stem(x) for x in nltk.word_tokenize(text)])\n",
    "    else :\n",
    "        return text\n",
    "    return text"
   ]
  },
  {
   "cell_type": "markdown",
   "metadata": {
    "id": "SRYBrLP-FSsF"
   },
   "source": [
    "### Entraînement du modèle"
   ]
  },
  {
   "cell_type": "markdown",
   "metadata": {
    "id": "ZgRFpxrkJnUY"
   },
   "source": [
    "### [OLD] Modèle simple sans nettoyage, 82% balanced acc"
   ]
  },
  {
   "cell_type": "code",
   "execution_count": 48,
   "metadata": {
    "colab": {
     "base_uri": "https://localhost:8080/"
    },
    "id": "JxBSx3oWJwf3",
    "outputId": "ea8c8574-86fa-45a5-c190-6ee60c559fd5"
   },
   "outputs": [
    {
     "ename": "NameError",
     "evalue": "name 'Pipeline' is not defined",
     "output_type": "error",
     "traceback": [
      "\u001b[1;31m---------------------------------------------------------------------------\u001b[0m",
      "\u001b[1;31mNameError\u001b[0m                                 Traceback (most recent call last)",
      "\u001b[1;32m<ipython-input-48-5419959ce85d>\u001b[0m in \u001b[0;36m<module>\u001b[1;34m\u001b[0m\n\u001b[1;32m----> 1\u001b[1;33m sgd = Pipeline([('vect', CountVectorizer()), #One hot encoding\n\u001b[0m\u001b[0;32m      2\u001b[0m                 \u001b[1;33m(\u001b[0m\u001b[1;34m'tfidf'\u001b[0m\u001b[1;33m,\u001b[0m \u001b[0mTfidfTransformer\u001b[0m\u001b[1;33m(\u001b[0m\u001b[1;33m)\u001b[0m\u001b[1;33m)\u001b[0m\u001b[1;33m,\u001b[0m\u001b[1;33m\u001b[0m\u001b[1;33m\u001b[0m\u001b[0m\n\u001b[0;32m      3\u001b[0m                 \u001b[1;33m(\u001b[0m\u001b[1;34m'clf'\u001b[0m\u001b[1;33m,\u001b[0m \u001b[0mSGDClassifier\u001b[0m\u001b[1;33m(\u001b[0m\u001b[0mrandom_state\u001b[0m\u001b[1;33m=\u001b[0m\u001b[1;36m42\u001b[0m\u001b[1;33m)\u001b[0m\u001b[1;33m)\u001b[0m\u001b[1;33m,\u001b[0m\u001b[1;33m\u001b[0m\u001b[1;33m\u001b[0m\u001b[0m\n\u001b[0;32m      4\u001b[0m                ])\n\u001b[0;32m      5\u001b[0m \u001b[1;33m\u001b[0m\u001b[0m\n",
      "\u001b[1;31mNameError\u001b[0m: name 'Pipeline' is not defined"
     ]
    }
   ],
   "source": [
    "sgd = Pipeline([('vect', CountVectorizer()), #One hot encoding\n",
    "                ('tfidf', TfidfTransformer()),\n",
    "                ('clf', SGDClassifier(random_state=42)),\n",
    "               ])\n",
    "\n",
    "sgd.fit(x_train,y_train)\n",
    "\n",
    "y_pred = sgd.predict(x_test)\n",
    "\n",
    "print('accuracy %s' % accuracy_score(y_pred, y_test))\n",
    "print(classification_report(y_test, y_pred))"
   ]
  },
  {
   "cell_type": "code",
   "execution_count": 50,
   "metadata": {
    "colab": {
     "base_uri": "https://localhost:8080/"
    },
    "id": "x6m68g_zLc_h",
    "outputId": "775a67af-a551-4cb9-caa5-b802c97b70e1"
   },
   "outputs": [
    {
     "name": "stdout",
     "output_type": "stream",
     "text": [
      "Balanced accuracy score : 0.8205193477353152\n"
     ]
    }
   ],
   "source": [
    "balanced_accuracy_over = balanced_accuracy_score(y_test, y_pred)\n",
    "print(\"Balanced accuracy score : \" + str(balanced_accuracy_over))"
   ]
  },
  {
   "cell_type": "code",
   "execution_count": 39,
   "metadata": {},
   "outputs": [
    {
     "ename": "NameError",
     "evalue": "name 'y_pred' is not defined",
     "output_type": "error",
     "traceback": [
      "\u001b[1;31m---------------------------------------------------------------------------\u001b[0m",
      "\u001b[1;31mNameError\u001b[0m                                 Traceback (most recent call last)",
      "\u001b[1;32m<ipython-input-39-4ed8683df8bd>\u001b[0m in \u001b[0;36m<module>\u001b[1;34m\u001b[0m\n\u001b[1;32m----> 1\u001b[1;33m \u001b[0mfbeta_score\u001b[0m \u001b[1;33m=\u001b[0m \u001b[0mfbeta_score\u001b[0m\u001b[1;33m(\u001b[0m\u001b[0my_test\u001b[0m\u001b[1;33m,\u001b[0m \u001b[0my_pred\u001b[0m\u001b[1;33m,\u001b[0m \u001b[0mbeta\u001b[0m\u001b[1;33m=\u001b[0m\u001b[1;36m0.2\u001b[0m\u001b[1;33m,\u001b[0m \u001b[0maverage\u001b[0m\u001b[1;33m=\u001b[0m\u001b[1;34m'weighted'\u001b[0m\u001b[1;33m)\u001b[0m\u001b[1;33m\u001b[0m\u001b[1;33m\u001b[0m\u001b[0m\n\u001b[0m\u001b[0;32m      2\u001b[0m \u001b[0mprint\u001b[0m\u001b[1;33m(\u001b[0m\u001b[1;34m\"F-beta score : \"\u001b[0m \u001b[1;33m+\u001b[0m \u001b[0mstr\u001b[0m\u001b[1;33m(\u001b[0m\u001b[0mfbeta_score\u001b[0m\u001b[1;33m)\u001b[0m\u001b[1;33m)\u001b[0m\u001b[1;33m\u001b[0m\u001b[1;33m\u001b[0m\u001b[0m\n",
      "\u001b[1;31mNameError\u001b[0m: name 'y_pred' is not defined"
     ]
    }
   ],
   "source": [
    "fbeta_score = fbeta_score(y_test, y_pred, beta=0.2, average='weighted')\n",
    "print(\"F-beta score : \" + str(fbeta_score))"
   ]
  },
  {
   "cell_type": "markdown",
   "metadata": {
    "id": "UONz69NhJtBo"
   },
   "source": [
    "### [OK] Modèle simple avec oversampling, 87.5% balanced acc"
   ]
  },
  {
   "cell_type": "code",
   "execution_count": 84,
   "metadata": {
    "colab": {
     "base_uri": "https://localhost:8080/"
    },
    "id": "rJ2KizUJFSsF",
    "outputId": "97bc3d40-4af0-44f2-d567-57045dda2cc8"
   },
   "outputs": [
    {
     "name": "stderr",
     "output_type": "stream",
     "text": [
      "/usr/local/lib/python3.6/dist-packages/sklearn/utils/deprecation.py:87: FutureWarning: Function safe_indexing is deprecated; safe_indexing is deprecated in version 0.22 and will be removed in version 0.24.\n",
      "  warnings.warn(msg, category=FutureWarning)\n"
     ]
    },
    {
     "name": "stdout",
     "output_type": "stream",
     "text": [
      "accuracy 0.8272300469483568\n",
      "                   precision    recall  f1-score   support\n",
      "\n",
      "   find-around-me       0.63      0.81      0.71        67\n",
      "      find-flight       0.71      0.92      0.80        24\n",
      "       find-hotel       0.58      0.87      0.70        55\n",
      "  find-restaurant       0.72      0.94      0.82        93\n",
      "       find-train       0.62      0.95      0.75        21\n",
      "       irrelevant       0.96      0.79      0.87       677\n",
      "provide-showtimes       0.68      0.93      0.79        14\n",
      "         purchase       0.73      0.87      0.80       114\n",
      "\n",
      "         accuracy                           0.83      1065\n",
      "        macro avg       0.71      0.88      0.78      1065\n",
      "     weighted avg       0.86      0.83      0.83      1065\n",
      "\n"
     ]
    }
   ],
   "source": [
    "final_model = Pipeline([('vect', CountVectorizer()), #One hot encoding\n",
    "                ('tfidf', TfidfTransformer()),\n",
    "                ('clf', SGDClassifier(random_state=42, loss=\"log\")),\n",
    "               ])\n",
    "\n",
    "oversample = RandomOverSampler()\n",
    "x_over, y_over = oversample.fit_resample(x_train.reshape(-1, 1), y_train)\n",
    "\n",
    "final_model.fit(x_over[:,0], y_over)\n",
    "\n",
    "y_pred = final_model.predict(x_test)\n",
    "\n",
    "print('accuracy %s' % accuracy_score(y_pred, y_test))\n",
    "print(classification_report(y_test, y_pred))"
   ]
  },
  {
   "cell_type": "code",
   "execution_count": 85,
   "metadata": {
    "colab": {
     "base_uri": "https://localhost:8080/"
    },
    "id": "HBqyVhEFLQ-T",
    "outputId": "bc803d64-a45d-42a5-e5d8-b7f2ad2f0615"
   },
   "outputs": [
    {
     "name": "stdout",
     "output_type": "stream",
     "text": [
      "Balanced accuracy score : 0.8843629769564207\n"
     ]
    }
   ],
   "source": [
    "balanced_accuracy_over = balanced_accuracy_score(y_test, y_pred)\n",
    "print(\"Balanced accuracy score : \" + str(balanced_accuracy_over))"
   ]
  },
  {
   "cell_type": "markdown",
   "metadata": {
    "id": "DlhA0WGpKDzR"
   },
   "source": [
    "### [OLD] Modèle simple avec nettoyage : balanced acc 73%"
   ]
  },
  {
   "cell_type": "code",
   "execution_count": 45,
   "metadata": {
    "colab": {
     "base_uri": "https://localhost:8080/"
    },
    "id": "CNbv9ONrKIGo",
    "outputId": "a9da9f3c-6887-42d5-f57c-57fe1c7d164f"
   },
   "outputs": [
    {
     "name": "stdout",
     "output_type": "stream",
     "text": [
      "accuracy 0.8347417840375587\n",
      "                   precision    recall  f1-score   support\n",
      "\n",
      "   find-around-me       0.73      0.49      0.59        67\n",
      "      find-flight       0.95      0.83      0.89        24\n",
      "       find-hotel       0.72      0.65      0.69        55\n",
      "  find-restaurant       0.84      0.73      0.78        93\n",
      "       find-train       0.74      0.81      0.77        21\n",
      "       irrelevant       0.85      0.94      0.89       677\n",
      "provide-showtimes       0.73      0.79      0.76        14\n",
      "         purchase       0.82      0.60      0.69       114\n",
      "\n",
      "         accuracy                           0.83      1065\n",
      "        macro avg       0.80      0.73      0.76      1065\n",
      "     weighted avg       0.83      0.83      0.83      1065\n",
      "\n"
     ]
    }
   ],
   "source": [
    "sgd_n = Pipeline([('vect', CountVectorizer()), #One hot encoding\n",
    "                ('tfidf', TfidfTransformer()),\n",
    "                ('clf', SGDClassifier(random_state=42)),\n",
    "               ])\n",
    "\n",
    "x_train_2 = np.array([preprocessing(x) for x in x_train])\n",
    "x_test_2  = np.array([preprocessing(x) for x in x_test ])\n",
    "\n",
    "sgd_n.fit(x_train_2,y_train)\n",
    "\n",
    "y_pred = sgd_n.predict(x_test)\n",
    "\n",
    "print('accuracy %s' % accuracy_score(y_pred, y_test))\n",
    "print(classification_report(y_test, y_pred))"
   ]
  },
  {
   "cell_type": "code",
   "execution_count": 46,
   "metadata": {
    "colab": {
     "base_uri": "https://localhost:8080/"
    },
    "id": "sWJXhyN7Kz6Q",
    "outputId": "877df0c8-7a72-4946-f860-ade9f55be418"
   },
   "outputs": [
    {
     "name": "stdout",
     "output_type": "stream",
     "text": [
      "Balanced accuracy score : 0.7303458650583161\n"
     ]
    }
   ],
   "source": [
    "balanced_accuracy_over = balanced_accuracy_score(y_test, y_pred)\n",
    "print(\"Balanced accuracy score : \" + str(balanced_accuracy_over))"
   ]
  },
  {
   "cell_type": "markdown",
   "metadata": {
    "id": "fRdbYKxuKS5q"
   },
   "source": [
    "### [OLD] Modèle simple avec nettoyage + oversampling : 86% balanced acc"
   ]
  },
  {
   "cell_type": "code",
   "execution_count": 43,
   "metadata": {
    "colab": {
     "base_uri": "https://localhost:8080/"
    },
    "id": "TZwXrtdtKV8E",
    "outputId": "26a47fb4-0779-4b56-e5e3-ad439e16a248"
   },
   "outputs": [
    {
     "name": "stderr",
     "output_type": "stream",
     "text": [
      "/usr/local/lib/python3.6/dist-packages/sklearn/utils/deprecation.py:87: FutureWarning: Function safe_indexing is deprecated; safe_indexing is deprecated in version 0.22 and will be removed in version 0.24.\n",
      "  warnings.warn(msg, category=FutureWarning)\n"
     ]
    },
    {
     "name": "stdout",
     "output_type": "stream",
     "text": [
      "accuracy 0.8309859154929577\n",
      "                   precision    recall  f1-score   support\n",
      "\n",
      "   find-around-me       0.61      0.73      0.67        67\n",
      "      find-flight       0.81      0.88      0.84        24\n",
      "       find-hotel       0.59      0.85      0.70        55\n",
      "  find-restaurant       0.71      0.94      0.81        93\n",
      "       find-train       0.65      0.95      0.77        21\n",
      "       irrelevant       0.94      0.82      0.87       677\n",
      "provide-showtimes       0.75      0.86      0.80        14\n",
      "         purchase       0.77      0.85      0.81       114\n",
      "\n",
      "         accuracy                           0.83      1065\n",
      "        macro avg       0.73      0.86      0.78      1065\n",
      "     weighted avg       0.85      0.83      0.84      1065\n",
      "\n"
     ]
    }
   ],
   "source": [
    "sgd_n_o = Pipeline([('vect', CountVectorizer()), #One hot encoding\n",
    "                ('tfidf', TfidfTransformer()),\n",
    "                ('clf', SGDClassifier(random_state=42)),\n",
    "               ])\n",
    "\n",
    "x_train_2 = np.array([preprocessing(x) for x in x_train])\n",
    "x_test_2  = np.array([preprocessing(x) for x in x_test ])\n",
    "\n",
    "x_over_2, y_over_2 = oversample.fit_resample(x_train_2.reshape(-1, 1), y_train)\n",
    "\n",
    "sgd_n_o.fit(x_over_2[:,0], y_over_2)\n",
    "\n",
    "y_pred = sgd_n_o.predict(x_test_2)\n",
    "\n",
    "print('accuracy %s' % accuracy_score(y_pred, y_test))\n",
    "print(classification_report(y_test, y_pred))"
   ]
  },
  {
   "cell_type": "code",
   "execution_count": 44,
   "metadata": {
    "colab": {
     "base_uri": "https://localhost:8080/"
    },
    "id": "NzHP5AxyFSsG",
    "outputId": "7ff2b37c-2f5e-4de1-d5a4-09d7a04e7064"
   },
   "outputs": [
    {
     "name": "stdout",
     "output_type": "stream",
     "text": [
      "Balanced accuracy score : 0.8590169377869739\n"
     ]
    }
   ],
   "source": [
    "balanced_accuracy_over = balanced_accuracy_score(y_test, y_pred)\n",
    "print(\"Balanced accuracy score : \" + str(balanced_accuracy_over))"
   ]
  },
  {
   "cell_type": "markdown",
   "metadata": {
    "id": "Pf6JXOgNFSsG"
   },
   "source": [
    "### Texthero"
   ]
  },
  {
   "cell_type": "code",
   "execution_count": null,
   "metadata": {
    "id": "M9mqQcAfFSsG"
   },
   "outputs": [],
   "source": [
    "nlp = pipeline('fill-mask', model=\"camembert-base\")\n",
    "nlp('<mask> mange du chocolat')"
   ]
  },
  {
   "cell_type": "markdown",
   "metadata": {
    "id": "J6W426aqFSsG"
   },
   "source": [
    "#### Tentative non concluante de nettoyage de données :\n",
    "#### 1. preprocesser les phrases de toutes la base de données \n",
    "#### 2. enlever les données de la bdd qui sont vides ([])\n",
    "#### 3. remplacer certains mots pertinents dans la phrase grâce au nlp fill-mask"
   ]
  },
  {
   "cell_type": "markdown",
   "metadata": {
    "id": "YUu6gTkOMtzz"
   },
   "source": [
    "### Sauvegarde du model"
   ]
  },
  {
   "cell_type": "code",
   "execution_count": 86,
   "metadata": {
    "colab": {
     "base_uri": "https://localhost:8080/"
    },
    "id": "IFrYqLVuMwGD",
    "outputId": "980d95e5-5436-4caa-ccf7-71b92ba284d7"
   },
   "outputs": [
    {
     "data": {
      "text/plain": [
       "['nlp_model_log.pkl']"
      ]
     },
     "execution_count": 86,
     "metadata": {
      "tags": []
     },
     "output_type": "execute_result"
    }
   ],
   "source": [
    "import joblib\n",
    "\n",
    "joblib.dump(final_model,\"nlp_model_log.pkl\")"
   ]
  },
  {
   "cell_type": "code",
   "execution_count": 87,
   "metadata": {
    "id": "4mxMf6jbNBJT"
   },
   "outputs": [],
   "source": [
    "model_loaded = joblib.load(\"nlp_model_log.pkl\")"
   ]
  },
  {
   "cell_type": "code",
   "execution_count": 95,
   "metadata": {
    "colab": {
     "base_uri": "https://localhost:8080/",
     "height": 35
    },
    "id": "01gdWANdL5o6",
    "outputId": "7a0ba281-6da2-4320-be8a-e2ee48db8600"
   },
   "outputs": [
    {
     "data": {
      "application/vnd.google.colaboratory.intrinsic+json": {
       "type": "string"
      },
      "text/plain": [
       "'find-flight'"
      ]
     },
     "execution_count": 95,
     "metadata": {
      "tags": []
     },
     "output_type": "execute_result"
    }
   ],
   "source": [
    "model_loaded.predict([\"Je veux prendre un avion pour madagascar\"])[0]"
   ]
  },
  {
   "cell_type": "code",
   "execution_count": 110,
   "metadata": {
    "colab": {
     "base_uri": "https://localhost:8080/"
    },
    "id": "W7mqeMpqR5Mk",
    "outputId": "1084884b-f76a-4624-ecec-70c92c4ce510"
   },
   "outputs": [
    {
     "data": {
      "text/plain": [
       "array([[0.0188728 , 0.83888506, 0.01727027, 0.02723571, 0.00342916,\n",
       "        0.04032276, 0.00547596, 0.04850828]])"
      ]
     },
     "execution_count": 110,
     "metadata": {
      "tags": []
     },
     "output_type": "execute_result"
    }
   ],
   "source": [
    "labels = ['find-around-me','find-flight','find-hotel', 'find-restaurant', 'find-train',  'irrelevant', 'provide-showtimes', 'purchase']\n",
    "pred=model_loaded.predict_proba([\"Je veux prendre un avion pour madagascar\"])\n",
    "pred"
   ]
  },
  {
   "cell_type": "code",
   "execution_count": 111,
   "metadata": {
    "colab": {
     "base_uri": "https://localhost:8080/"
    },
    "id": "b_-RO6zrTeAs",
    "outputId": "ce4bdaf5-1950-4f9a-bdc4-0392a515204f"
   },
   "outputs": [
    {
     "name": "stdout",
     "output_type": "stream",
     "text": [
      "defaultdict(<class 'str'>, {'find-around-me': 0.02, 'find-flight': 0.84, 'find-hotel': 0.02, 'find-restaurant': 0.03, 'find-train': 0.0, 'irrelevant': 0.04, 'provide-showtimes': 0.01, 'purchase': 0.05})\n"
     ]
    }
   ],
   "source": [
    "from collections import defaultdict\n",
    "\n",
    "json = defaultdict(str)\n",
    "for i in range(len(labels)):\n",
    "  json[labels[i]]=np.round(pred[0][i],2)\n",
    "\n",
    "print(json)"
   ]
  },
  {
   "cell_type": "markdown",
   "metadata": {
    "id": "AeSFNiGKFSsI"
   },
   "source": [
    "## Exercice 4"
   ]
  },
  {
   "cell_type": "code",
   "execution_count": null,
   "metadata": {
    "id": "LkEtT-eYPhHG"
   },
   "outputs": [],
   "source": [
    "from typing import Optional\n",
    "from fastapi import FastAPI\n",
    "from collections import defaultdict\n",
    "\n",
    "import numpy as np\n",
    "import sklearn\n",
    "import joblib\n",
    "\n",
    "\n",
    "labels = ['find-around-me','find-flight','find-hotel', 'find-restaurant', 'find-train',  'irrelevant', 'provide-showtimes', 'purchase']\n",
    "model = joblib.load(\"nlp_model_log.pkl\")\n",
    "\n",
    "app = FastAPI()\n",
    "\n",
    "\n",
    "@app.get(\"/\")\n",
    "def read_root():\n",
    "    return {\"Hello\": \"World\"}\n",
    "\n",
    "\n",
    "@app.get(\"/sentence/{sentence}\")\n",
    "def read_item(sentence: str):\n",
    "    json = defaultdict(str)\n",
    "\n",
    "    pred = model.predict([str(sentence)])[0] #label\n",
    "    pred_proba = model.predict_proba([str(sentence)])[0] #tableau de probas\n",
    "\n",
    "    for i in range(len(labels)):\n",
    "        json[labels[i]]=np.round(pred_proba[i],2)\n",
    "    return {\"sentence\": str(sentence), \"pred\":pred, \"pred_proba\":json}"
   ]
  },
  {
   "cell_type": "markdown",
   "metadata": {
    "id": "WRbhef4ZFSsJ"
   },
   "source": [
    "##### Réponse / idées : "
   ]
  },
  {
   "cell_type": "markdown",
   "metadata": {
    "id": "IujVKbLiFSsJ"
   },
   "source": [
    "## Exercice 5"
   ]
  },
  {
   "cell_type": "code",
   "execution_count": null,
   "metadata": {
    "id": "1GyAOwRtPgio"
   },
   "outputs": [],
   "source": []
  },
  {
   "cell_type": "markdown",
   "metadata": {
    "id": "KkOpCyFQFSsJ"
   },
   "source": [
    "##### Réponse / idées : "
   ]
  },
  {
   "cell_type": "code",
   "execution_count": null,
   "metadata": {
    "id": "C3X684mlFSsJ"
   },
   "outputs": [],
   "source": []
  }
 ],
 "metadata": {
  "colab": {
   "collapsed_sections": [
    "kyieJlmeFSr7",
    "D0yKxV0IFSr8",
    "ieUq9CuWFSr9",
    "Y-5ZzbfaFSr9",
    "ZC1ungYcFSr-",
    "6DuT9n0HFSr_",
    "ZqFaNwU4FSsA",
    "oyHIL-nTFSsB",
    "rbL1iGK7FSsC",
    "7JZRmk7KFSsE",
    "JgGpeqXAFSsE",
    "ZgRFpxrkJnUY",
    "DlhA0WGpKDzR",
    "fRdbYKxuKS5q"
   ],
   "name": "projet_inge_logi.ipynb",
   "provenance": [],
   "toc_visible": true
  },
  "kernelspec": {
   "display_name": "Python 3",
   "language": "python",
   "name": "python3"
  },
  "language_info": {
   "codemirror_mode": {
    "name": "ipython",
    "version": 3
   },
   "file_extension": ".py",
   "mimetype": "text/x-python",
   "name": "python",
   "nbconvert_exporter": "python",
   "pygments_lexer": "ipython3",
   "version": "3.7.6"
  }
 },
 "nbformat": 4,
 "nbformat_minor": 1
}
